{
 "cells": [
  {
   "cell_type": "code",
   "execution_count": 1,
   "metadata": {
    "tags": []
   },
   "outputs": [
    {
     "output_type": "stream",
     "name": "stderr",
     "text": "Initializing Hail with default parameters...\nRunning on Apache Spark version 2.4.1\nSparkUI available at http://192.168.0.181:4040\nWelcome to\n     __  __     <>__\n    / /_/ /__  __/ /\n   / __  / _ `/ / /\n  /_/ /_/\\_,_/_/_/   version 0.2.54-cbc3bbe7f14c\nLOGGING: writing to /Users/alexkotlar/projects/hail/hail-20200821-1424-0.2.54-cbc3bbe7f14c.log\n"
    },
    {
     "output_type": "display_data",
     "data": {
      "text/plain": "+---------------+------------+-------+-------+-------+\n| locus         | alleles    |  0.ac |  1.ac |  2.ac |\n+---------------+------------+-------+-------+-------+\n| locus<GRCh37> | array<str> | int32 | int32 | int32 |\n+---------------+------------+-------+-------+-------+\n| 1:1           | [\"A\",\"C\"]  |     1 |     2 |     1 |\n| 1:2           | [\"A\",\"C\"]  |     1 |     2 |     1 |\n| 1:3           | [\"A\",\"C\"]  |     1 |     2 |     2 |\n| 1:4           | [\"A\",\"C\"]  |     2 |     1 |     1 |\n| 1:5           | [\"A\",\"C\"]  |     0 |     1 |     2 |\n| 1:6           | [\"A\",\"C\"]  |     0 |     2 |     1 |\n| 1:7           | [\"A\",\"C\"]  |     1 |     1 |     0 |\n| 1:8           | [\"A\",\"C\"]  |     2 |     2 |     2 |\n| 1:9           | [\"A\",\"C\"]  |     2 |     2 |     2 |\n| 1:10          | [\"A\",\"C\"]  |     1 |     0 |     1 |\n+---------------+------------+-------+-------+-------+\nshowing top 10 rows\nshowing the first 3 of 100 columns",
      "text/html": "<table><thead><tr><td style=\"white-space: nowrap; max-width: 500px; overflow: hidden; text-overflow: ellipsis; \" colspan=\"1\"><div style=\"text-align: left;\"></div></td><td style=\"white-space: nowrap; max-width: 500px; overflow: hidden; text-overflow: ellipsis; \" colspan=\"1\"><div style=\"text-align: left;\"></div></td><td style=\"white-space: nowrap; max-width: 500px; overflow: hidden; text-overflow: ellipsis; \" colspan=\"1\"><div style=\"text-align: left;\"></div></td><td style=\"white-space: nowrap; max-width: 500px; overflow: hidden; text-overflow: ellipsis; \" colspan=\"1\"><div style=\"text-align: left;\"></div></td><td style=\"white-space: nowrap; max-width: 500px; overflow: hidden; text-overflow: ellipsis; \" colspan=\"1\"><div style=\"text-align: left;\"></div></td></tr><tr><td style=\"white-space: nowrap; max-width: 500px; overflow: hidden; text-overflow: ellipsis; \" colspan=\"1\"><div style=\"text-align: left;\"></div></td><td style=\"white-space: nowrap; max-width: 500px; overflow: hidden; text-overflow: ellipsis; \" colspan=\"1\"><div style=\"text-align: left;\"></div></td><td style=\"white-space: nowrap; max-width: 500px; overflow: hidden; text-overflow: ellipsis; \" colspan=\"1\"><div style=\"text-align: left;border-bottom: solid 2px #000; padding-bottom: 5px\">0</div></td><td style=\"white-space: nowrap; max-width: 500px; overflow: hidden; text-overflow: ellipsis; \" colspan=\"1\"><div style=\"text-align: left;border-bottom: solid 2px #000; padding-bottom: 5px\">1</div></td><td style=\"white-space: nowrap; max-width: 500px; overflow: hidden; text-overflow: ellipsis; \" colspan=\"1\"><div style=\"text-align: left;border-bottom: solid 2px #000; padding-bottom: 5px\">2</div></td></tr><tr><td style=\"white-space: nowrap; max-width: 500px; overflow: hidden; text-overflow: ellipsis; \" colspan=\"1\"><div style=\"text-align: left;border-bottom: solid 2px #000; padding-bottom: 5px\">locus</div></td><td style=\"white-space: nowrap; max-width: 500px; overflow: hidden; text-overflow: ellipsis; \" colspan=\"1\"><div style=\"text-align: left;border-bottom: solid 2px #000; padding-bottom: 5px\">alleles</div></td><td style=\"white-space: nowrap; max-width: 500px; overflow: hidden; text-overflow: ellipsis; \" colspan=\"1\"><div style=\"text-align: left;border-bottom: solid 2px #000; padding-bottom: 5px\">ac</div></td><td style=\"white-space: nowrap; max-width: 500px; overflow: hidden; text-overflow: ellipsis; \" colspan=\"1\"><div style=\"text-align: left;border-bottom: solid 2px #000; padding-bottom: 5px\">ac</div></td><td style=\"white-space: nowrap; max-width: 500px; overflow: hidden; text-overflow: ellipsis; \" colspan=\"1\"><div style=\"text-align: left;border-bottom: solid 2px #000; padding-bottom: 5px\">ac</div></td></tr><tr><td style=\"white-space: nowrap; max-width: 500px; overflow: hidden; text-overflow: ellipsis; text-align: left;\">locus&lt;GRCh37&gt;</td><td style=\"white-space: nowrap; max-width: 500px; overflow: hidden; text-overflow: ellipsis; text-align: left;\">array&lt;str&gt;</td><td style=\"white-space: nowrap; max-width: 500px; overflow: hidden; text-overflow: ellipsis; text-align: left;\">int32</td><td style=\"white-space: nowrap; max-width: 500px; overflow: hidden; text-overflow: ellipsis; text-align: left;\">int32</td><td style=\"white-space: nowrap; max-width: 500px; overflow: hidden; text-overflow: ellipsis; text-align: left;\">int32</td></tr>\n</thead><tbody><tr><td style=\"white-space: nowrap; max-width: 500px; overflow: hidden; text-overflow: ellipsis; \">1:1</td><td style=\"white-space: nowrap; max-width: 500px; overflow: hidden; text-overflow: ellipsis; \">[&quot;A&quot;,&quot;C&quot;]</td><td style=\"white-space: nowrap; max-width: 500px; overflow: hidden; text-overflow: ellipsis; \">1</td><td style=\"white-space: nowrap; max-width: 500px; overflow: hidden; text-overflow: ellipsis; \">2</td><td style=\"white-space: nowrap; max-width: 500px; overflow: hidden; text-overflow: ellipsis; \">1</td></tr>\n<tr><td style=\"white-space: nowrap; max-width: 500px; overflow: hidden; text-overflow: ellipsis; \">1:2</td><td style=\"white-space: nowrap; max-width: 500px; overflow: hidden; text-overflow: ellipsis; \">[&quot;A&quot;,&quot;C&quot;]</td><td style=\"white-space: nowrap; max-width: 500px; overflow: hidden; text-overflow: ellipsis; \">1</td><td style=\"white-space: nowrap; max-width: 500px; overflow: hidden; text-overflow: ellipsis; \">2</td><td style=\"white-space: nowrap; max-width: 500px; overflow: hidden; text-overflow: ellipsis; \">1</td></tr>\n<tr><td style=\"white-space: nowrap; max-width: 500px; overflow: hidden; text-overflow: ellipsis; \">1:3</td><td style=\"white-space: nowrap; max-width: 500px; overflow: hidden; text-overflow: ellipsis; \">[&quot;A&quot;,&quot;C&quot;]</td><td style=\"white-space: nowrap; max-width: 500px; overflow: hidden; text-overflow: ellipsis; \">1</td><td style=\"white-space: nowrap; max-width: 500px; overflow: hidden; text-overflow: ellipsis; \">2</td><td style=\"white-space: nowrap; max-width: 500px; overflow: hidden; text-overflow: ellipsis; \">2</td></tr>\n<tr><td style=\"white-space: nowrap; max-width: 500px; overflow: hidden; text-overflow: ellipsis; \">1:4</td><td style=\"white-space: nowrap; max-width: 500px; overflow: hidden; text-overflow: ellipsis; \">[&quot;A&quot;,&quot;C&quot;]</td><td style=\"white-space: nowrap; max-width: 500px; overflow: hidden; text-overflow: ellipsis; \">2</td><td style=\"white-space: nowrap; max-width: 500px; overflow: hidden; text-overflow: ellipsis; \">1</td><td style=\"white-space: nowrap; max-width: 500px; overflow: hidden; text-overflow: ellipsis; \">1</td></tr>\n<tr><td style=\"white-space: nowrap; max-width: 500px; overflow: hidden; text-overflow: ellipsis; \">1:5</td><td style=\"white-space: nowrap; max-width: 500px; overflow: hidden; text-overflow: ellipsis; \">[&quot;A&quot;,&quot;C&quot;]</td><td style=\"white-space: nowrap; max-width: 500px; overflow: hidden; text-overflow: ellipsis; \">0</td><td style=\"white-space: nowrap; max-width: 500px; overflow: hidden; text-overflow: ellipsis; \">1</td><td style=\"white-space: nowrap; max-width: 500px; overflow: hidden; text-overflow: ellipsis; \">2</td></tr>\n<tr><td style=\"white-space: nowrap; max-width: 500px; overflow: hidden; text-overflow: ellipsis; \">1:6</td><td style=\"white-space: nowrap; max-width: 500px; overflow: hidden; text-overflow: ellipsis; \">[&quot;A&quot;,&quot;C&quot;]</td><td style=\"white-space: nowrap; max-width: 500px; overflow: hidden; text-overflow: ellipsis; \">0</td><td style=\"white-space: nowrap; max-width: 500px; overflow: hidden; text-overflow: ellipsis; \">2</td><td style=\"white-space: nowrap; max-width: 500px; overflow: hidden; text-overflow: ellipsis; \">1</td></tr>\n<tr><td style=\"white-space: nowrap; max-width: 500px; overflow: hidden; text-overflow: ellipsis; \">1:7</td><td style=\"white-space: nowrap; max-width: 500px; overflow: hidden; text-overflow: ellipsis; \">[&quot;A&quot;,&quot;C&quot;]</td><td style=\"white-space: nowrap; max-width: 500px; overflow: hidden; text-overflow: ellipsis; \">1</td><td style=\"white-space: nowrap; max-width: 500px; overflow: hidden; text-overflow: ellipsis; \">1</td><td style=\"white-space: nowrap; max-width: 500px; overflow: hidden; text-overflow: ellipsis; \">0</td></tr>\n<tr><td style=\"white-space: nowrap; max-width: 500px; overflow: hidden; text-overflow: ellipsis; \">1:8</td><td style=\"white-space: nowrap; max-width: 500px; overflow: hidden; text-overflow: ellipsis; \">[&quot;A&quot;,&quot;C&quot;]</td><td style=\"white-space: nowrap; max-width: 500px; overflow: hidden; text-overflow: ellipsis; \">2</td><td style=\"white-space: nowrap; max-width: 500px; overflow: hidden; text-overflow: ellipsis; \">2</td><td style=\"white-space: nowrap; max-width: 500px; overflow: hidden; text-overflow: ellipsis; \">2</td></tr>\n<tr><td style=\"white-space: nowrap; max-width: 500px; overflow: hidden; text-overflow: ellipsis; \">1:9</td><td style=\"white-space: nowrap; max-width: 500px; overflow: hidden; text-overflow: ellipsis; \">[&quot;A&quot;,&quot;C&quot;]</td><td style=\"white-space: nowrap; max-width: 500px; overflow: hidden; text-overflow: ellipsis; \">2</td><td style=\"white-space: nowrap; max-width: 500px; overflow: hidden; text-overflow: ellipsis; \">2</td><td style=\"white-space: nowrap; max-width: 500px; overflow: hidden; text-overflow: ellipsis; \">2</td></tr>\n<tr><td style=\"white-space: nowrap; max-width: 500px; overflow: hidden; text-overflow: ellipsis; \">1:10</td><td style=\"white-space: nowrap; max-width: 500px; overflow: hidden; text-overflow: ellipsis; \">[&quot;A&quot;,&quot;C&quot;]</td><td style=\"white-space: nowrap; max-width: 500px; overflow: hidden; text-overflow: ellipsis; \">1</td><td style=\"white-space: nowrap; max-width: 500px; overflow: hidden; text-overflow: ellipsis; \">0</td><td style=\"white-space: nowrap; max-width: 500px; overflow: hidden; text-overflow: ellipsis; \">1</td></tr>\n</tbody></table><p style=\"background: #fdd; padding: 0.4em;\">showing top 10 rows</p>\n<p style=\"background: #fdd; padding: 0.4em;\">showing the first 3 of 100 columns</p>\n"
     },
     "metadata": {}
    },
    {
     "output_type": "stream",
     "name": "stdout",
     "text": "None\n"
    },
    {
     "output_type": "display_data",
     "data": {
      "text/plain": "+------------+-----------+\n| sample_idx |         y |\n+------------+-----------+\n|      int32 |   float64 |\n+------------+-----------+\n|          0 | -3.66e-01 |\n|          1 |  7.39e-02 |\n|          2 | -6.14e-01 |\n|          3 | -1.44e+00 |\n|          4 |  1.78e+00 |\n|          5 |  8.34e-01 |\n|          6 |  1.20e+00 |\n|          7 | -1.24e-01 |\n|          8 |  2.38e-01 |\n|          9 | -1.23e+00 |\n+------------+-----------+\nshowing top 10 rows",
      "text/html": "<table><thead><tr><td style=\"white-space: nowrap; max-width: 500px; overflow: hidden; text-overflow: ellipsis; \" colspan=\"1\"><div style=\"text-align: left;\"></div></td><td style=\"white-space: nowrap; max-width: 500px; overflow: hidden; text-overflow: ellipsis; \" colspan=\"1\"><div style=\"text-align: left;\"></div></td></tr><tr><td style=\"white-space: nowrap; max-width: 500px; overflow: hidden; text-overflow: ellipsis; \" colspan=\"1\"><div style=\"text-align: left;border-bottom: solid 2px #000; padding-bottom: 5px\">sample_idx</div></td><td style=\"white-space: nowrap; max-width: 500px; overflow: hidden; text-overflow: ellipsis; \" colspan=\"1\"><div style=\"text-align: left;border-bottom: solid 2px #000; padding-bottom: 5px\">y</div></td></tr><tr><td style=\"white-space: nowrap; max-width: 500px; overflow: hidden; text-overflow: ellipsis; text-align: left;\">int32</td><td style=\"white-space: nowrap; max-width: 500px; overflow: hidden; text-overflow: ellipsis; text-align: left;\">float64</td></tr>\n</thead><tbody><tr><td style=\"white-space: nowrap; max-width: 500px; overflow: hidden; text-overflow: ellipsis; \">0</td><td style=\"white-space: nowrap; max-width: 500px; overflow: hidden; text-overflow: ellipsis; \">-3.66e-01</td></tr>\n<tr><td style=\"white-space: nowrap; max-width: 500px; overflow: hidden; text-overflow: ellipsis; \">1</td><td style=\"white-space: nowrap; max-width: 500px; overflow: hidden; text-overflow: ellipsis; \">7.39e-02</td></tr>\n<tr><td style=\"white-space: nowrap; max-width: 500px; overflow: hidden; text-overflow: ellipsis; \">2</td><td style=\"white-space: nowrap; max-width: 500px; overflow: hidden; text-overflow: ellipsis; \">-6.14e-01</td></tr>\n<tr><td style=\"white-space: nowrap; max-width: 500px; overflow: hidden; text-overflow: ellipsis; \">3</td><td style=\"white-space: nowrap; max-width: 500px; overflow: hidden; text-overflow: ellipsis; \">-1.44e+00</td></tr>\n<tr><td style=\"white-space: nowrap; max-width: 500px; overflow: hidden; text-overflow: ellipsis; \">4</td><td style=\"white-space: nowrap; max-width: 500px; overflow: hidden; text-overflow: ellipsis; \">1.78e+00</td></tr>\n<tr><td style=\"white-space: nowrap; max-width: 500px; overflow: hidden; text-overflow: ellipsis; \">5</td><td style=\"white-space: nowrap; max-width: 500px; overflow: hidden; text-overflow: ellipsis; \">8.34e-01</td></tr>\n<tr><td style=\"white-space: nowrap; max-width: 500px; overflow: hidden; text-overflow: ellipsis; \">6</td><td style=\"white-space: nowrap; max-width: 500px; overflow: hidden; text-overflow: ellipsis; \">1.20e+00</td></tr>\n<tr><td style=\"white-space: nowrap; max-width: 500px; overflow: hidden; text-overflow: ellipsis; \">7</td><td style=\"white-space: nowrap; max-width: 500px; overflow: hidden; text-overflow: ellipsis; \">-1.24e-01</td></tr>\n<tr><td style=\"white-space: nowrap; max-width: 500px; overflow: hidden; text-overflow: ellipsis; \">8</td><td style=\"white-space: nowrap; max-width: 500px; overflow: hidden; text-overflow: ellipsis; \">2.38e-01</td></tr>\n<tr><td style=\"white-space: nowrap; max-width: 500px; overflow: hidden; text-overflow: ellipsis; \">9</td><td style=\"white-space: nowrap; max-width: 500px; overflow: hidden; text-overflow: ellipsis; \">-1.23e+00</td></tr>\n</tbody></table><p style=\"background: #fdd; padding: 0.4em;\">showing top 10 rows</p>\n"
     },
     "metadata": {}
    }
   ],
   "source": [
    "import numpy as np\n",
    "import hail as hl\n",
    "from hail import methods\n",
    "import scipy as sp\n",
    "import pandas as pd\n",
    "from math import sqrt, pi\n",
    "from os import path\n",
    "\n",
    "def getIfNotExists(nsample = 1000, mvariants = 50_000):\n",
    "    mtPath = f\"balding_nichols_1_{nsample}_{mvariants}.mt\"\n",
    "\n",
    "    if not path.exists(mtPath):\n",
    "        mt = hl.balding_nichols_model(1, nsample, mvariants)\n",
    "        # this discards GT...wtf\n",
    "        mt = hl.experimental.ldscsim.simulate_phenotypes(mt, mt.GT, .8)\n",
    "        mt = mt.select_entries(ac = mt.GT.n_alt_alleles())\n",
    "        mt.write(mtPath)\n",
    "    else:\n",
    "        mt = hl.methods.read_matrix_table(mtPath)\n",
    "    \n",
    "    return mt\n",
    "\n",
    "mt = getIfNotExists(100, 20000)\n",
    "print(mt.show())\n",
    "\n",
    "mt.y.show()\n",
    "mtOrig = mt"
   ]
  },
  {
   "cell_type": "markdown",
   "metadata": {},
   "source": [
    "# Block genotype matrix, into nSample x kSnpsPerBlock x Bblocks"
   ]
  },
  {
   "cell_type": "code",
   "execution_count": 2,
   "metadata": {
    "tags": []
   },
   "outputs": [
    {
     "output_type": "stream",
     "name": "stdout",
     "text": "Original mt\n"
    },
    {
     "output_type": "display_data",
     "data": {
      "text/plain": "+---------------+------------+-------+-------+-------+\n| locus         | alleles    |  0.ac |  1.ac |  2.ac |\n+---------------+------------+-------+-------+-------+\n| locus<GRCh37> | array<str> | int32 | int32 | int32 |\n+---------------+------------+-------+-------+-------+\n| 1:1           | [\"A\",\"C\"]  |     1 |     2 |     1 |\n| 1:2           | [\"A\",\"C\"]  |     1 |     2 |     1 |\n| 1:3           | [\"A\",\"C\"]  |     1 |     2 |     2 |\n| 1:4           | [\"A\",\"C\"]  |     2 |     1 |     1 |\n| 1:5           | [\"A\",\"C\"]  |     0 |     1 |     2 |\n| 1:6           | [\"A\",\"C\"]  |     0 |     2 |     1 |\n| 1:7           | [\"A\",\"C\"]  |     1 |     1 |     0 |\n| 1:8           | [\"A\",\"C\"]  |     2 |     2 |     2 |\n| 1:9           | [\"A\",\"C\"]  |     2 |     2 |     2 |\n| 1:10          | [\"A\",\"C\"]  |     1 |     0 |     1 |\n+---------------+------------+-------+-------+-------+\nshowing top 10 rows\nshowing the first 3 of 100 columns",
      "text/html": "<table><thead><tr><td style=\"white-space: nowrap; max-width: 500px; overflow: hidden; text-overflow: ellipsis; \" colspan=\"1\"><div style=\"text-align: left;\"></div></td><td style=\"white-space: nowrap; max-width: 500px; overflow: hidden; text-overflow: ellipsis; \" colspan=\"1\"><div style=\"text-align: left;\"></div></td><td style=\"white-space: nowrap; max-width: 500px; overflow: hidden; text-overflow: ellipsis; \" colspan=\"1\"><div style=\"text-align: left;\"></div></td><td style=\"white-space: nowrap; max-width: 500px; overflow: hidden; text-overflow: ellipsis; \" colspan=\"1\"><div style=\"text-align: left;\"></div></td><td style=\"white-space: nowrap; max-width: 500px; overflow: hidden; text-overflow: ellipsis; \" colspan=\"1\"><div style=\"text-align: left;\"></div></td></tr><tr><td style=\"white-space: nowrap; max-width: 500px; overflow: hidden; text-overflow: ellipsis; \" colspan=\"1\"><div style=\"text-align: left;\"></div></td><td style=\"white-space: nowrap; max-width: 500px; overflow: hidden; text-overflow: ellipsis; \" colspan=\"1\"><div style=\"text-align: left;\"></div></td><td style=\"white-space: nowrap; max-width: 500px; overflow: hidden; text-overflow: ellipsis; \" colspan=\"1\"><div style=\"text-align: left;border-bottom: solid 2px #000; padding-bottom: 5px\">0</div></td><td style=\"white-space: nowrap; max-width: 500px; overflow: hidden; text-overflow: ellipsis; \" colspan=\"1\"><div style=\"text-align: left;border-bottom: solid 2px #000; padding-bottom: 5px\">1</div></td><td style=\"white-space: nowrap; max-width: 500px; overflow: hidden; text-overflow: ellipsis; \" colspan=\"1\"><div style=\"text-align: left;border-bottom: solid 2px #000; padding-bottom: 5px\">2</div></td></tr><tr><td style=\"white-space: nowrap; max-width: 500px; overflow: hidden; text-overflow: ellipsis; \" colspan=\"1\"><div style=\"text-align: left;border-bottom: solid 2px #000; padding-bottom: 5px\">locus</div></td><td style=\"white-space: nowrap; max-width: 500px; overflow: hidden; text-overflow: ellipsis; \" colspan=\"1\"><div style=\"text-align: left;border-bottom: solid 2px #000; padding-bottom: 5px\">alleles</div></td><td style=\"white-space: nowrap; max-width: 500px; overflow: hidden; text-overflow: ellipsis; \" colspan=\"1\"><div style=\"text-align: left;border-bottom: solid 2px #000; padding-bottom: 5px\">ac</div></td><td style=\"white-space: nowrap; max-width: 500px; overflow: hidden; text-overflow: ellipsis; \" colspan=\"1\"><div style=\"text-align: left;border-bottom: solid 2px #000; padding-bottom: 5px\">ac</div></td><td style=\"white-space: nowrap; max-width: 500px; overflow: hidden; text-overflow: ellipsis; \" colspan=\"1\"><div style=\"text-align: left;border-bottom: solid 2px #000; padding-bottom: 5px\">ac</div></td></tr><tr><td style=\"white-space: nowrap; max-width: 500px; overflow: hidden; text-overflow: ellipsis; text-align: left;\">locus&lt;GRCh37&gt;</td><td style=\"white-space: nowrap; max-width: 500px; overflow: hidden; text-overflow: ellipsis; text-align: left;\">array&lt;str&gt;</td><td style=\"white-space: nowrap; max-width: 500px; overflow: hidden; text-overflow: ellipsis; text-align: left;\">int32</td><td style=\"white-space: nowrap; max-width: 500px; overflow: hidden; text-overflow: ellipsis; text-align: left;\">int32</td><td style=\"white-space: nowrap; max-width: 500px; overflow: hidden; text-overflow: ellipsis; text-align: left;\">int32</td></tr>\n</thead><tbody><tr><td style=\"white-space: nowrap; max-width: 500px; overflow: hidden; text-overflow: ellipsis; \">1:1</td><td style=\"white-space: nowrap; max-width: 500px; overflow: hidden; text-overflow: ellipsis; \">[&quot;A&quot;,&quot;C&quot;]</td><td style=\"white-space: nowrap; max-width: 500px; overflow: hidden; text-overflow: ellipsis; \">1</td><td style=\"white-space: nowrap; max-width: 500px; overflow: hidden; text-overflow: ellipsis; \">2</td><td style=\"white-space: nowrap; max-width: 500px; overflow: hidden; text-overflow: ellipsis; \">1</td></tr>\n<tr><td style=\"white-space: nowrap; max-width: 500px; overflow: hidden; text-overflow: ellipsis; \">1:2</td><td style=\"white-space: nowrap; max-width: 500px; overflow: hidden; text-overflow: ellipsis; \">[&quot;A&quot;,&quot;C&quot;]</td><td style=\"white-space: nowrap; max-width: 500px; overflow: hidden; text-overflow: ellipsis; \">1</td><td style=\"white-space: nowrap; max-width: 500px; overflow: hidden; text-overflow: ellipsis; \">2</td><td style=\"white-space: nowrap; max-width: 500px; overflow: hidden; text-overflow: ellipsis; \">1</td></tr>\n<tr><td style=\"white-space: nowrap; max-width: 500px; overflow: hidden; text-overflow: ellipsis; \">1:3</td><td style=\"white-space: nowrap; max-width: 500px; overflow: hidden; text-overflow: ellipsis; \">[&quot;A&quot;,&quot;C&quot;]</td><td style=\"white-space: nowrap; max-width: 500px; overflow: hidden; text-overflow: ellipsis; \">1</td><td style=\"white-space: nowrap; max-width: 500px; overflow: hidden; text-overflow: ellipsis; \">2</td><td style=\"white-space: nowrap; max-width: 500px; overflow: hidden; text-overflow: ellipsis; \">2</td></tr>\n<tr><td style=\"white-space: nowrap; max-width: 500px; overflow: hidden; text-overflow: ellipsis; \">1:4</td><td style=\"white-space: nowrap; max-width: 500px; overflow: hidden; text-overflow: ellipsis; \">[&quot;A&quot;,&quot;C&quot;]</td><td style=\"white-space: nowrap; max-width: 500px; overflow: hidden; text-overflow: ellipsis; \">2</td><td style=\"white-space: nowrap; max-width: 500px; overflow: hidden; text-overflow: ellipsis; \">1</td><td style=\"white-space: nowrap; max-width: 500px; overflow: hidden; text-overflow: ellipsis; \">1</td></tr>\n<tr><td style=\"white-space: nowrap; max-width: 500px; overflow: hidden; text-overflow: ellipsis; \">1:5</td><td style=\"white-space: nowrap; max-width: 500px; overflow: hidden; text-overflow: ellipsis; \">[&quot;A&quot;,&quot;C&quot;]</td><td style=\"white-space: nowrap; max-width: 500px; overflow: hidden; text-overflow: ellipsis; \">0</td><td style=\"white-space: nowrap; max-width: 500px; overflow: hidden; text-overflow: ellipsis; \">1</td><td style=\"white-space: nowrap; max-width: 500px; overflow: hidden; text-overflow: ellipsis; \">2</td></tr>\n<tr><td style=\"white-space: nowrap; max-width: 500px; overflow: hidden; text-overflow: ellipsis; \">1:6</td><td style=\"white-space: nowrap; max-width: 500px; overflow: hidden; text-overflow: ellipsis; \">[&quot;A&quot;,&quot;C&quot;]</td><td style=\"white-space: nowrap; max-width: 500px; overflow: hidden; text-overflow: ellipsis; \">0</td><td style=\"white-space: nowrap; max-width: 500px; overflow: hidden; text-overflow: ellipsis; \">2</td><td style=\"white-space: nowrap; max-width: 500px; overflow: hidden; text-overflow: ellipsis; \">1</td></tr>\n<tr><td style=\"white-space: nowrap; max-width: 500px; overflow: hidden; text-overflow: ellipsis; \">1:7</td><td style=\"white-space: nowrap; max-width: 500px; overflow: hidden; text-overflow: ellipsis; \">[&quot;A&quot;,&quot;C&quot;]</td><td style=\"white-space: nowrap; max-width: 500px; overflow: hidden; text-overflow: ellipsis; \">1</td><td style=\"white-space: nowrap; max-width: 500px; overflow: hidden; text-overflow: ellipsis; \">1</td><td style=\"white-space: nowrap; max-width: 500px; overflow: hidden; text-overflow: ellipsis; \">0</td></tr>\n<tr><td style=\"white-space: nowrap; max-width: 500px; overflow: hidden; text-overflow: ellipsis; \">1:8</td><td style=\"white-space: nowrap; max-width: 500px; overflow: hidden; text-overflow: ellipsis; \">[&quot;A&quot;,&quot;C&quot;]</td><td style=\"white-space: nowrap; max-width: 500px; overflow: hidden; text-overflow: ellipsis; \">2</td><td style=\"white-space: nowrap; max-width: 500px; overflow: hidden; text-overflow: ellipsis; \">2</td><td style=\"white-space: nowrap; max-width: 500px; overflow: hidden; text-overflow: ellipsis; \">2</td></tr>\n<tr><td style=\"white-space: nowrap; max-width: 500px; overflow: hidden; text-overflow: ellipsis; \">1:9</td><td style=\"white-space: nowrap; max-width: 500px; overflow: hidden; text-overflow: ellipsis; \">[&quot;A&quot;,&quot;C&quot;]</td><td style=\"white-space: nowrap; max-width: 500px; overflow: hidden; text-overflow: ellipsis; \">2</td><td style=\"white-space: nowrap; max-width: 500px; overflow: hidden; text-overflow: ellipsis; \">2</td><td style=\"white-space: nowrap; max-width: 500px; overflow: hidden; text-overflow: ellipsis; \">2</td></tr>\n<tr><td style=\"white-space: nowrap; max-width: 500px; overflow: hidden; text-overflow: ellipsis; \">1:10</td><td style=\"white-space: nowrap; max-width: 500px; overflow: hidden; text-overflow: ellipsis; \">[&quot;A&quot;,&quot;C&quot;]</td><td style=\"white-space: nowrap; max-width: 500px; overflow: hidden; text-overflow: ellipsis; \">1</td><td style=\"white-space: nowrap; max-width: 500px; overflow: hidden; text-overflow: ellipsis; \">0</td><td style=\"white-space: nowrap; max-width: 500px; overflow: hidden; text-overflow: ellipsis; \">1</td></tr>\n</tbody></table><p style=\"background: #fdd; padding: 0.4em;\">showing top 10 rows</p>\n<p style=\"background: #fdd; padding: 0.4em;\">showing the first 3 of 100 columns</p>\n"
     },
     "metadata": {}
    },
    {
     "output_type": "stream",
     "name": "stdout",
     "text": "None\n----------------------------------------\nGlobal fields:\n    'bn': struct {\n        n_populations: int32, \n        n_samples: int32, \n        n_variants: int32, \n        n_partitions: int32, \n        pop_dist: array<int32>, \n        fst: array<float64>, \n        mixture: bool\n    }\n    'ldscsim': struct {\n        h2: float64, \n        exact_h2: bool\n    }\n----------------------------------------\nColumn fields:\n    'sample_idx': int32\n    'pop': int32\n    'y_no_noise': float64\n    'y': float64\n----------------------------------------\nRow fields:\n    'locus': locus<GRCh37>\n    'alleles': array<str>\n    'ancestral_af': float64\n    'af': array<float64>\n    'beta': float64\n----------------------------------------\nEntry fields:\n    'ac': int32\n----------------------------------------\nColumn key: ['sample_idx']\nRow key: ['locus', 'alleles']\n----------------------------------------\n19914 19914 n_block_rows 20\nmt = (mt\n      .add_row_index(row_index)\n      .select_globals(Y = hl.nd.array(Y.collect()))\n      .localize_entries(entries))\n----------------------------------------\nGlobal fields:\n    'Y': ndarray<float64, 1> \n    'alphas': ndarray<float32, 1> \n----------------------------------------\nRow fields:\n    'locus': locus<GRCh37> \n    'alleles': array<str> \n    '__uid_9': int64 \n    '__uid_7': array<struct {\n        ac: int32\n    }> \n----------------------------------------\nKey: ['locus', 'alleles']\n----------------------------------------\nafter mt.annotate(**{entries: mt[entries][entrc_field]})\n----------------------------------------\nGlobal fields:\n    'Y': ndarray<float64, 1> \n    'alphas': ndarray<float32, 1> \n----------------------------------------\nRow fields:\n    'locus': locus<GRCh37> \n    'alleles': array<str> \n    '__uid_9': int64 \n    '__uid_7': array<int32> \n----------------------------------------\nKey: ['locus', 'alleles']\n----------------------------------------\nafter mt = mt.annotate(r=hl.int(mt[row_index] // n_variants_per_block))\n"
    },
    {
     "output_type": "display_data",
     "data": {
      "text/plain": "+---------------+------------+---------+\n| locus         | alleles    | __uid_9 |\n+---------------+------------+---------+\n| locus<GRCh37> | array<str> |   int64 |\n+---------------+------------+---------+\n| 1:1           | [\"A\",\"C\"]  |       0 |\n| 1:2           | [\"A\",\"C\"]  |       1 |\n| 1:3           | [\"A\",\"C\"]  |       2 |\n| 1:4           | [\"A\",\"C\"]  |       3 |\n| 1:5           | [\"A\",\"C\"]  |       4 |\n| 1:6           | [\"A\",\"C\"]  |       5 |\n| 1:7           | [\"A\",\"C\"]  |       6 |\n| 1:8           | [\"A\",\"C\"]  |       7 |\n| 1:9           | [\"A\",\"C\"]  |       8 |\n| 1:10          | [\"A\",\"C\"]  |       9 |\n+---------------+------------+---------+\n\n+------------------------------------------------------------------------------+\n| __uid_7                                                                      |\n+------------------------------------------------------------------------------+\n| array<int32>                                                                 |\n+------------------------------------------------------------------------------+\n| [1,2,1,1,0,0,2,2,1,2,1,0,2,1,1,1,1,1,2,2,1,2,2,2,0,1,1,1,1,1,1,0,1,2,2,1,... |\n| [1,2,1,0,2,2,2,1,1,2,1,1,1,2,2,2,1,0,1,2,2,1,1,1,2,1,2,0,0,1,2,1,1,1,1,2,... |\n| [1,2,2,0,2,2,1,2,1,2,2,1,1,2,1,2,2,2,1,2,0,2,2,2,1,1,2,2,2,1,2,0,1,1,0,1,... |\n| [2,1,1,1,1,2,1,2,2,1,0,2,1,1,1,1,2,2,1,2,1,2,2,1,2,2,2,1,1,2,2,2,2,1,1,2,... |\n| [0,1,2,0,2,2,1,1,0,1,2,1,1,1,1,1,2,2,2,1,1,2,1,0,1,0,1,1,2,0,1,2,0,0,1,1,... |\n| [0,2,1,1,1,2,0,1,0,1,1,0,0,1,1,0,1,1,1,1,0,1,1,2,2,1,2,2,2,1,2,1,1,2,2,0,... |\n| [1,1,0,0,1,2,2,0,1,0,1,1,1,1,1,2,0,1,1,2,1,0,2,0,0,0,2,2,1,2,1,1,1,1,1,0,... |\n| [2,2,2,2,2,0,1,2,2,2,2,0,2,1,1,1,1,2,2,2,1,2,2,1,2,1,2,1,2,2,2,2,1,2,2,2,... |\n| [2,2,2,2,1,2,2,2,2,2,1,2,2,2,2,1,2,2,2,2,2,2,2,2,2,2,2,2,1,1,2,1,2,1,2,1,... |\n| [1,0,1,1,2,1,1,2,1,1,1,1,1,0,0,2,2,1,2,2,0,1,0,2,2,1,2,1,1,2,1,1,1,2,1,1,... |\n+------------------------------------------------------------------------------+\n\n+----------+----------+\n|    xmean |     xstd |\n+----------+----------+\n|  float64 |  float64 |\n+----------+----------+\n| 1.29e+00 | 6.53e-01 |\n| 1.13e+00 | 6.43e-01 |\n| 1.38e+00 | 6.75e-01 |\n| 1.29e+00 | 6.53e-01 |\n| 1.06e+00 | 7.05e-01 |\n| 1.16e+00 | 7.45e-01 |\n| 9.20e-01 | 6.88e-01 |\n| 1.58e+00 | 5.69e-01 |\n| 1.69e+00 | 5.23e-01 |\n| 1.24e+00 | 6.80e-01 |\n+----------+----------+\n\n+------------------------------------------------------------------------------+\n| X                                                                            |\n+------------------------------------------------------------------------------+\n| array<float64>                                                               |\n+------------------------------------------------------------------------------+\n| [-4.44e-01,1.09e+00,-4.44e-01,-4.44e-01,-1.98e+00,-1.98e+00,1.09e+00,1.09... |\n| [-2.02e-01,1.35e+00,-2.02e-01,-1.76e+00,1.35e+00,1.35e+00,1.35e+00,-2.02e... |\n| [-5.63e-01,9.19e-01,9.19e-01,-2.04e+00,9.19e-01,9.19e-01,-5.63e-01,9.19e-... |\n| [1.09e+00,-4.44e-01,-4.44e-01,-4.44e-01,-4.44e-01,1.09e+00,-4.44e-01,1.09... |\n| [-1.50e+00,-8.52e-02,1.33e+00,-1.50e+00,1.33e+00,1.33e+00,-8.52e-02,-8.52... |\n| [-1.56e+00,1.13e+00,-2.15e-01,-2.15e-01,-2.15e-01,1.13e+00,-1.56e+00,-2.1... |\n| [1.16e-01,1.16e-01,-1.34e+00,-1.34e+00,1.16e-01,1.57e+00,1.57e+00,-1.34e+... |\n| [7.38e-01,7.38e-01,7.38e-01,7.38e-01,7.38e-01,-2.78e+00,-1.02e+00,7.38e-0... |\n| [5.92e-01,5.92e-01,5.92e-01,5.92e-01,-1.32e+00,5.92e-01,5.92e-01,5.92e-01... |\n| [-3.53e-01,-1.82e+00,-3.53e-01,-3.53e-01,1.12e+00,-3.53e-01,-3.53e-01,1.1... |\n+------------------------------------------------------------------------------+\n\n+-------+\n|     r |\n+-------+\n| int32 |\n+-------+\n|     0 |\n|     0 |\n|     0 |\n|     0 |\n|     0 |\n|     0 |\n|     0 |\n|     0 |\n|     0 |\n|     0 |\n+-------+\nshowing top 10 rows",
      "text/html": "<table><thead><tr><td style=\"white-space: nowrap; max-width: 500px; overflow: hidden; text-overflow: ellipsis; \" colspan=\"1\"><div style=\"text-align: left;\"></div></td><td style=\"white-space: nowrap; max-width: 500px; overflow: hidden; text-overflow: ellipsis; \" colspan=\"1\"><div style=\"text-align: left;\"></div></td><td style=\"white-space: nowrap; max-width: 500px; overflow: hidden; text-overflow: ellipsis; \" colspan=\"1\"><div style=\"text-align: left;\"></div></td><td style=\"white-space: nowrap; max-width: 500px; overflow: hidden; text-overflow: ellipsis; \" colspan=\"1\"><div style=\"text-align: left;\"></div></td><td style=\"white-space: nowrap; max-width: 500px; overflow: hidden; text-overflow: ellipsis; \" colspan=\"1\"><div style=\"text-align: left;\"></div></td><td style=\"white-space: nowrap; max-width: 500px; overflow: hidden; text-overflow: ellipsis; \" colspan=\"1\"><div style=\"text-align: left;\"></div></td><td style=\"white-space: nowrap; max-width: 500px; overflow: hidden; text-overflow: ellipsis; \" colspan=\"1\"><div style=\"text-align: left;\"></div></td><td style=\"white-space: nowrap; max-width: 500px; overflow: hidden; text-overflow: ellipsis; \" colspan=\"1\"><div style=\"text-align: left;\"></div></td></tr><tr><td style=\"white-space: nowrap; max-width: 500px; overflow: hidden; text-overflow: ellipsis; \" colspan=\"1\"><div style=\"text-align: left;border-bottom: solid 2px #000; padding-bottom: 5px\">locus</div></td><td style=\"white-space: nowrap; max-width: 500px; overflow: hidden; text-overflow: ellipsis; \" colspan=\"1\"><div style=\"text-align: left;border-bottom: solid 2px #000; padding-bottom: 5px\">alleles</div></td><td style=\"white-space: nowrap; max-width: 500px; overflow: hidden; text-overflow: ellipsis; \" colspan=\"1\"><div style=\"text-align: left;border-bottom: solid 2px #000; padding-bottom: 5px\">__uid_9</div></td><td style=\"white-space: nowrap; max-width: 500px; overflow: hidden; text-overflow: ellipsis; \" colspan=\"1\"><div style=\"text-align: left;border-bottom: solid 2px #000; padding-bottom: 5px\">__uid_7</div></td><td style=\"white-space: nowrap; max-width: 500px; overflow: hidden; text-overflow: ellipsis; \" colspan=\"1\"><div style=\"text-align: left;border-bottom: solid 2px #000; padding-bottom: 5px\">xmean</div></td><td style=\"white-space: nowrap; max-width: 500px; overflow: hidden; text-overflow: ellipsis; \" colspan=\"1\"><div style=\"text-align: left;border-bottom: solid 2px #000; padding-bottom: 5px\">xstd</div></td><td style=\"white-space: nowrap; max-width: 500px; overflow: hidden; text-overflow: ellipsis; \" colspan=\"1\"><div style=\"text-align: left;border-bottom: solid 2px #000; padding-bottom: 5px\">X</div></td><td style=\"white-space: nowrap; max-width: 500px; overflow: hidden; text-overflow: ellipsis; \" colspan=\"1\"><div style=\"text-align: left;border-bottom: solid 2px #000; padding-bottom: 5px\">r</div></td></tr><tr><td style=\"white-space: nowrap; max-width: 500px; overflow: hidden; text-overflow: ellipsis; text-align: left;\">locus&lt;GRCh37&gt;</td><td style=\"white-space: nowrap; max-width: 500px; overflow: hidden; text-overflow: ellipsis; text-align: left;\">array&lt;str&gt;</td><td style=\"white-space: nowrap; max-width: 500px; overflow: hidden; text-overflow: ellipsis; text-align: left;\">int64</td><td style=\"white-space: nowrap; max-width: 500px; overflow: hidden; text-overflow: ellipsis; text-align: left;\">array&lt;int32&gt;</td><td style=\"white-space: nowrap; max-width: 500px; overflow: hidden; text-overflow: ellipsis; text-align: left;\">float64</td><td style=\"white-space: nowrap; max-width: 500px; overflow: hidden; text-overflow: ellipsis; text-align: left;\">float64</td><td style=\"white-space: nowrap; max-width: 500px; overflow: hidden; text-overflow: ellipsis; text-align: left;\">array&lt;float64&gt;</td><td style=\"white-space: nowrap; max-width: 500px; overflow: hidden; text-overflow: ellipsis; text-align: left;\">int32</td></tr>\n</thead><tbody><tr><td style=\"white-space: nowrap; max-width: 500px; overflow: hidden; text-overflow: ellipsis; \">1:1</td><td style=\"white-space: nowrap; max-width: 500px; overflow: hidden; text-overflow: ellipsis; \">[&quot;A&quot;,&quot;C&quot;]</td><td style=\"white-space: nowrap; max-width: 500px; overflow: hidden; text-overflow: ellipsis; \">0</td><td style=\"white-space: nowrap; max-width: 500px; overflow: hidden; text-overflow: ellipsis; \">[1,2,1,1,0,0,2,2,1,2,1,0,2,1,1,1,1,1,2,2,1,2,2,2,0,1,1,1,1,1,1,0,1,2,2,1,2,1,0,2,2,1,2,0,2,0,0,2,1,1,2,1,1,2,1,2,1,1,2,1,0,1,1,1,1,2,1,1,2,1,2,1,1,2,2,2,1,2,2,1,2,2,1,2,2,1,1,1,1,2,2,1,2,2,1,1,1,2,2,0]</td><td style=\"white-space: nowrap; max-width: 500px; overflow: hidden; text-overflow: ellipsis; \">1.29e+00</td><td style=\"white-space: nowrap; max-width: 500px; overflow: hidden; text-overflow: ellipsis; \">6.53e-01</td><td style=\"white-space: nowrap; max-width: 500px; overflow: hidden; text-overflow: ellipsis; \">[-4.44e-01,1.09e+00,-4.44e-01,-4.44e-01,-1.98e+00,-1.98e+00,1.09e+00,1.09e+00,-4.44e-01,1.09e+00,-4.44e-01,-1.98e+00,1.09e+00,-4.44e-01,-4.44e-01,-4.44e-01,-4.44e-01,-4.44e-01,1.09e+00,1.09e+00,-4.44e-01,1.09e+00,1.09e+00,1.09e+00,-1.98e+00,-4.44e-01,-4.44e-01,-4.44e-01,-4.44e-01,-4.44e-01,-4.44e-01,-1.98e+00,-4.44e-01,1.09e+00,1.09e+00,-4.44e-01,1.09e+00,-4.44e-01,-1.98e+00,1.09e+00,1.09e+00,-4.44e-01,1.09e+00,-1.98e+00,1.09e+00,-1.98e+00,-1.98e+00,1.09e+00,-4.44e-01,-4.44e-01,1.09e+00,-4.44e-01,-4.44e-01,1.09e+00,-4.44e-01,1.09e+00,-4.44e-01,-4.44e-01,1.09e+00,-4.44e-01,-1.98e+00,-4.44e-01,-4.44e-01,-4.44e-01,-4.44e-01,1.09e+00,-4.44e-01,-4.44e-01,1.09e+00,-4.44e-01,1.09e+00,-4.44e-01,-4.44e-01,1.09e+00,1.09e+00,1.09e+00,-4.44e-01,1.09e+00,1.09e+00,-4.44e-01,1.09e+00,1.09e+00,-4.44e-01,1.09e+00,1.09e+00,-4.44e-01,-4.44e-01,-4.44e-01,-4.44e-01,1.09e+00,1.09e+00,-4.44e-01,1.09e+00,1.09e+00,-4.44e-01,-4.44e-01,-4.44e-01,1.09e+00,1.09e+00,-1.98e+00]</td><td style=\"white-space: nowrap; max-width: 500px; overflow: hidden; text-overflow: ellipsis; \">0</td></tr>\n<tr><td style=\"white-space: nowrap; max-width: 500px; overflow: hidden; text-overflow: ellipsis; \">1:2</td><td style=\"white-space: nowrap; max-width: 500px; overflow: hidden; text-overflow: ellipsis; \">[&quot;A&quot;,&quot;C&quot;]</td><td style=\"white-space: nowrap; max-width: 500px; overflow: hidden; text-overflow: ellipsis; \">1</td><td style=\"white-space: nowrap; max-width: 500px; overflow: hidden; text-overflow: ellipsis; \">[1,2,1,0,2,2,2,1,1,2,1,1,1,2,2,2,1,0,1,2,2,1,1,1,2,1,2,0,0,1,2,1,1,1,1,2,0,2,1,1,1,1,1,1,1,1,2,0,1,2,0,1,0,1,1,0,2,1,1,1,1,1,1,2,1,2,2,0,1,1,2,1,2,1,2,2,0,1,1,1,0,2,1,2,1,1,1,1,1,0,1,1,1,1,0,2,1,1,0,1]</td><td style=\"white-space: nowrap; max-width: 500px; overflow: hidden; text-overflow: ellipsis; \">1.13e+00</td><td style=\"white-space: nowrap; max-width: 500px; overflow: hidden; text-overflow: ellipsis; \">6.43e-01</td><td style=\"white-space: nowrap; max-width: 500px; overflow: hidden; text-overflow: ellipsis; \">[-2.02e-01,1.35e+00,-2.02e-01,-1.76e+00,1.35e+00,1.35e+00,1.35e+00,-2.02e-01,-2.02e-01,1.35e+00,-2.02e-01,-2.02e-01,-2.02e-01,1.35e+00,1.35e+00,1.35e+00,-2.02e-01,-1.76e+00,-2.02e-01,1.35e+00,1.35e+00,-2.02e-01,-2.02e-01,-2.02e-01,1.35e+00,-2.02e-01,1.35e+00,-1.76e+00,-1.76e+00,-2.02e-01,1.35e+00,-2.02e-01,-2.02e-01,-2.02e-01,-2.02e-01,1.35e+00,-1.76e+00,1.35e+00,-2.02e-01,-2.02e-01,-2.02e-01,-2.02e-01,-2.02e-01,-2.02e-01,-2.02e-01,-2.02e-01,1.35e+00,-1.76e+00,-2.02e-01,1.35e+00,-1.76e+00,-2.02e-01,-1.76e+00,-2.02e-01,-2.02e-01,-1.76e+00,1.35e+00,-2.02e-01,-2.02e-01,-2.02e-01,-2.02e-01,-2.02e-01,-2.02e-01,1.35e+00,-2.02e-01,1.35e+00,1.35e+00,-1.76e+00,-2.02e-01,-2.02e-01,1.35e+00,-2.02e-01,1.35e+00,-2.02e-01,1.35e+00,1.35e+00,-1.76e+00,-2.02e-01,-2.02e-01,-2.02e-01,-1.76e+00,1.35e+00,-2.02e-01,1.35e+00,-2.02e-01,-2.02e-01,-2.02e-01,-2.02e-01,-2.02e-01,-1.76e+00,-2.02e-01,-2.02e-01,-2.02e-01,-2.02e-01,-1.76e+00,1.35e+00,-2.02e-01,-2.02e-01,-1.76e+00,-2.02e-01]</td><td style=\"white-space: nowrap; max-width: 500px; overflow: hidden; text-overflow: ellipsis; \">0</td></tr>\n<tr><td style=\"white-space: nowrap; max-width: 500px; overflow: hidden; text-overflow: ellipsis; \">1:3</td><td style=\"white-space: nowrap; max-width: 500px; overflow: hidden; text-overflow: ellipsis; \">[&quot;A&quot;,&quot;C&quot;]</td><td style=\"white-space: nowrap; max-width: 500px; overflow: hidden; text-overflow: ellipsis; \">2</td><td style=\"white-space: nowrap; max-width: 500px; overflow: hidden; text-overflow: ellipsis; \">[1,2,2,0,2,2,1,2,1,2,2,1,1,2,1,2,2,2,1,2,0,2,2,2,1,1,2,2,2,1,2,0,1,1,0,1,2,2,0,1,2,1,1,2,2,1,2,2,2,2,1,1,2,1,2,1,2,2,1,1,2,1,2,1,1,2,1,2,2,2,1,1,1,0,1,2,0,1,1,1,2,1,1,2,0,0,0,1,2,1,2,2,2,1,2,2,2,1,2,0]</td><td style=\"white-space: nowrap; max-width: 500px; overflow: hidden; text-overflow: ellipsis; \">1.38e+00</td><td style=\"white-space: nowrap; max-width: 500px; overflow: hidden; text-overflow: ellipsis; \">6.75e-01</td><td style=\"white-space: nowrap; max-width: 500px; overflow: hidden; text-overflow: ellipsis; \">[-5.63e-01,9.19e-01,9.19e-01,-2.04e+00,9.19e-01,9.19e-01,-5.63e-01,9.19e-01,-5.63e-01,9.19e-01,9.19e-01,-5.63e-01,-5.63e-01,9.19e-01,-5.63e-01,9.19e-01,9.19e-01,9.19e-01,-5.63e-01,9.19e-01,-2.04e+00,9.19e-01,9.19e-01,9.19e-01,-5.63e-01,-5.63e-01,9.19e-01,9.19e-01,9.19e-01,-5.63e-01,9.19e-01,-2.04e+00,-5.63e-01,-5.63e-01,-2.04e+00,-5.63e-01,9.19e-01,9.19e-01,-2.04e+00,-5.63e-01,9.19e-01,-5.63e-01,-5.63e-01,9.19e-01,9.19e-01,-5.63e-01,9.19e-01,9.19e-01,9.19e-01,9.19e-01,-5.63e-01,-5.63e-01,9.19e-01,-5.63e-01,9.19e-01,-5.63e-01,9.19e-01,9.19e-01,-5.63e-01,-5.63e-01,9.19e-01,-5.63e-01,9.19e-01,-5.63e-01,-5.63e-01,9.19e-01,-5.63e-01,9.19e-01,9.19e-01,9.19e-01,-5.63e-01,-5.63e-01,-5.63e-01,-2.04e+00,-5.63e-01,9.19e-01,-2.04e+00,-5.63e-01,-5.63e-01,-5.63e-01,9.19e-01,-5.63e-01,-5.63e-01,9.19e-01,-2.04e+00,-2.04e+00,-2.04e+00,-5.63e-01,9.19e-01,-5.63e-01,9.19e-01,9.19e-01,9.19e-01,-5.63e-01,9.19e-01,9.19e-01,9.19e-01,-5.63e-01,9.19e-01,-2.04e+00]</td><td style=\"white-space: nowrap; max-width: 500px; overflow: hidden; text-overflow: ellipsis; \">0</td></tr>\n<tr><td style=\"white-space: nowrap; max-width: 500px; overflow: hidden; text-overflow: ellipsis; \">1:4</td><td style=\"white-space: nowrap; max-width: 500px; overflow: hidden; text-overflow: ellipsis; \">[&quot;A&quot;,&quot;C&quot;]</td><td style=\"white-space: nowrap; max-width: 500px; overflow: hidden; text-overflow: ellipsis; \">3</td><td style=\"white-space: nowrap; max-width: 500px; overflow: hidden; text-overflow: ellipsis; \">[2,1,1,1,1,2,1,2,2,1,0,2,1,1,1,1,2,2,1,2,1,2,2,1,2,2,2,1,1,2,2,2,2,1,1,2,1,0,1,1,1,2,2,2,0,0,2,2,1,1,2,1,1,1,1,1,1,2,1,0,1,1,0,1,2,2,2,1,2,1,1,2,1,2,1,1,2,1,1,1,0,1,1,1,2,2,0,0,0,2,2,1,1,1,2,2,2,1,2,0]</td><td style=\"white-space: nowrap; max-width: 500px; overflow: hidden; text-overflow: ellipsis; \">1.29e+00</td><td style=\"white-space: nowrap; max-width: 500px; overflow: hidden; text-overflow: ellipsis; \">6.53e-01</td><td style=\"white-space: nowrap; max-width: 500px; overflow: hidden; text-overflow: ellipsis; \">[1.09e+00,-4.44e-01,-4.44e-01,-4.44e-01,-4.44e-01,1.09e+00,-4.44e-01,1.09e+00,1.09e+00,-4.44e-01,-1.98e+00,1.09e+00,-4.44e-01,-4.44e-01,-4.44e-01,-4.44e-01,1.09e+00,1.09e+00,-4.44e-01,1.09e+00,-4.44e-01,1.09e+00,1.09e+00,-4.44e-01,1.09e+00,1.09e+00,1.09e+00,-4.44e-01,-4.44e-01,1.09e+00,1.09e+00,1.09e+00,1.09e+00,-4.44e-01,-4.44e-01,1.09e+00,-4.44e-01,-1.98e+00,-4.44e-01,-4.44e-01,-4.44e-01,1.09e+00,1.09e+00,1.09e+00,-1.98e+00,-1.98e+00,1.09e+00,1.09e+00,-4.44e-01,-4.44e-01,1.09e+00,-4.44e-01,-4.44e-01,-4.44e-01,-4.44e-01,-4.44e-01,-4.44e-01,1.09e+00,-4.44e-01,-1.98e+00,-4.44e-01,-4.44e-01,-1.98e+00,-4.44e-01,1.09e+00,1.09e+00,1.09e+00,-4.44e-01,1.09e+00,-4.44e-01,-4.44e-01,1.09e+00,-4.44e-01,1.09e+00,-4.44e-01,-4.44e-01,1.09e+00,-4.44e-01,-4.44e-01,-4.44e-01,-1.98e+00,-4.44e-01,-4.44e-01,-4.44e-01,1.09e+00,1.09e+00,-1.98e+00,-1.98e+00,-1.98e+00,1.09e+00,1.09e+00,-4.44e-01,-4.44e-01,-4.44e-01,1.09e+00,1.09e+00,1.09e+00,-4.44e-01,1.09e+00,-1.98e+00]</td><td style=\"white-space: nowrap; max-width: 500px; overflow: hidden; text-overflow: ellipsis; \">0</td></tr>\n<tr><td style=\"white-space: nowrap; max-width: 500px; overflow: hidden; text-overflow: ellipsis; \">1:5</td><td style=\"white-space: nowrap; max-width: 500px; overflow: hidden; text-overflow: ellipsis; \">[&quot;A&quot;,&quot;C&quot;]</td><td style=\"white-space: nowrap; max-width: 500px; overflow: hidden; text-overflow: ellipsis; \">4</td><td style=\"white-space: nowrap; max-width: 500px; overflow: hidden; text-overflow: ellipsis; \">[0,1,2,0,2,2,1,1,0,1,2,1,1,1,1,1,2,2,2,1,1,2,1,0,1,0,1,1,2,0,1,2,0,0,1,1,0,2,2,2,1,2,0,1,2,2,1,1,2,2,1,2,1,1,1,2,1,0,0,1,0,1,0,0,1,0,0,1,1,2,1,1,2,1,1,0,2,1,2,1,1,1,0,1,1,2,1,1,2,1,0,1,0,1,1,0,1,2,1,2]</td><td style=\"white-space: nowrap; max-width: 500px; overflow: hidden; text-overflow: ellipsis; \">1.06e+00</td><td style=\"white-space: nowrap; max-width: 500px; overflow: hidden; text-overflow: ellipsis; \">7.05e-01</td><td style=\"white-space: nowrap; max-width: 500px; overflow: hidden; text-overflow: ellipsis; \">[-1.50e+00,-8.52e-02,1.33e+00,-1.50e+00,1.33e+00,1.33e+00,-8.52e-02,-8.52e-02,-1.50e+00,-8.52e-02,1.33e+00,-8.52e-02,-8.52e-02,-8.52e-02,-8.52e-02,-8.52e-02,1.33e+00,1.33e+00,1.33e+00,-8.52e-02,-8.52e-02,1.33e+00,-8.52e-02,-1.50e+00,-8.52e-02,-1.50e+00,-8.52e-02,-8.52e-02,1.33e+00,-1.50e+00,-8.52e-02,1.33e+00,-1.50e+00,-1.50e+00,-8.52e-02,-8.52e-02,-1.50e+00,1.33e+00,1.33e+00,1.33e+00,-8.52e-02,1.33e+00,-1.50e+00,-8.52e-02,1.33e+00,1.33e+00,-8.52e-02,-8.52e-02,1.33e+00,1.33e+00,-8.52e-02,1.33e+00,-8.52e-02,-8.52e-02,-8.52e-02,1.33e+00,-8.52e-02,-1.50e+00,-1.50e+00,-8.52e-02,-1.50e+00,-8.52e-02,-1.50e+00,-1.50e+00,-8.52e-02,-1.50e+00,-1.50e+00,-8.52e-02,-8.52e-02,1.33e+00,-8.52e-02,-8.52e-02,1.33e+00,-8.52e-02,-8.52e-02,-1.50e+00,1.33e+00,-8.52e-02,1.33e+00,-8.52e-02,-8.52e-02,-8.52e-02,-1.50e+00,-8.52e-02,-8.52e-02,1.33e+00,-8.52e-02,-8.52e-02,1.33e+00,-8.52e-02,-1.50e+00,-8.52e-02,-1.50e+00,-8.52e-02,-8.52e-02,-1.50e+00,-8.52e-02,1.33e+00,-8.52e-02,1.33e+00]</td><td style=\"white-space: nowrap; max-width: 500px; overflow: hidden; text-overflow: ellipsis; \">0</td></tr>\n<tr><td style=\"white-space: nowrap; max-width: 500px; overflow: hidden; text-overflow: ellipsis; \">1:6</td><td style=\"white-space: nowrap; max-width: 500px; overflow: hidden; text-overflow: ellipsis; \">[&quot;A&quot;,&quot;C&quot;]</td><td style=\"white-space: nowrap; max-width: 500px; overflow: hidden; text-overflow: ellipsis; \">5</td><td style=\"white-space: nowrap; max-width: 500px; overflow: hidden; text-overflow: ellipsis; \">[0,2,1,1,1,2,0,1,0,1,1,0,0,1,1,0,1,1,1,1,0,1,1,2,2,1,2,2,2,1,2,1,1,2,2,0,0,2,0,1,1,1,0,2,2,2,1,2,2,1,0,1,2,1,2,0,0,0,1,2,1,2,2,2,2,2,2,2,2,2,2,0,1,0,2,1,0,1,0,1,1,1,2,2,2,2,1,1,1,2,1,1,0,2,2,1,0,1,1,1]</td><td style=\"white-space: nowrap; max-width: 500px; overflow: hidden; text-overflow: ellipsis; \">1.16e+00</td><td style=\"white-space: nowrap; max-width: 500px; overflow: hidden; text-overflow: ellipsis; \">7.45e-01</td><td style=\"white-space: nowrap; max-width: 500px; overflow: hidden; text-overflow: ellipsis; \">[-1.56e+00,1.13e+00,-2.15e-01,-2.15e-01,-2.15e-01,1.13e+00,-1.56e+00,-2.15e-01,-1.56e+00,-2.15e-01,-2.15e-01,-1.56e+00,-1.56e+00,-2.15e-01,-2.15e-01,-1.56e+00,-2.15e-01,-2.15e-01,-2.15e-01,-2.15e-01,-1.56e+00,-2.15e-01,-2.15e-01,1.13e+00,1.13e+00,-2.15e-01,1.13e+00,1.13e+00,1.13e+00,-2.15e-01,1.13e+00,-2.15e-01,-2.15e-01,1.13e+00,1.13e+00,-1.56e+00,-1.56e+00,1.13e+00,-1.56e+00,-2.15e-01,-2.15e-01,-2.15e-01,-1.56e+00,1.13e+00,1.13e+00,1.13e+00,-2.15e-01,1.13e+00,1.13e+00,-2.15e-01,-1.56e+00,-2.15e-01,1.13e+00,-2.15e-01,1.13e+00,-1.56e+00,-1.56e+00,-1.56e+00,-2.15e-01,1.13e+00,-2.15e-01,1.13e+00,1.13e+00,1.13e+00,1.13e+00,1.13e+00,1.13e+00,1.13e+00,1.13e+00,1.13e+00,1.13e+00,-1.56e+00,-2.15e-01,-1.56e+00,1.13e+00,-2.15e-01,-1.56e+00,-2.15e-01,-1.56e+00,-2.15e-01,-2.15e-01,-2.15e-01,1.13e+00,1.13e+00,1.13e+00,1.13e+00,-2.15e-01,-2.15e-01,-2.15e-01,1.13e+00,-2.15e-01,-2.15e-01,-1.56e+00,1.13e+00,1.13e+00,-2.15e-01,-1.56e+00,-2.15e-01,-2.15e-01,-2.15e-01]</td><td style=\"white-space: nowrap; max-width: 500px; overflow: hidden; text-overflow: ellipsis; \">0</td></tr>\n<tr><td style=\"white-space: nowrap; max-width: 500px; overflow: hidden; text-overflow: ellipsis; \">1:7</td><td style=\"white-space: nowrap; max-width: 500px; overflow: hidden; text-overflow: ellipsis; \">[&quot;A&quot;,&quot;C&quot;]</td><td style=\"white-space: nowrap; max-width: 500px; overflow: hidden; text-overflow: ellipsis; \">6</td><td style=\"white-space: nowrap; max-width: 500px; overflow: hidden; text-overflow: ellipsis; \">[1,1,0,0,1,2,2,0,1,0,1,1,1,1,1,2,0,1,1,2,1,0,2,0,0,0,2,2,1,2,1,1,1,1,1,0,1,2,0,0,2,0,0,1,0,2,1,1,0,1,0,2,0,0,1,1,2,1,0,0,1,1,1,0,1,1,2,1,1,0,2,2,1,1,1,0,1,1,2,1,1,1,2,2,1,1,0,2,0,1,0,1,1,1,1,1,1,1,1,0]</td><td style=\"white-space: nowrap; max-width: 500px; overflow: hidden; text-overflow: ellipsis; \">9.20e-01</td><td style=\"white-space: nowrap; max-width: 500px; overflow: hidden; text-overflow: ellipsis; \">6.88e-01</td><td style=\"white-space: nowrap; max-width: 500px; overflow: hidden; text-overflow: ellipsis; \">[1.16e-01,1.16e-01,-1.34e+00,-1.34e+00,1.16e-01,1.57e+00,1.57e+00,-1.34e+00,1.16e-01,-1.34e+00,1.16e-01,1.16e-01,1.16e-01,1.16e-01,1.16e-01,1.57e+00,-1.34e+00,1.16e-01,1.16e-01,1.57e+00,1.16e-01,-1.34e+00,1.57e+00,-1.34e+00,-1.34e+00,-1.34e+00,1.57e+00,1.57e+00,1.16e-01,1.57e+00,1.16e-01,1.16e-01,1.16e-01,1.16e-01,1.16e-01,-1.34e+00,1.16e-01,1.57e+00,-1.34e+00,-1.34e+00,1.57e+00,-1.34e+00,-1.34e+00,1.16e-01,-1.34e+00,1.57e+00,1.16e-01,1.16e-01,-1.34e+00,1.16e-01,-1.34e+00,1.57e+00,-1.34e+00,-1.34e+00,1.16e-01,1.16e-01,1.57e+00,1.16e-01,-1.34e+00,-1.34e+00,1.16e-01,1.16e-01,1.16e-01,-1.34e+00,1.16e-01,1.16e-01,1.57e+00,1.16e-01,1.16e-01,-1.34e+00,1.57e+00,1.57e+00,1.16e-01,1.16e-01,1.16e-01,-1.34e+00,1.16e-01,1.16e-01,1.57e+00,1.16e-01,1.16e-01,1.16e-01,1.57e+00,1.57e+00,1.16e-01,1.16e-01,-1.34e+00,1.57e+00,-1.34e+00,1.16e-01,-1.34e+00,1.16e-01,1.16e-01,1.16e-01,1.16e-01,1.16e-01,1.16e-01,1.16e-01,1.16e-01,-1.34e+00]</td><td style=\"white-space: nowrap; max-width: 500px; overflow: hidden; text-overflow: ellipsis; \">0</td></tr>\n<tr><td style=\"white-space: nowrap; max-width: 500px; overflow: hidden; text-overflow: ellipsis; \">1:8</td><td style=\"white-space: nowrap; max-width: 500px; overflow: hidden; text-overflow: ellipsis; \">[&quot;A&quot;,&quot;C&quot;]</td><td style=\"white-space: nowrap; max-width: 500px; overflow: hidden; text-overflow: ellipsis; \">7</td><td style=\"white-space: nowrap; max-width: 500px; overflow: hidden; text-overflow: ellipsis; \">[2,2,2,2,2,0,1,2,2,2,2,0,2,1,1,1,1,2,2,2,1,2,2,1,2,1,2,1,2,2,2,2,1,2,2,2,1,2,2,2,2,2,2,1,2,2,1,2,1,2,1,0,2,1,1,0,2,1,1,1,2,1,1,2,1,2,2,2,2,2,2,2,1,1,2,2,1,2,2,1,2,2,2,1,2,1,2,1,2,2,2,2,2,1,1,1,1,2,2,2]</td><td style=\"white-space: nowrap; max-width: 500px; overflow: hidden; text-overflow: ellipsis; \">1.58e+00</td><td style=\"white-space: nowrap; max-width: 500px; overflow: hidden; text-overflow: ellipsis; \">5.69e-01</td><td style=\"white-space: nowrap; max-width: 500px; overflow: hidden; text-overflow: ellipsis; \">[7.38e-01,7.38e-01,7.38e-01,7.38e-01,7.38e-01,-2.78e+00,-1.02e+00,7.38e-01,7.38e-01,7.38e-01,7.38e-01,-2.78e+00,7.38e-01,-1.02e+00,-1.02e+00,-1.02e+00,-1.02e+00,7.38e-01,7.38e-01,7.38e-01,-1.02e+00,7.38e-01,7.38e-01,-1.02e+00,7.38e-01,-1.02e+00,7.38e-01,-1.02e+00,7.38e-01,7.38e-01,7.38e-01,7.38e-01,-1.02e+00,7.38e-01,7.38e-01,7.38e-01,-1.02e+00,7.38e-01,7.38e-01,7.38e-01,7.38e-01,7.38e-01,7.38e-01,-1.02e+00,7.38e-01,7.38e-01,-1.02e+00,7.38e-01,-1.02e+00,7.38e-01,-1.02e+00,-2.78e+00,7.38e-01,-1.02e+00,-1.02e+00,-2.78e+00,7.38e-01,-1.02e+00,-1.02e+00,-1.02e+00,7.38e-01,-1.02e+00,-1.02e+00,7.38e-01,-1.02e+00,7.38e-01,7.38e-01,7.38e-01,7.38e-01,7.38e-01,7.38e-01,7.38e-01,-1.02e+00,-1.02e+00,7.38e-01,7.38e-01,-1.02e+00,7.38e-01,7.38e-01,-1.02e+00,7.38e-01,7.38e-01,7.38e-01,-1.02e+00,7.38e-01,-1.02e+00,7.38e-01,-1.02e+00,7.38e-01,7.38e-01,7.38e-01,7.38e-01,7.38e-01,-1.02e+00,-1.02e+00,-1.02e+00,-1.02e+00,7.38e-01,7.38e-01,7.38e-01]</td><td style=\"white-space: nowrap; max-width: 500px; overflow: hidden; text-overflow: ellipsis; \">0</td></tr>\n<tr><td style=\"white-space: nowrap; max-width: 500px; overflow: hidden; text-overflow: ellipsis; \">1:9</td><td style=\"white-space: nowrap; max-width: 500px; overflow: hidden; text-overflow: ellipsis; \">[&quot;A&quot;,&quot;C&quot;]</td><td style=\"white-space: nowrap; max-width: 500px; overflow: hidden; text-overflow: ellipsis; \">8</td><td style=\"white-space: nowrap; max-width: 500px; overflow: hidden; text-overflow: ellipsis; \">[2,2,2,2,1,2,2,2,2,2,1,2,2,2,2,1,2,2,2,2,2,2,2,2,2,2,2,2,1,1,2,1,2,1,2,1,2,1,2,2,2,0,2,2,2,1,2,2,1,2,2,1,2,2,2,2,1,2,1,1,1,2,1,2,2,0,2,2,2,2,2,2,1,2,1,2,2,2,2,1,2,2,1,1,2,2,2,2,1,1,2,1,2,2,2,2,0,2,2,2]</td><td style=\"white-space: nowrap; max-width: 500px; overflow: hidden; text-overflow: ellipsis; \">1.69e+00</td><td style=\"white-space: nowrap; max-width: 500px; overflow: hidden; text-overflow: ellipsis; \">5.23e-01</td><td style=\"white-space: nowrap; max-width: 500px; overflow: hidden; text-overflow: ellipsis; \">[5.92e-01,5.92e-01,5.92e-01,5.92e-01,-1.32e+00,5.92e-01,5.92e-01,5.92e-01,5.92e-01,5.92e-01,-1.32e+00,5.92e-01,5.92e-01,5.92e-01,5.92e-01,-1.32e+00,5.92e-01,5.92e-01,5.92e-01,5.92e-01,5.92e-01,5.92e-01,5.92e-01,5.92e-01,5.92e-01,5.92e-01,5.92e-01,5.92e-01,-1.32e+00,-1.32e+00,5.92e-01,-1.32e+00,5.92e-01,-1.32e+00,5.92e-01,-1.32e+00,5.92e-01,-1.32e+00,5.92e-01,5.92e-01,5.92e-01,-3.23e+00,5.92e-01,5.92e-01,5.92e-01,-1.32e+00,5.92e-01,5.92e-01,-1.32e+00,5.92e-01,5.92e-01,-1.32e+00,5.92e-01,5.92e-01,5.92e-01,5.92e-01,-1.32e+00,5.92e-01,-1.32e+00,-1.32e+00,-1.32e+00,5.92e-01,-1.32e+00,5.92e-01,5.92e-01,-3.23e+00,5.92e-01,5.92e-01,5.92e-01,5.92e-01,5.92e-01,5.92e-01,-1.32e+00,5.92e-01,-1.32e+00,5.92e-01,5.92e-01,5.92e-01,5.92e-01,-1.32e+00,5.92e-01,5.92e-01,-1.32e+00,-1.32e+00,5.92e-01,5.92e-01,5.92e-01,5.92e-01,-1.32e+00,-1.32e+00,5.92e-01,-1.32e+00,5.92e-01,5.92e-01,5.92e-01,5.92e-01,-3.23e+00,5.92e-01,5.92e-01,5.92e-01]</td><td style=\"white-space: nowrap; max-width: 500px; overflow: hidden; text-overflow: ellipsis; \">0</td></tr>\n<tr><td style=\"white-space: nowrap; max-width: 500px; overflow: hidden; text-overflow: ellipsis; \">1:10</td><td style=\"white-space: nowrap; max-width: 500px; overflow: hidden; text-overflow: ellipsis; \">[&quot;A&quot;,&quot;C&quot;]</td><td style=\"white-space: nowrap; max-width: 500px; overflow: hidden; text-overflow: ellipsis; \">9</td><td style=\"white-space: nowrap; max-width: 500px; overflow: hidden; text-overflow: ellipsis; \">[1,0,1,1,2,1,1,2,1,1,1,1,1,0,0,2,2,1,2,2,0,1,0,2,2,1,2,1,1,2,1,1,1,2,1,1,0,1,1,1,2,1,1,2,2,1,2,1,1,1,1,1,2,1,0,0,2,0,2,1,0,1,1,2,1,2,1,1,2,2,2,2,2,0,1,2,2,1,1,1,0,1,0,2,2,1,2,2,2,2,1,0,2,1,2,2,2,1,1,2]</td><td style=\"white-space: nowrap; max-width: 500px; overflow: hidden; text-overflow: ellipsis; \">1.24e+00</td><td style=\"white-space: nowrap; max-width: 500px; overflow: hidden; text-overflow: ellipsis; \">6.80e-01</td><td style=\"white-space: nowrap; max-width: 500px; overflow: hidden; text-overflow: ellipsis; \">[-3.53e-01,-1.82e+00,-3.53e-01,-3.53e-01,1.12e+00,-3.53e-01,-3.53e-01,1.12e+00,-3.53e-01,-3.53e-01,-3.53e-01,-3.53e-01,-3.53e-01,-1.82e+00,-1.82e+00,1.12e+00,1.12e+00,-3.53e-01,1.12e+00,1.12e+00,-1.82e+00,-3.53e-01,-1.82e+00,1.12e+00,1.12e+00,-3.53e-01,1.12e+00,-3.53e-01,-3.53e-01,1.12e+00,-3.53e-01,-3.53e-01,-3.53e-01,1.12e+00,-3.53e-01,-3.53e-01,-1.82e+00,-3.53e-01,-3.53e-01,-3.53e-01,1.12e+00,-3.53e-01,-3.53e-01,1.12e+00,1.12e+00,-3.53e-01,1.12e+00,-3.53e-01,-3.53e-01,-3.53e-01,-3.53e-01,-3.53e-01,1.12e+00,-3.53e-01,-1.82e+00,-1.82e+00,1.12e+00,-1.82e+00,1.12e+00,-3.53e-01,-1.82e+00,-3.53e-01,-3.53e-01,1.12e+00,-3.53e-01,1.12e+00,-3.53e-01,-3.53e-01,1.12e+00,1.12e+00,1.12e+00,1.12e+00,1.12e+00,-1.82e+00,-3.53e-01,1.12e+00,1.12e+00,-3.53e-01,-3.53e-01,-3.53e-01,-1.82e+00,-3.53e-01,-1.82e+00,1.12e+00,1.12e+00,-3.53e-01,1.12e+00,1.12e+00,1.12e+00,1.12e+00,-3.53e-01,-1.82e+00,1.12e+00,-3.53e-01,1.12e+00,1.12e+00,1.12e+00,-3.53e-01,-3.53e-01,1.12e+00]</td><td style=\"white-space: nowrap; max-width: 500px; overflow: hidden; text-overflow: ellipsis; \">0</td></tr>\n</tbody></table><p style=\"background: #fdd; padding: 0.4em;\">showing top 10 rows</p>\n"
     },
     "metadata": {}
    },
    {
     "output_type": "stream",
     "name": "stdout",
     "text": "None\n----------------------------------------\nGlobal fields:\n    'Y': ndarray<float64, 1> \n    'alphas': ndarray<float32, 1> \n----------------------------------------\nRow fields:\n    'locus': locus<GRCh37> \n    'alleles': array<str> \n    '__uid_9': int64 \n    '__uid_7': array<int32> \n    'xmean': float64 \n    'xstd': float64 \n    'X': array<float64> \n    'r': int32 \n----------------------------------------\nKey: ['locus', 'alleles']\n----------------------------------------\nafter mt = mt.key_by(mt.r, mt.c)\n"
    },
    {
     "output_type": "display_data",
     "data": {
      "text/plain": "+---------------+------------+---------+\n| locus         | alleles    | __uid_9 |\n+---------------+------------+---------+\n| locus<GRCh37> | array<str> |   int64 |\n+---------------+------------+---------+\n| 1:1           | [\"A\",\"C\"]  |       0 |\n| 1:2           | [\"A\",\"C\"]  |       1 |\n| 1:3           | [\"A\",\"C\"]  |       2 |\n| 1:4           | [\"A\",\"C\"]  |       3 |\n| 1:5           | [\"A\",\"C\"]  |       4 |\n| 1:6           | [\"A\",\"C\"]  |       5 |\n| 1:7           | [\"A\",\"C\"]  |       6 |\n| 1:8           | [\"A\",\"C\"]  |       7 |\n| 1:9           | [\"A\",\"C\"]  |       8 |\n| 1:10          | [\"A\",\"C\"]  |       9 |\n+---------------+------------+---------+\n\n+------------------------------------------------------------------------------+\n| __uid_7                                                                      |\n+------------------------------------------------------------------------------+\n| array<int32>                                                                 |\n+------------------------------------------------------------------------------+\n| [1,2,1,1,0,0,2,2,1,2,1,0,2,1,1,1,1,1,2,2,1,2,2,2,0,1,1,1,1,1,1,0,1,2,2,1,... |\n| [1,2,1,0,2,2,2,1,1,2,1,1,1,2,2,2,1,0,1,2,2,1,1,1,2,1,2,0,0,1,2,1,1,1,1,2,... |\n| [1,2,2,0,2,2,1,2,1,2,2,1,1,2,1,2,2,2,1,2,0,2,2,2,1,1,2,2,2,1,2,0,1,1,0,1,... |\n| [2,1,1,1,1,2,1,2,2,1,0,2,1,1,1,1,2,2,1,2,1,2,2,1,2,2,2,1,1,2,2,2,2,1,1,2,... |\n| [0,1,2,0,2,2,1,1,0,1,2,1,1,1,1,1,2,2,2,1,1,2,1,0,1,0,1,1,2,0,1,2,0,0,1,1,... |\n| [0,2,1,1,1,2,0,1,0,1,1,0,0,1,1,0,1,1,1,1,0,1,1,2,2,1,2,2,2,1,2,1,1,2,2,0,... |\n| [1,1,0,0,1,2,2,0,1,0,1,1,1,1,1,2,0,1,1,2,1,0,2,0,0,0,2,2,1,2,1,1,1,1,1,0,... |\n| [2,2,2,2,2,0,1,2,2,2,2,0,2,1,1,1,1,2,2,2,1,2,2,1,2,1,2,1,2,2,2,2,1,2,2,2,... |\n| [2,2,2,2,1,2,2,2,2,2,1,2,2,2,2,1,2,2,2,2,2,2,2,2,2,2,2,2,1,1,2,1,2,1,2,1,... |\n| [1,0,1,1,2,1,1,2,1,1,1,1,1,0,0,2,2,1,2,2,0,1,0,2,2,1,2,1,1,2,1,1,1,2,1,1,... |\n+------------------------------------------------------------------------------+\n\n+----------+----------+\n|    xmean |     xstd |\n+----------+----------+\n|  float64 |  float64 |\n+----------+----------+\n| 1.29e+00 | 6.53e-01 |\n| 1.13e+00 | 6.43e-01 |\n| 1.38e+00 | 6.75e-01 |\n| 1.29e+00 | 6.53e-01 |\n| 1.06e+00 | 7.05e-01 |\n| 1.16e+00 | 7.45e-01 |\n| 9.20e-01 | 6.88e-01 |\n| 1.58e+00 | 5.69e-01 |\n| 1.69e+00 | 5.23e-01 |\n| 1.24e+00 | 6.80e-01 |\n+----------+----------+\n\n+------------------------------------------------------------------------------+\n| X                                                                            |\n+------------------------------------------------------------------------------+\n| array<float64>                                                               |\n+------------------------------------------------------------------------------+\n| [-4.44e-01,1.09e+00,-4.44e-01,-4.44e-01,-1.98e+00,-1.98e+00,1.09e+00,1.09... |\n| [-2.02e-01,1.35e+00,-2.02e-01,-1.76e+00,1.35e+00,1.35e+00,1.35e+00,-2.02e... |\n| [-5.63e-01,9.19e-01,9.19e-01,-2.04e+00,9.19e-01,9.19e-01,-5.63e-01,9.19e-... |\n| [1.09e+00,-4.44e-01,-4.44e-01,-4.44e-01,-4.44e-01,1.09e+00,-4.44e-01,1.09... |\n| [-1.50e+00,-8.52e-02,1.33e+00,-1.50e+00,1.33e+00,1.33e+00,-8.52e-02,-8.52... |\n| [-1.56e+00,1.13e+00,-2.15e-01,-2.15e-01,-2.15e-01,1.13e+00,-1.56e+00,-2.1... |\n| [1.16e-01,1.16e-01,-1.34e+00,-1.34e+00,1.16e-01,1.57e+00,1.57e+00,-1.34e+... |\n| [7.38e-01,7.38e-01,7.38e-01,7.38e-01,7.38e-01,-2.78e+00,-1.02e+00,7.38e-0... |\n| [5.92e-01,5.92e-01,5.92e-01,5.92e-01,-1.32e+00,5.92e-01,5.92e-01,5.92e-01... |\n| [-3.53e-01,-1.82e+00,-3.53e-01,-3.53e-01,1.12e+00,-3.53e-01,-3.53e-01,1.1... |\n+------------------------------------------------------------------------------+\n\n+-------+\n|     r |\n+-------+\n| int32 |\n+-------+\n|     0 |\n|     0 |\n|     0 |\n|     0 |\n|     0 |\n|     0 |\n|     0 |\n|     0 |\n|     0 |\n|     0 |\n+-------+\nshowing top 10 rows",
      "text/html": "<table><thead><tr><td style=\"white-space: nowrap; max-width: 500px; overflow: hidden; text-overflow: ellipsis; \" colspan=\"1\"><div style=\"text-align: left;\"></div></td><td style=\"white-space: nowrap; max-width: 500px; overflow: hidden; text-overflow: ellipsis; \" colspan=\"1\"><div style=\"text-align: left;\"></div></td><td style=\"white-space: nowrap; max-width: 500px; overflow: hidden; text-overflow: ellipsis; \" colspan=\"1\"><div style=\"text-align: left;\"></div></td><td style=\"white-space: nowrap; max-width: 500px; overflow: hidden; text-overflow: ellipsis; \" colspan=\"1\"><div style=\"text-align: left;\"></div></td><td style=\"white-space: nowrap; max-width: 500px; overflow: hidden; text-overflow: ellipsis; \" colspan=\"1\"><div style=\"text-align: left;\"></div></td><td style=\"white-space: nowrap; max-width: 500px; overflow: hidden; text-overflow: ellipsis; \" colspan=\"1\"><div style=\"text-align: left;\"></div></td><td style=\"white-space: nowrap; max-width: 500px; overflow: hidden; text-overflow: ellipsis; \" colspan=\"1\"><div style=\"text-align: left;\"></div></td><td style=\"white-space: nowrap; max-width: 500px; overflow: hidden; text-overflow: ellipsis; \" colspan=\"1\"><div style=\"text-align: left;\"></div></td></tr><tr><td style=\"white-space: nowrap; max-width: 500px; overflow: hidden; text-overflow: ellipsis; \" colspan=\"1\"><div style=\"text-align: left;border-bottom: solid 2px #000; padding-bottom: 5px\">locus</div></td><td style=\"white-space: nowrap; max-width: 500px; overflow: hidden; text-overflow: ellipsis; \" colspan=\"1\"><div style=\"text-align: left;border-bottom: solid 2px #000; padding-bottom: 5px\">alleles</div></td><td style=\"white-space: nowrap; max-width: 500px; overflow: hidden; text-overflow: ellipsis; \" colspan=\"1\"><div style=\"text-align: left;border-bottom: solid 2px #000; padding-bottom: 5px\">__uid_9</div></td><td style=\"white-space: nowrap; max-width: 500px; overflow: hidden; text-overflow: ellipsis; \" colspan=\"1\"><div style=\"text-align: left;border-bottom: solid 2px #000; padding-bottom: 5px\">__uid_7</div></td><td style=\"white-space: nowrap; max-width: 500px; overflow: hidden; text-overflow: ellipsis; \" colspan=\"1\"><div style=\"text-align: left;border-bottom: solid 2px #000; padding-bottom: 5px\">xmean</div></td><td style=\"white-space: nowrap; max-width: 500px; overflow: hidden; text-overflow: ellipsis; \" colspan=\"1\"><div style=\"text-align: left;border-bottom: solid 2px #000; padding-bottom: 5px\">xstd</div></td><td style=\"white-space: nowrap; max-width: 500px; overflow: hidden; text-overflow: ellipsis; \" colspan=\"1\"><div style=\"text-align: left;border-bottom: solid 2px #000; padding-bottom: 5px\">X</div></td><td style=\"white-space: nowrap; max-width: 500px; overflow: hidden; text-overflow: ellipsis; \" colspan=\"1\"><div style=\"text-align: left;border-bottom: solid 2px #000; padding-bottom: 5px\">r</div></td></tr><tr><td style=\"white-space: nowrap; max-width: 500px; overflow: hidden; text-overflow: ellipsis; text-align: left;\">locus&lt;GRCh37&gt;</td><td style=\"white-space: nowrap; max-width: 500px; overflow: hidden; text-overflow: ellipsis; text-align: left;\">array&lt;str&gt;</td><td style=\"white-space: nowrap; max-width: 500px; overflow: hidden; text-overflow: ellipsis; text-align: left;\">int64</td><td style=\"white-space: nowrap; max-width: 500px; overflow: hidden; text-overflow: ellipsis; text-align: left;\">array&lt;int32&gt;</td><td style=\"white-space: nowrap; max-width: 500px; overflow: hidden; text-overflow: ellipsis; text-align: left;\">float64</td><td style=\"white-space: nowrap; max-width: 500px; overflow: hidden; text-overflow: ellipsis; text-align: left;\">float64</td><td style=\"white-space: nowrap; max-width: 500px; overflow: hidden; text-overflow: ellipsis; text-align: left;\">array&lt;float64&gt;</td><td style=\"white-space: nowrap; max-width: 500px; overflow: hidden; text-overflow: ellipsis; text-align: left;\">int32</td></tr>\n</thead><tbody><tr><td style=\"white-space: nowrap; max-width: 500px; overflow: hidden; text-overflow: ellipsis; \">1:1</td><td style=\"white-space: nowrap; max-width: 500px; overflow: hidden; text-overflow: ellipsis; \">[&quot;A&quot;,&quot;C&quot;]</td><td style=\"white-space: nowrap; max-width: 500px; overflow: hidden; text-overflow: ellipsis; \">0</td><td style=\"white-space: nowrap; max-width: 500px; overflow: hidden; text-overflow: ellipsis; \">[1,2,1,1,0,0,2,2,1,2,1,0,2,1,1,1,1,1,2,2,1,2,2,2,0,1,1,1,1,1,1,0,1,2,2,1,2,1,0,2,2,1,2,0,2,0,0,2,1,1,2,1,1,2,1,2,1,1,2,1,0,1,1,1,1,2,1,1,2,1,2,1,1,2,2,2,1,2,2,1,2,2,1,2,2,1,1,1,1,2,2,1,2,2,1,1,1,2,2,0]</td><td style=\"white-space: nowrap; max-width: 500px; overflow: hidden; text-overflow: ellipsis; \">1.29e+00</td><td style=\"white-space: nowrap; max-width: 500px; overflow: hidden; text-overflow: ellipsis; \">6.53e-01</td><td style=\"white-space: nowrap; max-width: 500px; overflow: hidden; text-overflow: ellipsis; \">[-4.44e-01,1.09e+00,-4.44e-01,-4.44e-01,-1.98e+00,-1.98e+00,1.09e+00,1.09e+00,-4.44e-01,1.09e+00,-4.44e-01,-1.98e+00,1.09e+00,-4.44e-01,-4.44e-01,-4.44e-01,-4.44e-01,-4.44e-01,1.09e+00,1.09e+00,-4.44e-01,1.09e+00,1.09e+00,1.09e+00,-1.98e+00,-4.44e-01,-4.44e-01,-4.44e-01,-4.44e-01,-4.44e-01,-4.44e-01,-1.98e+00,-4.44e-01,1.09e+00,1.09e+00,-4.44e-01,1.09e+00,-4.44e-01,-1.98e+00,1.09e+00,1.09e+00,-4.44e-01,1.09e+00,-1.98e+00,1.09e+00,-1.98e+00,-1.98e+00,1.09e+00,-4.44e-01,-4.44e-01,1.09e+00,-4.44e-01,-4.44e-01,1.09e+00,-4.44e-01,1.09e+00,-4.44e-01,-4.44e-01,1.09e+00,-4.44e-01,-1.98e+00,-4.44e-01,-4.44e-01,-4.44e-01,-4.44e-01,1.09e+00,-4.44e-01,-4.44e-01,1.09e+00,-4.44e-01,1.09e+00,-4.44e-01,-4.44e-01,1.09e+00,1.09e+00,1.09e+00,-4.44e-01,1.09e+00,1.09e+00,-4.44e-01,1.09e+00,1.09e+00,-4.44e-01,1.09e+00,1.09e+00,-4.44e-01,-4.44e-01,-4.44e-01,-4.44e-01,1.09e+00,1.09e+00,-4.44e-01,1.09e+00,1.09e+00,-4.44e-01,-4.44e-01,-4.44e-01,1.09e+00,1.09e+00,-1.98e+00]</td><td style=\"white-space: nowrap; max-width: 500px; overflow: hidden; text-overflow: ellipsis; \">0</td></tr>\n<tr><td style=\"white-space: nowrap; max-width: 500px; overflow: hidden; text-overflow: ellipsis; \">1:2</td><td style=\"white-space: nowrap; max-width: 500px; overflow: hidden; text-overflow: ellipsis; \">[&quot;A&quot;,&quot;C&quot;]</td><td style=\"white-space: nowrap; max-width: 500px; overflow: hidden; text-overflow: ellipsis; \">1</td><td style=\"white-space: nowrap; max-width: 500px; overflow: hidden; text-overflow: ellipsis; \">[1,2,1,0,2,2,2,1,1,2,1,1,1,2,2,2,1,0,1,2,2,1,1,1,2,1,2,0,0,1,2,1,1,1,1,2,0,2,1,1,1,1,1,1,1,1,2,0,1,2,0,1,0,1,1,0,2,1,1,1,1,1,1,2,1,2,2,0,1,1,2,1,2,1,2,2,0,1,1,1,0,2,1,2,1,1,1,1,1,0,1,1,1,1,0,2,1,1,0,1]</td><td style=\"white-space: nowrap; max-width: 500px; overflow: hidden; text-overflow: ellipsis; \">1.13e+00</td><td style=\"white-space: nowrap; max-width: 500px; overflow: hidden; text-overflow: ellipsis; \">6.43e-01</td><td style=\"white-space: nowrap; max-width: 500px; overflow: hidden; text-overflow: ellipsis; \">[-2.02e-01,1.35e+00,-2.02e-01,-1.76e+00,1.35e+00,1.35e+00,1.35e+00,-2.02e-01,-2.02e-01,1.35e+00,-2.02e-01,-2.02e-01,-2.02e-01,1.35e+00,1.35e+00,1.35e+00,-2.02e-01,-1.76e+00,-2.02e-01,1.35e+00,1.35e+00,-2.02e-01,-2.02e-01,-2.02e-01,1.35e+00,-2.02e-01,1.35e+00,-1.76e+00,-1.76e+00,-2.02e-01,1.35e+00,-2.02e-01,-2.02e-01,-2.02e-01,-2.02e-01,1.35e+00,-1.76e+00,1.35e+00,-2.02e-01,-2.02e-01,-2.02e-01,-2.02e-01,-2.02e-01,-2.02e-01,-2.02e-01,-2.02e-01,1.35e+00,-1.76e+00,-2.02e-01,1.35e+00,-1.76e+00,-2.02e-01,-1.76e+00,-2.02e-01,-2.02e-01,-1.76e+00,1.35e+00,-2.02e-01,-2.02e-01,-2.02e-01,-2.02e-01,-2.02e-01,-2.02e-01,1.35e+00,-2.02e-01,1.35e+00,1.35e+00,-1.76e+00,-2.02e-01,-2.02e-01,1.35e+00,-2.02e-01,1.35e+00,-2.02e-01,1.35e+00,1.35e+00,-1.76e+00,-2.02e-01,-2.02e-01,-2.02e-01,-1.76e+00,1.35e+00,-2.02e-01,1.35e+00,-2.02e-01,-2.02e-01,-2.02e-01,-2.02e-01,-2.02e-01,-1.76e+00,-2.02e-01,-2.02e-01,-2.02e-01,-2.02e-01,-1.76e+00,1.35e+00,-2.02e-01,-2.02e-01,-1.76e+00,-2.02e-01]</td><td style=\"white-space: nowrap; max-width: 500px; overflow: hidden; text-overflow: ellipsis; \">0</td></tr>\n<tr><td style=\"white-space: nowrap; max-width: 500px; overflow: hidden; text-overflow: ellipsis; \">1:3</td><td style=\"white-space: nowrap; max-width: 500px; overflow: hidden; text-overflow: ellipsis; \">[&quot;A&quot;,&quot;C&quot;]</td><td style=\"white-space: nowrap; max-width: 500px; overflow: hidden; text-overflow: ellipsis; \">2</td><td style=\"white-space: nowrap; max-width: 500px; overflow: hidden; text-overflow: ellipsis; \">[1,2,2,0,2,2,1,2,1,2,2,1,1,2,1,2,2,2,1,2,0,2,2,2,1,1,2,2,2,1,2,0,1,1,0,1,2,2,0,1,2,1,1,2,2,1,2,2,2,2,1,1,2,1,2,1,2,2,1,1,2,1,2,1,1,2,1,2,2,2,1,1,1,0,1,2,0,1,1,1,2,1,1,2,0,0,0,1,2,1,2,2,2,1,2,2,2,1,2,0]</td><td style=\"white-space: nowrap; max-width: 500px; overflow: hidden; text-overflow: ellipsis; \">1.38e+00</td><td style=\"white-space: nowrap; max-width: 500px; overflow: hidden; text-overflow: ellipsis; \">6.75e-01</td><td style=\"white-space: nowrap; max-width: 500px; overflow: hidden; text-overflow: ellipsis; \">[-5.63e-01,9.19e-01,9.19e-01,-2.04e+00,9.19e-01,9.19e-01,-5.63e-01,9.19e-01,-5.63e-01,9.19e-01,9.19e-01,-5.63e-01,-5.63e-01,9.19e-01,-5.63e-01,9.19e-01,9.19e-01,9.19e-01,-5.63e-01,9.19e-01,-2.04e+00,9.19e-01,9.19e-01,9.19e-01,-5.63e-01,-5.63e-01,9.19e-01,9.19e-01,9.19e-01,-5.63e-01,9.19e-01,-2.04e+00,-5.63e-01,-5.63e-01,-2.04e+00,-5.63e-01,9.19e-01,9.19e-01,-2.04e+00,-5.63e-01,9.19e-01,-5.63e-01,-5.63e-01,9.19e-01,9.19e-01,-5.63e-01,9.19e-01,9.19e-01,9.19e-01,9.19e-01,-5.63e-01,-5.63e-01,9.19e-01,-5.63e-01,9.19e-01,-5.63e-01,9.19e-01,9.19e-01,-5.63e-01,-5.63e-01,9.19e-01,-5.63e-01,9.19e-01,-5.63e-01,-5.63e-01,9.19e-01,-5.63e-01,9.19e-01,9.19e-01,9.19e-01,-5.63e-01,-5.63e-01,-5.63e-01,-2.04e+00,-5.63e-01,9.19e-01,-2.04e+00,-5.63e-01,-5.63e-01,-5.63e-01,9.19e-01,-5.63e-01,-5.63e-01,9.19e-01,-2.04e+00,-2.04e+00,-2.04e+00,-5.63e-01,9.19e-01,-5.63e-01,9.19e-01,9.19e-01,9.19e-01,-5.63e-01,9.19e-01,9.19e-01,9.19e-01,-5.63e-01,9.19e-01,-2.04e+00]</td><td style=\"white-space: nowrap; max-width: 500px; overflow: hidden; text-overflow: ellipsis; \">0</td></tr>\n<tr><td style=\"white-space: nowrap; max-width: 500px; overflow: hidden; text-overflow: ellipsis; \">1:4</td><td style=\"white-space: nowrap; max-width: 500px; overflow: hidden; text-overflow: ellipsis; \">[&quot;A&quot;,&quot;C&quot;]</td><td style=\"white-space: nowrap; max-width: 500px; overflow: hidden; text-overflow: ellipsis; \">3</td><td style=\"white-space: nowrap; max-width: 500px; overflow: hidden; text-overflow: ellipsis; \">[2,1,1,1,1,2,1,2,2,1,0,2,1,1,1,1,2,2,1,2,1,2,2,1,2,2,2,1,1,2,2,2,2,1,1,2,1,0,1,1,1,2,2,2,0,0,2,2,1,1,2,1,1,1,1,1,1,2,1,0,1,1,0,1,2,2,2,1,2,1,1,2,1,2,1,1,2,1,1,1,0,1,1,1,2,2,0,0,0,2,2,1,1,1,2,2,2,1,2,0]</td><td style=\"white-space: nowrap; max-width: 500px; overflow: hidden; text-overflow: ellipsis; \">1.29e+00</td><td style=\"white-space: nowrap; max-width: 500px; overflow: hidden; text-overflow: ellipsis; \">6.53e-01</td><td style=\"white-space: nowrap; max-width: 500px; overflow: hidden; text-overflow: ellipsis; \">[1.09e+00,-4.44e-01,-4.44e-01,-4.44e-01,-4.44e-01,1.09e+00,-4.44e-01,1.09e+00,1.09e+00,-4.44e-01,-1.98e+00,1.09e+00,-4.44e-01,-4.44e-01,-4.44e-01,-4.44e-01,1.09e+00,1.09e+00,-4.44e-01,1.09e+00,-4.44e-01,1.09e+00,1.09e+00,-4.44e-01,1.09e+00,1.09e+00,1.09e+00,-4.44e-01,-4.44e-01,1.09e+00,1.09e+00,1.09e+00,1.09e+00,-4.44e-01,-4.44e-01,1.09e+00,-4.44e-01,-1.98e+00,-4.44e-01,-4.44e-01,-4.44e-01,1.09e+00,1.09e+00,1.09e+00,-1.98e+00,-1.98e+00,1.09e+00,1.09e+00,-4.44e-01,-4.44e-01,1.09e+00,-4.44e-01,-4.44e-01,-4.44e-01,-4.44e-01,-4.44e-01,-4.44e-01,1.09e+00,-4.44e-01,-1.98e+00,-4.44e-01,-4.44e-01,-1.98e+00,-4.44e-01,1.09e+00,1.09e+00,1.09e+00,-4.44e-01,1.09e+00,-4.44e-01,-4.44e-01,1.09e+00,-4.44e-01,1.09e+00,-4.44e-01,-4.44e-01,1.09e+00,-4.44e-01,-4.44e-01,-4.44e-01,-1.98e+00,-4.44e-01,-4.44e-01,-4.44e-01,1.09e+00,1.09e+00,-1.98e+00,-1.98e+00,-1.98e+00,1.09e+00,1.09e+00,-4.44e-01,-4.44e-01,-4.44e-01,1.09e+00,1.09e+00,1.09e+00,-4.44e-01,1.09e+00,-1.98e+00]</td><td style=\"white-space: nowrap; max-width: 500px; overflow: hidden; text-overflow: ellipsis; \">0</td></tr>\n<tr><td style=\"white-space: nowrap; max-width: 500px; overflow: hidden; text-overflow: ellipsis; \">1:5</td><td style=\"white-space: nowrap; max-width: 500px; overflow: hidden; text-overflow: ellipsis; \">[&quot;A&quot;,&quot;C&quot;]</td><td style=\"white-space: nowrap; max-width: 500px; overflow: hidden; text-overflow: ellipsis; \">4</td><td style=\"white-space: nowrap; max-width: 500px; overflow: hidden; text-overflow: ellipsis; \">[0,1,2,0,2,2,1,1,0,1,2,1,1,1,1,1,2,2,2,1,1,2,1,0,1,0,1,1,2,0,1,2,0,0,1,1,0,2,2,2,1,2,0,1,2,2,1,1,2,2,1,2,1,1,1,2,1,0,0,1,0,1,0,0,1,0,0,1,1,2,1,1,2,1,1,0,2,1,2,1,1,1,0,1,1,2,1,1,2,1,0,1,0,1,1,0,1,2,1,2]</td><td style=\"white-space: nowrap; max-width: 500px; overflow: hidden; text-overflow: ellipsis; \">1.06e+00</td><td style=\"white-space: nowrap; max-width: 500px; overflow: hidden; text-overflow: ellipsis; \">7.05e-01</td><td style=\"white-space: nowrap; max-width: 500px; overflow: hidden; text-overflow: ellipsis; \">[-1.50e+00,-8.52e-02,1.33e+00,-1.50e+00,1.33e+00,1.33e+00,-8.52e-02,-8.52e-02,-1.50e+00,-8.52e-02,1.33e+00,-8.52e-02,-8.52e-02,-8.52e-02,-8.52e-02,-8.52e-02,1.33e+00,1.33e+00,1.33e+00,-8.52e-02,-8.52e-02,1.33e+00,-8.52e-02,-1.50e+00,-8.52e-02,-1.50e+00,-8.52e-02,-8.52e-02,1.33e+00,-1.50e+00,-8.52e-02,1.33e+00,-1.50e+00,-1.50e+00,-8.52e-02,-8.52e-02,-1.50e+00,1.33e+00,1.33e+00,1.33e+00,-8.52e-02,1.33e+00,-1.50e+00,-8.52e-02,1.33e+00,1.33e+00,-8.52e-02,-8.52e-02,1.33e+00,1.33e+00,-8.52e-02,1.33e+00,-8.52e-02,-8.52e-02,-8.52e-02,1.33e+00,-8.52e-02,-1.50e+00,-1.50e+00,-8.52e-02,-1.50e+00,-8.52e-02,-1.50e+00,-1.50e+00,-8.52e-02,-1.50e+00,-1.50e+00,-8.52e-02,-8.52e-02,1.33e+00,-8.52e-02,-8.52e-02,1.33e+00,-8.52e-02,-8.52e-02,-1.50e+00,1.33e+00,-8.52e-02,1.33e+00,-8.52e-02,-8.52e-02,-8.52e-02,-1.50e+00,-8.52e-02,-8.52e-02,1.33e+00,-8.52e-02,-8.52e-02,1.33e+00,-8.52e-02,-1.50e+00,-8.52e-02,-1.50e+00,-8.52e-02,-8.52e-02,-1.50e+00,-8.52e-02,1.33e+00,-8.52e-02,1.33e+00]</td><td style=\"white-space: nowrap; max-width: 500px; overflow: hidden; text-overflow: ellipsis; \">0</td></tr>\n<tr><td style=\"white-space: nowrap; max-width: 500px; overflow: hidden; text-overflow: ellipsis; \">1:6</td><td style=\"white-space: nowrap; max-width: 500px; overflow: hidden; text-overflow: ellipsis; \">[&quot;A&quot;,&quot;C&quot;]</td><td style=\"white-space: nowrap; max-width: 500px; overflow: hidden; text-overflow: ellipsis; \">5</td><td style=\"white-space: nowrap; max-width: 500px; overflow: hidden; text-overflow: ellipsis; \">[0,2,1,1,1,2,0,1,0,1,1,0,0,1,1,0,1,1,1,1,0,1,1,2,2,1,2,2,2,1,2,1,1,2,2,0,0,2,0,1,1,1,0,2,2,2,1,2,2,1,0,1,2,1,2,0,0,0,1,2,1,2,2,2,2,2,2,2,2,2,2,0,1,0,2,1,0,1,0,1,1,1,2,2,2,2,1,1,1,2,1,1,0,2,2,1,0,1,1,1]</td><td style=\"white-space: nowrap; max-width: 500px; overflow: hidden; text-overflow: ellipsis; \">1.16e+00</td><td style=\"white-space: nowrap; max-width: 500px; overflow: hidden; text-overflow: ellipsis; \">7.45e-01</td><td style=\"white-space: nowrap; max-width: 500px; overflow: hidden; text-overflow: ellipsis; \">[-1.56e+00,1.13e+00,-2.15e-01,-2.15e-01,-2.15e-01,1.13e+00,-1.56e+00,-2.15e-01,-1.56e+00,-2.15e-01,-2.15e-01,-1.56e+00,-1.56e+00,-2.15e-01,-2.15e-01,-1.56e+00,-2.15e-01,-2.15e-01,-2.15e-01,-2.15e-01,-1.56e+00,-2.15e-01,-2.15e-01,1.13e+00,1.13e+00,-2.15e-01,1.13e+00,1.13e+00,1.13e+00,-2.15e-01,1.13e+00,-2.15e-01,-2.15e-01,1.13e+00,1.13e+00,-1.56e+00,-1.56e+00,1.13e+00,-1.56e+00,-2.15e-01,-2.15e-01,-2.15e-01,-1.56e+00,1.13e+00,1.13e+00,1.13e+00,-2.15e-01,1.13e+00,1.13e+00,-2.15e-01,-1.56e+00,-2.15e-01,1.13e+00,-2.15e-01,1.13e+00,-1.56e+00,-1.56e+00,-1.56e+00,-2.15e-01,1.13e+00,-2.15e-01,1.13e+00,1.13e+00,1.13e+00,1.13e+00,1.13e+00,1.13e+00,1.13e+00,1.13e+00,1.13e+00,1.13e+00,-1.56e+00,-2.15e-01,-1.56e+00,1.13e+00,-2.15e-01,-1.56e+00,-2.15e-01,-1.56e+00,-2.15e-01,-2.15e-01,-2.15e-01,1.13e+00,1.13e+00,1.13e+00,1.13e+00,-2.15e-01,-2.15e-01,-2.15e-01,1.13e+00,-2.15e-01,-2.15e-01,-1.56e+00,1.13e+00,1.13e+00,-2.15e-01,-1.56e+00,-2.15e-01,-2.15e-01,-2.15e-01]</td><td style=\"white-space: nowrap; max-width: 500px; overflow: hidden; text-overflow: ellipsis; \">0</td></tr>\n<tr><td style=\"white-space: nowrap; max-width: 500px; overflow: hidden; text-overflow: ellipsis; \">1:7</td><td style=\"white-space: nowrap; max-width: 500px; overflow: hidden; text-overflow: ellipsis; \">[&quot;A&quot;,&quot;C&quot;]</td><td style=\"white-space: nowrap; max-width: 500px; overflow: hidden; text-overflow: ellipsis; \">6</td><td style=\"white-space: nowrap; max-width: 500px; overflow: hidden; text-overflow: ellipsis; \">[1,1,0,0,1,2,2,0,1,0,1,1,1,1,1,2,0,1,1,2,1,0,2,0,0,0,2,2,1,2,1,1,1,1,1,0,1,2,0,0,2,0,0,1,0,2,1,1,0,1,0,2,0,0,1,1,2,1,0,0,1,1,1,0,1,1,2,1,1,0,2,2,1,1,1,0,1,1,2,1,1,1,2,2,1,1,0,2,0,1,0,1,1,1,1,1,1,1,1,0]</td><td style=\"white-space: nowrap; max-width: 500px; overflow: hidden; text-overflow: ellipsis; \">9.20e-01</td><td style=\"white-space: nowrap; max-width: 500px; overflow: hidden; text-overflow: ellipsis; \">6.88e-01</td><td style=\"white-space: nowrap; max-width: 500px; overflow: hidden; text-overflow: ellipsis; \">[1.16e-01,1.16e-01,-1.34e+00,-1.34e+00,1.16e-01,1.57e+00,1.57e+00,-1.34e+00,1.16e-01,-1.34e+00,1.16e-01,1.16e-01,1.16e-01,1.16e-01,1.16e-01,1.57e+00,-1.34e+00,1.16e-01,1.16e-01,1.57e+00,1.16e-01,-1.34e+00,1.57e+00,-1.34e+00,-1.34e+00,-1.34e+00,1.57e+00,1.57e+00,1.16e-01,1.57e+00,1.16e-01,1.16e-01,1.16e-01,1.16e-01,1.16e-01,-1.34e+00,1.16e-01,1.57e+00,-1.34e+00,-1.34e+00,1.57e+00,-1.34e+00,-1.34e+00,1.16e-01,-1.34e+00,1.57e+00,1.16e-01,1.16e-01,-1.34e+00,1.16e-01,-1.34e+00,1.57e+00,-1.34e+00,-1.34e+00,1.16e-01,1.16e-01,1.57e+00,1.16e-01,-1.34e+00,-1.34e+00,1.16e-01,1.16e-01,1.16e-01,-1.34e+00,1.16e-01,1.16e-01,1.57e+00,1.16e-01,1.16e-01,-1.34e+00,1.57e+00,1.57e+00,1.16e-01,1.16e-01,1.16e-01,-1.34e+00,1.16e-01,1.16e-01,1.57e+00,1.16e-01,1.16e-01,1.16e-01,1.57e+00,1.57e+00,1.16e-01,1.16e-01,-1.34e+00,1.57e+00,-1.34e+00,1.16e-01,-1.34e+00,1.16e-01,1.16e-01,1.16e-01,1.16e-01,1.16e-01,1.16e-01,1.16e-01,1.16e-01,-1.34e+00]</td><td style=\"white-space: nowrap; max-width: 500px; overflow: hidden; text-overflow: ellipsis; \">0</td></tr>\n<tr><td style=\"white-space: nowrap; max-width: 500px; overflow: hidden; text-overflow: ellipsis; \">1:8</td><td style=\"white-space: nowrap; max-width: 500px; overflow: hidden; text-overflow: ellipsis; \">[&quot;A&quot;,&quot;C&quot;]</td><td style=\"white-space: nowrap; max-width: 500px; overflow: hidden; text-overflow: ellipsis; \">7</td><td style=\"white-space: nowrap; max-width: 500px; overflow: hidden; text-overflow: ellipsis; \">[2,2,2,2,2,0,1,2,2,2,2,0,2,1,1,1,1,2,2,2,1,2,2,1,2,1,2,1,2,2,2,2,1,2,2,2,1,2,2,2,2,2,2,1,2,2,1,2,1,2,1,0,2,1,1,0,2,1,1,1,2,1,1,2,1,2,2,2,2,2,2,2,1,1,2,2,1,2,2,1,2,2,2,1,2,1,2,1,2,2,2,2,2,1,1,1,1,2,2,2]</td><td style=\"white-space: nowrap; max-width: 500px; overflow: hidden; text-overflow: ellipsis; \">1.58e+00</td><td style=\"white-space: nowrap; max-width: 500px; overflow: hidden; text-overflow: ellipsis; \">5.69e-01</td><td style=\"white-space: nowrap; max-width: 500px; overflow: hidden; text-overflow: ellipsis; \">[7.38e-01,7.38e-01,7.38e-01,7.38e-01,7.38e-01,-2.78e+00,-1.02e+00,7.38e-01,7.38e-01,7.38e-01,7.38e-01,-2.78e+00,7.38e-01,-1.02e+00,-1.02e+00,-1.02e+00,-1.02e+00,7.38e-01,7.38e-01,7.38e-01,-1.02e+00,7.38e-01,7.38e-01,-1.02e+00,7.38e-01,-1.02e+00,7.38e-01,-1.02e+00,7.38e-01,7.38e-01,7.38e-01,7.38e-01,-1.02e+00,7.38e-01,7.38e-01,7.38e-01,-1.02e+00,7.38e-01,7.38e-01,7.38e-01,7.38e-01,7.38e-01,7.38e-01,-1.02e+00,7.38e-01,7.38e-01,-1.02e+00,7.38e-01,-1.02e+00,7.38e-01,-1.02e+00,-2.78e+00,7.38e-01,-1.02e+00,-1.02e+00,-2.78e+00,7.38e-01,-1.02e+00,-1.02e+00,-1.02e+00,7.38e-01,-1.02e+00,-1.02e+00,7.38e-01,-1.02e+00,7.38e-01,7.38e-01,7.38e-01,7.38e-01,7.38e-01,7.38e-01,7.38e-01,-1.02e+00,-1.02e+00,7.38e-01,7.38e-01,-1.02e+00,7.38e-01,7.38e-01,-1.02e+00,7.38e-01,7.38e-01,7.38e-01,-1.02e+00,7.38e-01,-1.02e+00,7.38e-01,-1.02e+00,7.38e-01,7.38e-01,7.38e-01,7.38e-01,7.38e-01,-1.02e+00,-1.02e+00,-1.02e+00,-1.02e+00,7.38e-01,7.38e-01,7.38e-01]</td><td style=\"white-space: nowrap; max-width: 500px; overflow: hidden; text-overflow: ellipsis; \">0</td></tr>\n<tr><td style=\"white-space: nowrap; max-width: 500px; overflow: hidden; text-overflow: ellipsis; \">1:9</td><td style=\"white-space: nowrap; max-width: 500px; overflow: hidden; text-overflow: ellipsis; \">[&quot;A&quot;,&quot;C&quot;]</td><td style=\"white-space: nowrap; max-width: 500px; overflow: hidden; text-overflow: ellipsis; \">8</td><td style=\"white-space: nowrap; max-width: 500px; overflow: hidden; text-overflow: ellipsis; \">[2,2,2,2,1,2,2,2,2,2,1,2,2,2,2,1,2,2,2,2,2,2,2,2,2,2,2,2,1,1,2,1,2,1,2,1,2,1,2,2,2,0,2,2,2,1,2,2,1,2,2,1,2,2,2,2,1,2,1,1,1,2,1,2,2,0,2,2,2,2,2,2,1,2,1,2,2,2,2,1,2,2,1,1,2,2,2,2,1,1,2,1,2,2,2,2,0,2,2,2]</td><td style=\"white-space: nowrap; max-width: 500px; overflow: hidden; text-overflow: ellipsis; \">1.69e+00</td><td style=\"white-space: nowrap; max-width: 500px; overflow: hidden; text-overflow: ellipsis; \">5.23e-01</td><td style=\"white-space: nowrap; max-width: 500px; overflow: hidden; text-overflow: ellipsis; \">[5.92e-01,5.92e-01,5.92e-01,5.92e-01,-1.32e+00,5.92e-01,5.92e-01,5.92e-01,5.92e-01,5.92e-01,-1.32e+00,5.92e-01,5.92e-01,5.92e-01,5.92e-01,-1.32e+00,5.92e-01,5.92e-01,5.92e-01,5.92e-01,5.92e-01,5.92e-01,5.92e-01,5.92e-01,5.92e-01,5.92e-01,5.92e-01,5.92e-01,-1.32e+00,-1.32e+00,5.92e-01,-1.32e+00,5.92e-01,-1.32e+00,5.92e-01,-1.32e+00,5.92e-01,-1.32e+00,5.92e-01,5.92e-01,5.92e-01,-3.23e+00,5.92e-01,5.92e-01,5.92e-01,-1.32e+00,5.92e-01,5.92e-01,-1.32e+00,5.92e-01,5.92e-01,-1.32e+00,5.92e-01,5.92e-01,5.92e-01,5.92e-01,-1.32e+00,5.92e-01,-1.32e+00,-1.32e+00,-1.32e+00,5.92e-01,-1.32e+00,5.92e-01,5.92e-01,-3.23e+00,5.92e-01,5.92e-01,5.92e-01,5.92e-01,5.92e-01,5.92e-01,-1.32e+00,5.92e-01,-1.32e+00,5.92e-01,5.92e-01,5.92e-01,5.92e-01,-1.32e+00,5.92e-01,5.92e-01,-1.32e+00,-1.32e+00,5.92e-01,5.92e-01,5.92e-01,5.92e-01,-1.32e+00,-1.32e+00,5.92e-01,-1.32e+00,5.92e-01,5.92e-01,5.92e-01,5.92e-01,-3.23e+00,5.92e-01,5.92e-01,5.92e-01]</td><td style=\"white-space: nowrap; max-width: 500px; overflow: hidden; text-overflow: ellipsis; \">0</td></tr>\n<tr><td style=\"white-space: nowrap; max-width: 500px; overflow: hidden; text-overflow: ellipsis; \">1:10</td><td style=\"white-space: nowrap; max-width: 500px; overflow: hidden; text-overflow: ellipsis; \">[&quot;A&quot;,&quot;C&quot;]</td><td style=\"white-space: nowrap; max-width: 500px; overflow: hidden; text-overflow: ellipsis; \">9</td><td style=\"white-space: nowrap; max-width: 500px; overflow: hidden; text-overflow: ellipsis; \">[1,0,1,1,2,1,1,2,1,1,1,1,1,0,0,2,2,1,2,2,0,1,0,2,2,1,2,1,1,2,1,1,1,2,1,1,0,1,1,1,2,1,1,2,2,1,2,1,1,1,1,1,2,1,0,0,2,0,2,1,0,1,1,2,1,2,1,1,2,2,2,2,2,0,1,2,2,1,1,1,0,1,0,2,2,1,2,2,2,2,1,0,2,1,2,2,2,1,1,2]</td><td style=\"white-space: nowrap; max-width: 500px; overflow: hidden; text-overflow: ellipsis; \">1.24e+00</td><td style=\"white-space: nowrap; max-width: 500px; overflow: hidden; text-overflow: ellipsis; \">6.80e-01</td><td style=\"white-space: nowrap; max-width: 500px; overflow: hidden; text-overflow: ellipsis; \">[-3.53e-01,-1.82e+00,-3.53e-01,-3.53e-01,1.12e+00,-3.53e-01,-3.53e-01,1.12e+00,-3.53e-01,-3.53e-01,-3.53e-01,-3.53e-01,-3.53e-01,-1.82e+00,-1.82e+00,1.12e+00,1.12e+00,-3.53e-01,1.12e+00,1.12e+00,-1.82e+00,-3.53e-01,-1.82e+00,1.12e+00,1.12e+00,-3.53e-01,1.12e+00,-3.53e-01,-3.53e-01,1.12e+00,-3.53e-01,-3.53e-01,-3.53e-01,1.12e+00,-3.53e-01,-3.53e-01,-1.82e+00,-3.53e-01,-3.53e-01,-3.53e-01,1.12e+00,-3.53e-01,-3.53e-01,1.12e+00,1.12e+00,-3.53e-01,1.12e+00,-3.53e-01,-3.53e-01,-3.53e-01,-3.53e-01,-3.53e-01,1.12e+00,-3.53e-01,-1.82e+00,-1.82e+00,1.12e+00,-1.82e+00,1.12e+00,-3.53e-01,-1.82e+00,-3.53e-01,-3.53e-01,1.12e+00,-3.53e-01,1.12e+00,-3.53e-01,-3.53e-01,1.12e+00,1.12e+00,1.12e+00,1.12e+00,1.12e+00,-1.82e+00,-3.53e-01,1.12e+00,1.12e+00,-3.53e-01,-3.53e-01,-3.53e-01,-1.82e+00,-3.53e-01,-1.82e+00,1.12e+00,1.12e+00,-3.53e-01,1.12e+00,1.12e+00,1.12e+00,1.12e+00,-3.53e-01,-1.82e+00,1.12e+00,-3.53e-01,1.12e+00,1.12e+00,1.12e+00,-3.53e-01,-3.53e-01,1.12e+00]</td><td style=\"white-space: nowrap; max-width: 500px; overflow: hidden; text-overflow: ellipsis; \">0</td></tr>\n</tbody></table><p style=\"background: #fdd; padding: 0.4em;\">showing top 10 rows</p>\n"
     },
     "metadata": {}
    },
    {
     "output_type": "stream",
     "name": "stdout",
     "text": "None\n----------------------------------------\nGlobal fields:\n    'Y': ndarray<float64, 1> \n    'alphas': ndarray<float32, 1> \n----------------------------------------\nRow fields:\n    'locus': locus<GRCh37> \n    'alleles': array<str> \n    '__uid_9': int64 \n    '__uid_7': array<int32> \n    'xmean': float64 \n    'xstd': float64 \n    'X': array<float64> \n    'r': int32 \n----------------------------------------\nKey: ['r']\n----------------------------------------\nafter ht = ht.group_by(ht.r).aggregate(\n    entries=hl.sorted(\n        hl.agg.collect(hl.struct(row_index=ht[row_index], X=ht.X)),\n        key=lambda x: x.row_index\n    ))\n----------------------------------------\nGlobal fields:\n    'Y': ndarray<float64, 1> \n    'alphas': ndarray<float32, 1> \n----------------------------------------\nRow fields:\n    'r': int32 \n    'entries': array<struct {\n        row_index: int64, \n        X: array<float64>\n    }> \n----------------------------------------\nKey: ['r']\n----------------------------------------\nafter mt = mt.select(block=hl.nd.array(mt.entries))\n----------------------------------------\nGlobal fields:\n    'Y': ndarray<float64, 1> \n    'alphas': ndarray<float32, 1> \n----------------------------------------\nRow fields:\n    'r': int32 \n    'X': ndarray<float64, 2> \n----------------------------------------\nKey: ['r']\n----------------------------------------\nafter ht = ht.select_globals(\n    Y = ht.Y,\n    alphas = ht.alphas,\n    alphaFields = alphaFields,\n    snp_block_idx_field='r',\n    n_variants_per_block=n_variants_per_block,\n    n_block_rows=n_block_rows)\n----------------------------------------\nGlobal fields:\n    'Y': ndarray<float64, 1> \n    'alphas': ndarray<float32, 1> \n    'alphaFields': array<str> \n    'snp_block_idx_field': str \n    'n_variants_per_block': int32 \n    'n_block_rows': int32 \n----------------------------------------\nRow fields:\n    'r': int32 \n    'X': ndarray<float64, 2> \n----------------------------------------\nKey: ['r']\n----------------------------------------\n"
    }
   ],
   "source": [
    "# TODO: support single-precision floats\n",
    "\n",
    "import json\n",
    "import numpy as np\n",
    "from typing import Optional, Tuple, Callable\n",
    "\n",
    "from hail.utils.java import Env\n",
    "from hail.utils import range_table, new_temp_file\n",
    "from hail.expr import Expression\n",
    "from hail import nd\n",
    "from hail.matrixtable import MatrixTable\n",
    "from hail.table import Table\n",
    "from hail.experimental.dnd import DNDArray\n",
    "import hail as hl\n",
    "\n",
    "\n",
    "mt = mtOrig\n",
    "print(\"Original mt\")\n",
    "print(mt.show())\n",
    "mt.describe()\n",
    "\n",
    "n_variants_per_block = 1000\n",
    "entrc_field = \"ac\"\n",
    "\n",
    "n_rows, _ = mt.count()\n",
    "n_block_rows = (n_rows + n_variants_per_block - 1) // n_variants_per_block\n",
    "print(n_rows, n_rows, \"n_block_rows\", n_block_rows)\n",
    "\n",
    "entries, cols, row_index, col_blocks = (Env.get_uid() for _ in range(4))\n",
    "\n",
    "\n",
    "################### localize_entries takes the entry field, which is separated into n columns, and stuffs all of that data into a single field ##### \n",
    "# TODO: \n",
    "# Can do with an hl.agg.collect(ht[entrc_field]).rows instead of localize_entries\n",
    "# localize entries does a copy to pull out an entry field\n",
    "\n",
    "def genalphas(n_variants: int, r: int) -> np.array:\n",
    "    h2 = np.arange(0.01, .99, 1/r, dtype=np.float32) \n",
    "    return n_variants / h2\n",
    "    \n",
    "alphas = genalphas(n_rows, 2)\n",
    "\n",
    "alphaFields = [Env.get_uid() for _ in alphas]\n",
    "\n",
    "y = np.array(mt.y.collect())\n",
    "y = (y - y.mean()) / y.std()\n",
    "ht = (mt\n",
    "      .select_rows()\n",
    "      .select_cols()\n",
    "      .select_globals(Y = hl.nd.array(y),\n",
    "                      # I = hl.nd.eye(n_variants_per_block),\n",
    "                      alphas = alphas)\n",
    "      .add_row_index(row_index)\n",
    "      .localize_entries(entries))\n",
    "print(\"\"\"mt = (mt\n",
    "      .add_row_index(row_index)\n",
    "      .select_globals(Y = hl.nd.array(Y.collect()))\n",
    "      .localize_entries(entries))\"\"\")\n",
    "ht.describe()\n",
    "\n",
    "sample_indices = mt.sample_idx.collect()\n",
    "\n",
    "\n",
    "################## This step transformed the array of structs to an array of the values of one of the fields in that struct ########\n",
    "\n",
    "ht = ht.annotate(**{entries: ht[entries][entrc_field]})\n",
    "print(\"after mt.annotate(**{entries: mt[entries][entrc_field]})\")\n",
    "ht.describe()\n",
    "\n",
    "ht = ht.annotate(xmean = hl.mean(ht[entries]))\n",
    "ht = ht.annotate(xstd = (hl.sum(ht[entries].map(lambda x: (x - ht.xmean) ** 2)) / hl.len(ht[entries])) ** .5)\n",
    "ht = ht.annotate(X = ht[entries].map(lambda x: (x - ht.xmean) / ht.xstd))\n",
    "\n",
    "################ Group rows of snps (which are already collected into nSample x 1 arrays) ######### \n",
    "ht = ht.annotate(r=hl.int(ht[row_index] // n_variants_per_block))\n",
    "print(\"after mt = mt.annotate(r=hl.int(mt[row_index] // n_variants_per_block))\")\n",
    "print(ht.show())\n",
    "ht.describe()\n",
    "\n",
    "# Not sure of the benefit of key by outside of joins...does this create an index? does it sort? if it sorts, that is magic\n",
    "# does sort; mostly for joins, but if something doesn't use that sort order we are allowed\n",
    "# implicit join syntax\n",
    "# because we can store on disk ordered by key\n",
    "ht = ht.key_by(ht.r)\n",
    "print(\"after mt = mt.key_by(mt.r, mt.c)\")\n",
    "print(ht.show())\n",
    "ht.describe()\n",
    "\n",
    "# Not sure why hl.sorted is neededd here\n",
    "# TODO: I think this should be group by chromosome and row block\n",
    "ht = ht.group_by(ht.r).aggregate(\n",
    "    entries=hl.sorted(\n",
    "        hl.agg.collect(hl.struct(row_index=ht[row_index], X=ht.X)),\n",
    "        key=lambda x: x.row_index\n",
    "    ))\n",
    "print(\"\"\"after ht = ht.group_by(ht.r).aggregate(\n",
    "    entries=hl.sorted(\n",
    "        hl.agg.collect(hl.struct(row_index=ht[row_index], X=ht.X)),\n",
    "        key=lambda x: x.row_index\n",
    "    ))\"\"\")\n",
    "ht.describe()\n",
    "\n",
    "# X will now be shape nSample x bSnps\n",
    "# so XtX will be bSnps x bSnps\n",
    "ht = ht.select(X = hl.nd.array(ht.entries.X).T)\n",
    "\n",
    "print(\"after mt = mt.select(block=hl.nd.array(mt.entries))\")\n",
    "ht.describe()\n",
    "\n",
    "ht = ht.select_globals(\n",
    "    Y = ht.Y,\n",
    "    alphas = ht.alphas,\n",
    "    alphaFields = alphaFields,\n",
    "    snp_block_idx_field='r',\n",
    "    n_variants_per_block=n_variants_per_block,\n",
    "    n_block_rows=n_block_rows)\n",
    "print(\"\"\"after ht = ht.select_globals(\n",
    "    Y = ht.Y,\n",
    "    alphas = ht.alphas,\n",
    "    alphaFields = alphaFields,\n",
    "    snp_block_idx_field='r',\n",
    "    n_variants_per_block=n_variants_per_block,\n",
    "    n_block_rows=n_block_rows)\"\"\")\n",
    "ht.describe()"
   ]
  },
  {
   "cell_type": "code",
   "execution_count": null,
   "metadata": {},
   "outputs": [],
   "source": [
    "# y = np.array(mt.y.collect())\n",
    "# y = (y - y.mean()) / y.std()\n",
    "# # Can do with an hl.agg.collect(ht[entrc_field]).rows instead of localize_entries\n",
    "# # localize entries does a copy to pull out an entry field\n",
    "# ht = (mt\n",
    "#       .select_rows()\n",
    "#       .select_cols()\n",
    "#       .select_globals(Y = hl.nd.array(y),\n",
    "# #                       I = hl.nd.eye(n_variants_per_block),\n",
    "#                       alphas = alphas)\n",
    "#       .add_row_index(row_index)\n",
    "#       .localize_entries(entries))\n",
    "\n"
   ]
  },
  {
   "cell_type": "code",
   "execution_count": 3,
   "metadata": {
    "tags": []
   },
   "outputs": [
    {
     "output_type": "stream",
     "name": "stderr",
     "text": "2020-08-21 14:27:12 Hail: INFO: Ordering unsorted dataset with network shuffle\n(100, 1000)\n"
    }
   ],
   "source": [
    "x = ht.X.take(1)[0]\n",
    "xn = np.array(x)\n",
    "assert(np.allclose(xn.std(0), 1))\n",
    "assert(np.allclose(xn.mean(0), 0))"
   ]
  },
  {
   "cell_type": "code",
   "execution_count": 4,
   "metadata": {},
   "outputs": [],
   "source": [
    "# TODO: store I in globals to prevent re-computation, will need to account for the last block being improperly sized\n",
    "ht2 = ht.annotate(XtX = ht.X.T @ ht.X, XtY = ht.X.T @ ht.Y, I = hl.nd.eye(ht.X.shape[1]))"
   ]
  },
  {
   "cell_type": "code",
   "execution_count": 5,
   "metadata": {
    "tags": []
   },
   "outputs": [
    {
     "output_type": "stream",
     "name": "stdout",
     "text": "----------------------------------------\nGlobal fields:\n    'Y': ndarray<float64, 1> \n    'alphas': ndarray<float32, 1> \n    'alphaFields': array<str> \n    'snp_block_idx_field': str \n    'n_variants_per_block': int32 \n    'n_block_rows': int32 \n----------------------------------------\nRow fields:\n    'r': int32 \n    'X': ndarray<float64, 2> \n    'XtX': ndarray<float64, 2> \n    'XtY': ndarray<float64, 1> \n    'I': ndarray<float64, 2> \n----------------------------------------\nKey: ['r']\n----------------------------------------\n"
    }
   ],
   "source": [
    "ht2.describe()"
   ]
  },
  {
   "cell_type": "code",
   "execution_count": null,
   "metadata": {},
   "outputs": [],
   "source": [
    "# # ################## This is insaneballs slow, like straight up hang forever ################\n",
    "# ht2 = ht2.annotate(B = hl.nd.array(ht2.alphas.map(lambda alpha: (\n",
    "#     (hl.nd.inv(ht2.XtX + alpha * ht2.I) @ ht2.XtY)._data_array()\n",
    "# ))))\n",
    "\n",
    "# ht2 = ht2.annotate(W = ht2.block.T @ ht2.B)"
   ]
  },
  {
   "cell_type": "code",
   "execution_count": null,
   "metadata": {},
   "outputs": [],
   "source": [
    "# 2nd attempt, can't fucking stack because \"row not found: {}\" from line 390 in compute_type\n",
    "# exprs = {}\n",
    "# for i in range(len(alphas)):\n",
    "#     exprs[alphaFields[i]] = hl.nd.inv(ht2.XtX + ht2.alphas[i] * ht2.I) @ ht2.XtY\n",
    "# print(exprs)\n",
    "# # ht2 = ht2.annotate(**exprs)\n",
    "# ht2 = ht2.annotate(B = hl.nd.vstack([ht2[field] for field in alphaFields]))"
   ]
  },
  {
   "cell_type": "code",
   "execution_count": 6,
   "metadata": {
    "tags": []
   },
   "outputs": [
    {
     "output_type": "stream",
     "name": "stdout",
     "text": "['__uid_11', '__uid_12']\n"
    }
   ],
   "source": [
    "################# A version that tries to avoid the performance cliff above ###############\n",
    "# Equation 14 in https://www.biorxiv.org/content/10.1101/2020.06.19.162354v2.full.pdf\n",
    "# 􏰉λ =(GTi Gi +λIMi)−1GTi y􏰊, λ∈Λ\n",
    "exprs = {}\n",
    "alphaFields = ht2.alphaFields.collect()[0]\n",
    "print(alphaFields)\n",
    "for i in range(len(alphaFields)):\n",
    "    exprs[alphaFields[i]] = hl.nd.inv(ht2.XtX + ht2.alphas[i] * ht2.I) @ ht2.XtY\n",
    "ht2 = ht2.annotate(**exprs)\n",
    "ht2 = ht2.annotate(B = [ht2[field]._data_array() for field in alphaFields])\n",
    "\n",
    "# B is shape (2, 1000); 2 rows of 1000 columns, so k x b where b is number of snps in a block\n",
    "# so we transpose to make b x k\n",
    "ht2 = ht2.annotate(B = hl.nd.array(ht2.B).T)\n"
   ]
  },
  {
   "cell_type": "code",
   "execution_count": 7,
   "metadata": {
    "tags": []
   },
   "outputs": [
    {
     "output_type": "stream",
     "name": "stdout",
     "text": "----------------------------------------\nGlobal fields:\n    'Y': ndarray<float64, 1> \n    'alphas': ndarray<float32, 1> \n    'alphaFields': array<str> \n    'snp_block_idx_field': str \n    'n_variants_per_block': int32 \n    'n_block_rows': int32 \n----------------------------------------\nRow fields:\n    'r': int32 \n    'X': ndarray<float64, 2> \n    'XtX': ndarray<float64, 2> \n    'XtY': ndarray<float64, 1> \n    'I': ndarray<float64, 2> \n    '__uid_11': ndarray<float64, 1> \n    '__uid_12': ndarray<float64, 1> \n    'B': ndarray<float64, 2> \n    'Wi': ndarray<float64, 2> \n----------------------------------------\nKey: ['r']\n----------------------------------------\n"
    }
   ],
   "source": [
    "# Equation 15\n",
    "# Wi = (Gi * γ􏰉_λ1,...,Gi * γ􏰉_λR), i = 1,...,B\n",
    "# G is n x b, y_i is b x 1\n",
    "# B is now b x k, so n x b @ b x k gives us n x k\n",
    "ht2 = ht2.annotate(Wi = ht2.X @ ht2.B)\n",
    "ht2.describe()\n",
    "\n",
    "# We now need to standardize Wi\n",
    "# Wi is n x k shape\n",
    "ht2 = ht2.annotate(WiMean = hl.nd.array(hl.range(len(alphas)).map(lambda kIdx: ( hl.sum(ht2.Wi[:, kIdx]._data_array())) / ht2.Wi[:, kIdx].shape[0])))\n",
    "# would we ever standardize using sample standard deviation (n-1)?\n",
    "ht2 = ht2.annotate(WiSD = hl.nd.array(hl.range(len(alphas)).map(lambda kIdx: ( hl.sum(ht2.Wi[:,kIdx]._data_array().map(lambda el: (el - ht2.WiMean[kIdx]) ** 2)) / (ht2.Wi[:, kIdx].shape[0])) ** .5 )))\n",
    "ht2 = ht2.annotate(WiNormalized = (ht2.Wi - ht2.WiMean) / ht2.WiSD)\n",
    "\n"
   ]
  },
  {
   "cell_type": "code",
   "execution_count": 8,
   "metadata": {},
   "outputs": [],
   "source": [
    "ht2 = ht2.select(\"WiNormalized\")"
   ]
  },
  {
   "cell_type": "code",
   "execution_count": 9,
   "metadata": {
    "tags": []
   },
   "outputs": [
    {
     "output_type": "stream",
     "name": "stderr",
     "text": "2020-08-21 14:28:07 Hail: INFO: Ordering unsorted dataset with network shuffle\n2020-08-21 14:28:18 Hail: INFO: wrote table with 20 rows in 8 partitions to tmp/table_checkpoint.ht\n"
    }
   ],
   "source": [
    "ht2 = ht2.checkpoint('tmp/table_checkpoint.ht', overwrite = True)\n",
    "\n",
    "# ht2 = hl.read_table('tmp/table_checkpoint.ht')\n",
    "# ht2.show(1)"
   ]
  },
  {
   "cell_type": "code",
   "execution_count": null,
   "metadata": {},
   "outputs": [],
   "source": [
    "####### Level 1\n",
    "# Now we want to:\n",
    "# 1) create an array W, which. is nSample x b * B (b snps per block * B blocks) matrix\n",
    "# 2) split this matrix into k folds (maybe randomly?), row-wise ( create blcoks of samples, each with bB columns)\n",
    "# 3) take random k - 1 groups for train data, 1 block for test data\n",
    "# 4) test 5-10 alphas per block, performing ridge regression\n",
    "# 5) choose the winning alpha from each block test by examing the out-of-fold loss (you do this by taking the sum of squared error in the test data)\n",
    "# 6) chooset the winning alpha across blocks\n",
    "# TODO: double check this impression\n",
    "\n",
    "# Definitions: https://stackoverflow.com/questions/19335165/what-is-the-difference-between-cross-validation-and-grid-search\n",
    "# It's when you hold out some samples to test on, train on the rest\n",
    "# Grid search definition:\n",
    "# Systematically check all parameter combinations, and take the best cross-validation result\n",
    "# We need to do a grid search over parameters lambda and k\n",
    "# As a first step, we can simply do a grid search over lambda\n",
    "# Take the first k values as test data, and the rest as test data\n",
    "\n",
    "\n",
    "\n",
    "\n",
    "# Now I believe we want to block this array in nSample/kFolds x KBs pieces, and choice random collections of k row groups, 1 for test for training data (or more simply 0:k and 1:k sample groups \n",
    "# if hail can't easily handle the pemutations)\n",
    "# So here we're partitioning by rows\n",
    "# TODO: Could this be done in TableMapRows or TableMapPartitions? From Cotton's description this goes from ValueIR -> TableIR\n",
    "# TODO: double check whether WGR or regenie does random permutations\n",
    "\n",
    "\n",
    "\n",
    "# Fuck the regenie paper for making the concept so confusing, god...academics\n",
    "# https://www.kdnuggets.com/2017/02/stacking-models-imropved-predictions.html\n",
    "# \"Each model provides predictions for the outcome (y) which are then cast into a second \n",
    "# level training data (Xl2) which is now m x M. Namely, the M predictions become features\n",
    "# for this second level data.\"\n",
    "# The point is the the \"J\" dimension from the last step becomes our feature dimension\n",
    "# so we went from n x b to n x j, where j is 2 or 5 or 10, 1 for each alpha value (and b was 1000, one for each snp in the block)\n",
    "# so as long as J is less than the block size, we're good. Cool!\n",
    "# Then we just redo the step above, again.\n",
    "\n",
    "# And the reason they want to do K-fold CV, is:\n",
    "# \"The key word here is out-of-sample, since if we were to use predictions from the M models that are fit to all the training data, then the second level model\n",
    "#will be biased towards the best of M models. This will be of no use.\"\n",
    "\n",
    "# Looking at https://github.com/projectglow/glow/blob/054c3f4c714cf1693c964554842bf3ba67d76eb4/levels_ridge_regression_tutorial.ipynb\n",
    "# For this next step, we generate a different set of alphas (although this isn't critical accoridng to Kaggle)\n",
    "# Unclear: do we join all blocks at this point?\n",
    "# I think we join https://github.com/projectglow/glow/blob/master/python/glow/wgr/linear_model/ridge_model.py#L216\n",
    "\n",
    "# TODO: this may need to be group by chromsoome\n",
    "# ht = ht.group_by(ht.r).aggregate(\n",
    "#     entries=hl.sorted(\n",
    "#         hl.agg.collect(hl.struct(row_index=ht[row_index], X=ht.X)),\n",
    "#         key=lambda x: x.row_index\n",
    "#     ))\n",
    "# For now:\n",
    "# I may need to concatenate these blocks together, stacking them is not right, but maybe\n",
    "# reshape can get what I need\n",
    "# ht2 = ht2.annotate(g = 0)\n",
    "# ht3 = ht2.group_by(ht2.g).aggregate(W = hl.agg.collect(ht2.WiNormalized))\n",
    "\n",
    "# ht3.describe()\n",
    "# ht3.W.collect()\n",
    "# I mean, i'm not really sure at the relative merits of keeping this all in Table. Seems easy enough, small enough to just grab\n",
    "# so we have what, maximally 1 million samples by 10-100 predictors, 8 bytes? Like 1GB. No biggie, altohugh latency on operation will\n",
    "# be terrible if on some slow local network, and totally ok, if this is being perfomed\n",
    "# in a VPC\n",
    "# Ah no, we've not blocked on samples. We took all variants\n",
    "# ah, but WGR is still blocking on samples, but using all variants. Hm, not sure\n",
    "# if we should continue blockign on samples or collecting\n",
    "# Collecting is easier, so let's just do that.\n",
    "\n",
    "# TODO: get the table version up\n",
    "# ndstack = hl.nd.hstack(nd)\n",
    "# # print(\"ndstack\", hl.eval(ndstack).shape)\n",
    "# # assert(np.array_equal(np.hstack(nd), hl.eval(ndstack)))\n",
    "\n",
    "# # TODO: in the future g should be a chromosome grouping\n",
    "# # TODO: what is the performance impaact of agg.collect() vs W = ht2.WiNormalized.collect()\n",
    "# ht3 = ht2.annotate(g = 0)\n",
    "# # # ._data_array() because we can't make ndarrays from array<ndarray<>> yet\n",
    "# ht3 = ht3.group_by(ht3.g).aggregate(W = hl.agg.collect(ht3.WiNormalized))\n",
    "# ht3 = ht3.annotate(Wstack = hl.nd.hstack(ht3.W))\n",
    "\n",
    "\n",
    "# ht3.describe()\n",
    "\n",
    "########################  Numpy version ##########################\n",
    "# We can now hstack in hail\n",
    "W = ht2.WiNormalized.collect()\n",
    "\n",
    "# Now we have a nSamples x kFeatures*Bblock matrix\n",
    "W = np.hstack(W)\n",
    "W.shape\n",
    "\n"
   ]
  },
  {
   "cell_type": "code",
   "execution_count": null,
   "metadata": {},
   "outputs": [],
   "source": [
    "# Our full version will probably block on sample\n",
    "ht3 = ht2.annotate(g = 0)\n",
    "# # ._data_array() because we can't make ndarrays from array<ndarray<>> yet\n",
    "# W is an array of len 20, because we have 20 blocks (20_000 snps / 1_000 snps per block)\n",
    "# Each represents all samples, and 1/20th the features\n",
    "# we need to get the features into one\n",
    "# ht3 = ht3.group_by(ht3.g).aggregate(W = hl.agg.collect(ht3.WiNormalized))\n",
    "# ht3 = ht3.select(Wstack = hl.nd.hstack(ht3.W))\n",
    "# We really only need to flatten the top level\n",
    "\n",
    "\n",
    "ht3.show()\n",
    "ht3.describe() \n"
   ]
  },
  {
   "cell_type": "code",
   "execution_count": null,
   "metadata": {},
   "outputs": [],
   "source": [
    "ht3._map_partitions(lambda rows: rows.flatmap(lambda r: hl.range(2).map(lambda x: r.annotate(f = r.g)))).show()"
   ]
  },
  {
   "cell_type": "code",
   "execution_count": null,
   "metadata": {},
   "outputs": [],
   "source": [
    "from hail.ir import Apply, TableMapRows, MatrixKeyRowsBy, TopLevelReference\n"
   ]
  },
  {
   "cell_type": "code",
   "execution_count": null,
   "metadata": {},
   "outputs": [],
   "source": [
    "htt = hl.utils.range_table(2)\n",
    "htt2 = htt._map_partitions(lambda rows: rows.flatmap(lambda r: hl.range(2).map(lambda x: r.annotate(x=x))))\n",
    "htt2.show()"
   ]
  },
  {
   "cell_type": "code",
   "execution_count": null,
   "metadata": {},
   "outputs": [],
   "source": [
    "# There is now 1 array per sample\n",
    "# We should just have explode on ndarray\n",
    "ht4 = ht3.select(W2 = ht3.Wstack._data_array())\n",
    "ht4 = ht4.explode(ht4.W2)\n",
    "ht4 = ht4.annotate(W2 = hl.nd.array(ht4.W2))\n",
    "\n",
    "# Only need if we explode\n",
    "# this could be done as a first step, with row_index, and kept instead of wasting work here\n",
    "ht4 = ht4.add_index(\"sidx\")"
   ]
  },
  {
   "cell_type": "code",
   "execution_count": null,
   "metadata": {},
   "outputs": [],
   "source": [
    "ht4.describe()\n",
    "# slow as shit: ht4.to_matrix_table([\"g\"], [\"sidx\"]).show()"
   ]
  },
  {
   "cell_type": "code",
   "execution_count": null,
   "metadata": {},
   "outputs": [],
   "source": [
    "###### K fold cross validation\n",
    "# TODO: we'll need to make sure the sidx match the Y global\n",
    "# For k folds , the experiment is repeate k times\n",
    "k_folds = 5\n",
    "test_prob = 1 / k_folds\n",
    "# 5 folds of cross validation\n",
    "# could \n",
    "exprs = {}\n",
    "for fold in range(k_folds):\n",
    "    exprs[f\"fold_{fold}\"] = hl.rand_bool(test_prob, seed=fold)\n",
    "\n",
    "ht4 = ht4.annotate(**exprs)\n",
    "ht4.show()"
   ]
  },
  {
   "cell_type": "code",
   "execution_count": null,
   "metadata": {},
   "outputs": [],
   "source": [
    "ht4.row"
   ]
  },
  {
   "cell_type": "code",
   "execution_count": null,
   "metadata": {},
   "outputs": [],
   "source": [
    "ht5 = ht4.group_by(ht4.g) \\\n",
    "         .aggregate(train_test = hl.agg.group_by(hl.rand_bool(test_prob, seed=fold), hl.agg.collect(ht4.row)))\n",
    "ht5.describe()"
   ]
  },
  {
   "cell_type": "code",
   "execution_count": null,
   "metadata": {},
   "outputs": [],
   "source": [
    "ht5.show()"
   ]
  },
  {
   "cell_type": "code",
   "execution_count": null,
   "metadata": {},
   "outputs": [],
   "source": [
    "keys = exprs.keys()\n",
    "keys\n",
    "ht5 = ht4.annotate(Wtrain = ht4.aggregate(hl.agg.filter(ht4[\"fold_0\"] == True, hl.agg.collect(ht4.W2))))\n",
    "# hl.array([value for key, value in ht4.row_value.items()])"
   ]
  },
  {
   "cell_type": "code",
   "execution_count": null,
   "metadata": {},
   "outputs": [],
   "source": [
    "hl.utils.range_table(5).annotate(x = ht3.Wstack[0:5, :])"
   ]
  },
  {
   "cell_type": "code",
   "execution_count": null,
   "metadata": {},
   "outputs": [],
   "source": [
    "ht6 = ht5.annotate"
   ]
  },
  {
   "cell_type": "code",
   "execution_count": null,
   "metadata": {},
   "outputs": [],
   "source": [
    "ht5 = ht4.group_by(*key).aggregate(\n",
    "    **{fv: hl.agg.filter(ht[field] == fv,\n",
    "        hl.rbind(\n",
    "                                                hl.agg.take(ht[value], 1),\n",
    "                                                lambda take: hl.cond(hl.len(take) > 0,\n",
    "                                                                     take[0],\n",
    "                                                                     'NA'))) for fv in field_vals})"
   ]
  },
  {
   "cell_type": "code",
   "execution_count": null,
   "metadata": {},
   "outputs": [],
   "source": [
    "# ht5 = ht4.annotate(WTrain = ht4.filter(ht4[\"fold_0\"] == True).group_by(\"fold_0\")).aggregate(hl.agg.collect(ht4.W2))"
   ]
  },
  {
   "cell_type": "code",
   "execution_count": null,
   "metadata": {},
   "outputs": [],
   "source": []
  },
  {
   "cell_type": "code",
   "execution_count": null,
   "metadata": {},
   "outputs": [],
   "source": [
    "ht4.idx"
   ]
  },
  {
   "cell_type": "code",
   "execution_count": null,
   "metadata": {},
   "outputs": [],
   "source": [
    "# TODO: can we avoid storing the bigger fold of indices?\n",
    "# Also, sidx does not need to be 64 bit int\n",
    "# for key in exprs.keys():\n",
    "#     ht5 = ht4.group_by(key).aggregate(WFold = hl.nd.vstack(hl.agg.collect(ht4.W2)), sidx = hl.agg.collect(ht4.sidx))\n",
    "    \n",
    "#     ht5 = ht5.WFold.map(lambda rows: rows.map(lambda r: hl.if_else(r.idx == 0, r.annotate(x = 5), r.annotate(x =6))))\n",
    "#     ht5.show()\n",
    "#     break\n",
    "\n",
    "# ht5.show()\n",
    "#ht5 == 0\n",
    "# trainRow = ht5[0]\n",
    "# testRow =  ht5[ht5[\"fold_0\"] = 1]\n",
    "ht5 = ht5.annotate(WtW = ht5.WFold.T @ ht5.WFold)\n",
    "# Wtrain = trainRow.WFold\n",
    "# Wtest = testRow.WFold\n",
    "# sidxTrain = trainRow.sidx\n",
    "# sidxTest = testRow.sidx\n",
    "\n",
    "# Ytrain = sidxTrain.map(lambda i: ht5.Y[i])\n",
    "# Ytest = sidxTest.map(lambda i: ht5.Y[i])\n",
    "\n",
    "# Itrain = hl.nd.eye(Wtrain.shape[0])\n",
    "# Itest = hl.nd.eye(Wtest.shape[0])\n",
    "\n",
    "# bestIdx = 0\n",
    "\n",
    "# # This doesn't work as expected\n",
    "# WtWtrain = Wtrain.T @ Wtrain\n",
    "# WtYtrain = Wtrain.T @ Ytrain\n",
    "# WtWtest = Wtest.T @ Wtest\n",
    "# WtYtest = Wtest.T @ Ytest\n",
    "\n",
    "# WtWtrain.show()\n",
    "# res = hl.nd.inv(WtWtrain)\n",
    "# # losses = []\n",
    "\n",
    "# trainRow = trainRow.annotate(fuckyou = 1)\n",
    "# # for alpha in alphas:\n",
    "# #     BetaHat = hl.nd.inv(WtWtrain + alpha * Itrain) @ WtYtrain\n",
    "# #     ht6 = ht5.annotate(BetaHat = BetaHat)\n",
    "\n",
    "# ht6 = ht5[ht5[\"fold_0\"] == True].annotate(WFold = 5)"
   ]
  },
  {
   "cell_type": "code",
   "execution_count": null,
   "metadata": {},
   "outputs": [],
   "source": [
    "### Overall plan\n",
    "# Starting point is nSample x rb matrices\n",
    "# In current iteration nSample is 1, after an explode\n",
    "# generate K splits of "
   ]
  },
  {
   "cell_type": "code",
   "execution_count": null,
   "metadata": {},
   "outputs": [],
   "source": [
    "# Item assignment doesn't work, wtf\n",
    "# ht5[ht5[\"fold_0\"] == True] = ht5[ht5[\"fold_0\"] == True].annotate(WFold = 5)\n",
    "\n",
    "ht5.describe()"
   ]
  },
  {
   "cell_type": "code",
   "execution_count": null,
   "metadata": {},
   "outputs": [],
   "source": [
    "ht5.show()\n"
   ]
  },
  {
   "cell_type": "code",
   "execution_count": null,
   "metadata": {},
   "outputs": [],
   "source": [
    "ht6 = ht5._map_partitions(lambda rows: rows.flatmap(lambda r: hl.range(2).map(lambda x: r.annotate(x=x))))"
   ]
  },
  {
   "cell_type": "code",
   "execution_count": null,
   "metadata": {},
   "outputs": [],
   "source": [
    "hl.eval(hl.struct())"
   ]
  },
  {
   "cell_type": "code",
   "execution_count": null,
   "metadata": {},
   "outputs": [],
   "source": [
    "ht6.show()"
   ]
  },
  {
   "cell_type": "code",
   "execution_count": null,
   "metadata": {},
   "outputs": [],
   "source": []
  },
  {
   "cell_type": "code",
   "execution_count": null,
   "metadata": {},
   "outputs": [],
   "source": [
    "test.collect()[0].shape"
   ]
  },
  {
   "cell_type": "code",
   "execution_count": null,
   "metadata": {},
   "outputs": [],
   "source": [
    "ht5.Y.collect()[0].shape"
   ]
  },
  {
   "cell_type": "code",
   "execution_count": null,
   "metadata": {},
   "outputs": [],
   "source": [
    "# h5 = ht4.group_by(is_test).aggregate()"
   ]
  },
  {
   "cell_type": "code",
   "execution_count": null,
   "metadata": {},
   "outputs": [],
   "source": [
    "ht = hl.utils.range_table(2)\n",
    "ht2 = ht._map_partitions(lambda rows: rows.flatmap(lambda r: hl.range(2).map(lambda x: r.annotate(x=x))))\n",
    "ht2.show()\n",
    "ht.show()\n",
    "\n",
    "# This allows us to set conditional values \n",
    "ht3 = ht._map_partitions(lambda rows: rows.map(lambda r: hl.if_else(r.idx == 0, r.annotate(x = 5), r.annotate(x =6))))\n",
    "ht3.show()\n",
    "\n",
    "# does this do the same?\n",
    "# nope\n",
    "ht4 = ht.idx.map(lambda rows: rows.map(lambda r: hl.if_else(r.idx == 0, r.annotate(x = 5), r.annotate(x =6))))\n",
    "ht4.show()"
   ]
  },
  {
   "cell_type": "code",
   "execution_count": null,
   "metadata": {},
   "outputs": [],
   "source": [
    "ht4.show()"
   ]
  },
  {
   "cell_type": "code",
   "execution_count": null,
   "metadata": {},
   "outputs": [],
   "source": [
    "# mt = ht3.to_matrix_table(\"[ht3.g]\", ht3.sidx)"
   ]
  },
  {
   "cell_type": "code",
   "execution_count": null,
   "metadata": {},
   "outputs": [],
   "source": [
    "mt = ht3.to_matrix_table"
   ]
  },
  {
   "cell_type": "code",
   "execution_count": null,
   "metadata": {},
   "outputs": [],
   "source": [
    "ht3.show()"
   ]
  },
  {
   "cell_type": "code",
   "execution_count": null,
   "metadata": {},
   "outputs": [],
   "source": [
    "ht3.Wstack.take(1)[0].shape"
   ]
  },
  {
   "cell_type": "code",
   "execution_count": null,
   "metadata": {},
   "outputs": [],
   "source": [
    "ht = hl.utils.range_table(10)\n",
    "ht\n",
    "\n",
    "ht = ht.annotate(x=hl.nd.array([1, 2, 3]), y=hl.nd.array([4, 5, 6]))\n",
    "ht\n",
    "ht = ht.annotate(stacked = hl.nd.hstack([ht.x, ht.y]))\n",
    "assert np.array_equal(ht.collect()[0].stacked, np.array([1, 2, 3, 4, 5, 6]))\n"
   ]
  },
  {
   "cell_type": "code",
   "execution_count": null,
   "metadata": {},
   "outputs": [],
   "source": [
    "ht2.annotate(alphasToTest = alphas).show(2)"
   ]
  },
  {
   "cell_type": "code",
   "execution_count": null,
   "metadata": {},
   "outputs": [],
   "source": [
    "# Scikit learn blocking\n",
    "k_folds= 5\n",
    "test_size = 1 / k_folds\n",
    "\n",
    "# from sklearn import cross_validation\n",
    "from sklearn.model_selection import train_test_split\n",
    "\n",
    "for alpha in alphas:\n",
    "    W_train, W_test, y_train, y_test = train_test_split(W, y, test_size=test_size, random_state=0)\n",
    "    print(W_train)"
   ]
  },
  {
   "cell_type": "code",
   "execution_count": null,
   "metadata": {},
   "outputs": [],
   "source": [
    "alphas"
   ]
  },
  {
   "cell_type": "code",
   "execution_count": null,
   "metadata": {},
   "outputs": [],
   "source": [
    "W_train.shape"
   ]
  },
  {
   "cell_type": "code",
   "execution_count": null,
   "metadata": {},
   "outputs": [],
   "source": [
    "ht3.explode(\"W\").describe()"
   ]
  },
  {
   "cell_type": "code",
   "execution_count": null,
   "metadata": {},
   "outputs": [],
   "source": [
    "np.array(ht3.W.take(1)[0]).shape"
   ]
  },
  {
   "cell_type": "code",
   "execution_count": null,
   "metadata": {},
   "outputs": [],
   "source": [
    "ht3.describe()"
   ]
  },
  {
   "cell_type": "code",
   "execution_count": null,
   "metadata": {},
   "outputs": [],
   "source": [
    "mt3 = ht3.to_matrix_table_row_major([\"W\"], entry_field_name=\"h\")\n",
    "mt3.show()"
   ]
  },
  {
   "cell_type": "code",
   "execution_count": null,
   "metadata": {},
   "outputs": [],
   "source": [
    "## Testing slicing functionality in hail, to see if we can achieve what we desire"
   ]
  },
  {
   "cell_type": "code",
   "execution_count": null,
   "metadata": {},
   "outputs": [],
   "source": [
    "ht3 = ht3.annotate(Wnd = hl.nd.array(ht3.W))\n",
    "\n",
    "np.array(ht3.Wnd.take(1)[0]).shape"
   ]
  },
  {
   "cell_type": "code",
   "execution_count": null,
   "metadata": {},
   "outputs": [],
   "source": [
    "import time\n",
    "start = time.time()\n",
    "ht3.count()\n",
    "print(time.time() - start)"
   ]
  },
  {
   "cell_type": "code",
   "execution_count": null,
   "metadata": {},
   "outputs": [],
   "source": [
    "# mt = = ht3.annotate(W = hl.nd.array(ht3.W))\n",
    "# We cannot slice using a list!!!\n",
    "# Damnit\n",
    "# In [18]: a[[0,1,2,3,4,8]]                                                                                                                              \n",
    "# Out[18]: array([ 1,  2,  3,  5,  6, 10])\n",
    "\n",
    "# In [19]: ah = hl.nd.array(a)                                                                                                                           \n",
    "# ---------------------------------------------------------------------------\n",
    "# NameError                                 Traceback (most recent call last)\n",
    "# <ipython-input-19-5ee9daf5500e> in <module>\n",
    "# ----> 1 ah = hl.nd.array(a)\n",
    "\n",
    "# NameError: name 'hl' is not defined\n",
    "\n",
    "# In [20]: import hail as hl                                                                                                                             \n",
    "\n",
    "# In [21]: ah = hl.nd.array(a)                                                                                                                           \n",
    "\n",
    "# In [22]: hl.eval(ah[[1,2,3,9,10]])  \n",
    "\n",
    "\n",
    "### Remaining questions: is collecting all chunks into one array within a table expression\n",
    "# better than collect() locally? probably if I split afterwards?\n",
    "# 2nd: woudl it be more efficient to not collect at all? no, that seems crazy, would require K aggregations\n",
    "### First attempt: do this all in Table, and use stupid, 0:(K-1)*chunk_size + 1 (k-1) * chunk_size: end splits\n",
    "n_samples = y.shape[0]\n",
    "kfolds = 5\n",
    "train_folds = kfolds - 1\n",
    "test_folds = 1\n",
    "row_chunk_size = n_samples // kfolds\n",
    "\n",
    "# TODO: I think another option is to explode W (before making )\n",
    "# TODO: obviously I shouldn't split into 0:train and train:0, they're identical, just labels flipped\n",
    "ht3 = ht3.annotate(W_train = ht3.W[0:row_chunk_size*train_folds + 1])\n",
    "ht3 = ht3.annotate(W_test= ht3.W[row_chunk_size*train_folds + 1:])\n",
    "ht3 = ht3.annotate(W_test_1 = ht3.W[0:row_chunk_size*train_folds + 1])\n",
    "ht3 = ht3.annotate(W_train_1 = ht3.W[row_chunk_size*train_folds + 1:])\n",
    "\n",
    "ht3.show()\n",
    "ht3.W_test_1.take(1)\n",
    "    \n",
    "    # we split the data into 2 groups n_samples \n",
    "    "
   ]
  },
  {
   "cell_type": "code",
   "execution_count": null,
   "metadata": {},
   "outputs": [],
   "source": []
  },
  {
   "cell_type": "code",
   "execution_count": null,
   "metadata": {},
   "outputs": [],
   "source": [
    "# TODO: Now I need to split this dataset into a bunch of rows I think...this will surely help hail map the things in a distributed fashion\n",
    "\n"
   ]
  },
  {
   "cell_type": "code",
   "execution_count": null,
   "metadata": {},
   "outputs": [],
   "source": [
    "## In the next step, we block on samples, not on predictors\n",
    "# We block using a K-fold strategy\n",
    "# Since our array here is small, may as well do it in numpy, can translate to Hail later"
   ]
  },
  {
   "cell_type": "code",
   "execution_count": null,
   "metadata": {},
   "outputs": [],
   "source": [
    "wi = ht2.Wi.take(1)[0]\n",
    "wimean = ht2.WiMean.take(1)[0]\n",
    "wisd = ht2.WiSD.take(1)[0]\n",
    "assert(np.allclose(wimean, wi.mean(0)))\n",
    "assert(np.allclose(wisd, wi.std(0)))\n",
    "\n",
    "print(\"shape\", wi.shape, \"sd\", wisd, \"mean\", wimean)\n"
   ]
  },
  {
   "cell_type": "code",
   "execution_count": null,
   "metadata": {},
   "outputs": [],
   "source": []
  },
  {
   "cell_type": "code",
   "execution_count": null,
   "metadata": {},
   "outputs": [],
   "source": [
    "wi.std(0)"
   ]
  },
  {
   "cell_type": "code",
   "execution_count": null,
   "metadata": {},
   "outputs": [],
   "source": []
  },
  {
   "cell_type": "code",
   "execution_count": null,
   "metadata": {},
   "outputs": [],
   "source": [
    "# print(row_index)\n",
    "# Not sure why entries=hl.sorted is neededd here\n",
    "# is hl.sorted needed here?\n",
    "# W is now shape (nBlocks, nSamples, kPredictors)\n",
    "# for 500,00 samples, and 1 million variants, and a 1000 block size, and 5 predictors\n",
    "# this would be (1_000, 500_000, 5)\n",
    "# paper claims that this would be smaller than the full genotype matrix... is it?\n",
    "# Sure, 1_000 by 500_000 is smaller than 500_000 by 500_000, but just storing Betas would be smaller still\n",
    "# 1_000 by 1_000 by 5...\n",
    "\n",
    "# print(ht3.show())\n",
    "# ht3.\n",
    "\n",
    "# ht3 = ht.select(block=hl.nd.array(ht3.entries))\n",
    "# print(\"after mt = mt.select(block=hl.nd.array(mt.entries))\")\n",
    "# print(ht.show())\n",
    "# ht.describe()"
   ]
  },
  {
   "cell_type": "code",
   "execution_count": null,
   "metadata": {},
   "outputs": [],
   "source": [
    "ht3 = ht3.annotate(W = hl.nd.array(ht3.W))"
   ]
  },
  {
   "cell_type": "code",
   "execution_count": null,
   "metadata": {},
   "outputs": [],
   "source": [
    "# equation 20 preamble: split samples into k folds\n",
    "k = 5\n",
    "col_block_size = ht3.y.size // k\n",
    "\n",
    "ht3.annotate_globals(folds = hl.nd.array(\n",
    "    hl.range(1, k).map(lambd)\n",
    "))"
   ]
  },
  {
   "cell_type": "code",
   "execution_count": null,
   "metadata": {},
   "outputs": [],
   "source": [
    "# wnd = ht3.W.take(1)[0]"
   ]
  },
  {
   "cell_type": "code",
   "execution_count": null,
   "metadata": {},
   "outputs": [],
   "source": [
    "wnd.shape"
   ]
  },
  {
   "cell_type": "code",
   "execution_count": null,
   "metadata": {},
   "outputs": [],
   "source": [
    "\n",
    "ht2 = ht2.annotate(BMean = hl.nd.array(hl.map(lambda arr: hl.mean(arr), ht2.W)))\n",
    "ht2.describe()"
   ]
  },
  {
   "cell_type": "code",
   "execution_count": null,
   "metadata": {},
   "outputs": [],
   "source": [
    "ht2 = ht2.annotate(Wstd = hl.nd.array(hl.range(hl.len(ht2.W)).map(lambda i: hl.sum(ht2.W[i].map(lambda el: (el - ht2.WMean[i]) ** 2)) / (hl.len(ht2.W[i]) - 1)))\n",
    "ht2 = ht2.annotate(Wnd = hl.nd.array(ht2.W))\n",
    "ht2 = ht2.annotate(Wnormalized = (ht2.Wnd.T - ht2.WMean) / ht2.Wstd)"
   ]
  },
  {
   "cell_type": "code",
   "execution_count": null,
   "metadata": {},
   "outputs": [],
   "source": [
    "np.array(ht2.W.take(1)[0][0]).shape"
   ]
  },
  {
   "cell_type": "code",
   "execution_count": null,
   "metadata": {},
   "outputs": [],
   "source": [
    "ht2.Wnormalized.take(1)"
   ]
  },
  {
   "cell_type": "code",
   "execution_count": null,
   "metadata": {},
   "outputs": [],
   "source": [
    "ht2.Wstd.take(1)"
   ]
  },
  {
   "cell_type": "code",
   "execution_count": null,
   "metadata": {},
   "outputs": [],
   "source": [
    "ht2.WMean.take(1)"
   ]
  },
  {
   "cell_type": "code",
   "execution_count": null,
   "metadata": {},
   "outputs": [],
   "source": [
    "ht2.Wnd.take(1)[0].T"
   ]
  },
  {
   "cell_type": "code",
   "execution_count": null,
   "metadata": {},
   "outputs": [],
   "source": [
    "import time\n",
    "start = time.time()\n",
    "wstd = ht2.Wstd.collect()\n",
    "wnd = ht2.Wnd.collect()\n",
    "wmean = ht2.WMean.collect()\n",
    "print(\"Took\", time.time() - start)"
   ]
  },
  {
   "cell_type": "code",
   "execution_count": null,
   "metadata": {},
   "outputs": [],
   "source": [
    "print(wstd[0].shape)\n",
    "print(\"wnd\", wnd[0].shape)\n",
    "print(\"wmean\", wmean[0].shape)"
   ]
  },
  {
   "cell_type": "code",
   "execution_count": null,
   "metadata": {},
   "outputs": [],
   "source": [
    "wnd[0].T - np.array([1,2])"
   ]
  },
  {
   "cell_type": "code",
   "execution_count": null,
   "metadata": {},
   "outputs": [],
   "source": [
    "np.array(ht2.W.take(1)[0]).shape"
   ]
  },
  {
   "cell_type": "code",
   "execution_count": null,
   "metadata": {},
   "outputs": [],
   "source": [
    "ht2 = ht2.annotate(Wnd = hl.nd.array(ht2.W))\n",
    "# You can't fold over NDArrayExpression, what in the actual fuck\n",
    "# ht2 = ht2.annotate(Wmean = hl.fold(lambda i, j: i + j, 0.0, ht2.W)/ ht2.Wnd.size())\n",
    "ht2 = ht2.annotate(Wmean = hl.mean(ht2.W))"
   ]
  },
  {
   "cell_type": "code",
   "execution_count": null,
   "metadata": {},
   "outputs": [],
   "source": [
    "ht2 = ht2.annotate(WtW = ht2.Wnd.T @ ht2.Wnd)"
   ]
  },
  {
   "cell_type": "code",
   "execution_count": null,
   "metadata": {},
   "outputs": [],
   "source": []
  },
  {
   "cell_type": "code",
   "execution_count": null,
   "metadata": {},
   "outputs": [],
   "source": [
    "import time\n",
    "start = time.time()\n",
    "ht2.show()\n",
    "print(\"Took\", time.time() - start)"
   ]
  },
  {
   "cell_type": "code",
   "execution_count": null,
   "metadata": {},
   "outputs": [],
   "source": [
    "list(alphas)"
   ]
  },
  {
   "cell_type": "code",
   "execution_count": null,
   "metadata": {},
   "outputs": [],
   "source": [
    "ht.block.take(1)[0].shape  #1000 variatns by 100 samples\n",
    "# shape Nsamples by 1\n",
    "hl.eval(ht.Y.shape)"
   ]
  },
  {
   "cell_type": "code",
   "execution_count": null,
   "metadata": {},
   "outputs": [],
   "source": [
    "# How regenie does it\n",
    "# 1) stack = RidgeReducer()\n",
    "# reduced_block_df = stack.fit_transform(block_df, \n",
    "#                              label_df, \n",
    "#                              sample_blocks, \n",
    "#                              covariates)\n",
    "\n",
    "\n",
    "#out \n",
    "# Generated alphas: [  664469.6969697   877100.         1315650.         2631300.\n",
    "#  65782500.       ]\n",
    "# Out[12]: DataFrame[header: string, size: int, values: array<double>, header_block: string, sample_block: string, sort_key: int, mu: double, sig: double, alpha: string, label: string]\n",
    "\n",
    "\n",
    "# 2)\n",
    "# Calculate expected phenotypes per label and per sample\n",
    "# with glow.wgr.linear_model.RidgeRegression under the leave-one-chromosome-out (LOCO) scheme.\n",
    "\n",
    "# estimator = RidgeRegression()\n",
    "# model_df, cv_df = estimator.fit(reduced_block_df, \n",
    "#                                 label_df, \n",
    "#                                 sample_blocks, \n",
    "#                                 covariates)\n",
    "# model_df.cache()\n",
    "# cv_df.cache()\n",
    "# Generated alphas: [  6656.56565657   8786.66666667  13180.          26360.\n",
    "#  659000.        ]\n",
    "# Out[13]: DataFrame[label: string, alpha: string, alpha_value: double, r2_mean: double]\n",
    "\n",
    "\n",
    "# Lets look at RidgeReducer\n",
    "# the first function used is \"fit\" of ridge reducer\n",
    "# that calls \"apply_model\": https://github.com/projectglow/glow/blob/054c3f4c714cf1693c964554842bf3ba67d76eb4/python/glow/wgr/linear_model/ridge_udfs.py#L266\n",
    "# It says: This function takes a block X and a coefficient matrix B and performs the multiplication X*B.  The matrix resulting\n",
    " #   from this multiplication represents a block in a new, dimensionally-reduced block matrix.\n",
    "# this doesn't make sense\n",
    "# it's not dimensionally reduced I don't htink? It's just X*B. What is B here? We haven't solved for it yet.\n",
    "\n",
    "# This calls cross_alphas_and_labels which does someting weird:\n",
    "# In [3]: list(product((1,2,3), (\"a\",\"b\",\"c\")))                                                                                                          \n",
    "# Out[3]: \n",
    "# [(1, 'a'),\n",
    "#  (1, 'b'),\n",
    "#  (1, 'c'),\n",
    "#  (2, 'a'),\n",
    "#  (2, 'b'),\n",
    "#  (2, 'c'),\n",
    "#  (3, 'a'),\n",
    "#  (3, 'b'),\n",
    "#  (3, 'c')]\n",
    "# Ah, I guess this is just a convenient way of stacking; these are both strings, so it's \n",
    "# just comingin some labels that are strings, ok\n",
    "\n",
    "# But wait, label is also used to indicate phenotypes here:\n",
    "# label (phenotype). https://glow.readthedocs.io/en/latest/tertiary/whole-genome-regression.html?highlight=label#id8\n",
    "\n",
    "# Ah from RidgeReducer documentation, \n",
    "# \"When the RidgeReducer is initialized, it will assign names to the provided alphas and store them in a dictionary accessible as RidgeReducer.alphas.\"\n",
    "# ah so the alpha labels are just keys...that's stupid, why the hell do they need names, indices work and are free\n",
    "\n",
    "#\n",
    "\n",
    "# @typechecked\n",
    "# def cross_alphas_and_labels(alpha_names: Iterable[str], labeldf: pd.DataFrame,\n",
    "#                             label: str) -> List[Tuple[str, str]]:\n",
    "#     \"\"\"\n",
    "#     Crosses all label and alpha names. The output tuples appear in the same order as the output of\n",
    "#     evaluate_coefficients.\n",
    "#     Args:\n",
    "#         alpha_names : List of string identifiers assigned to the values of alpha\n",
    "#         labeldf : Pandas DataFrame of labels\n",
    "#         label : Label used for this set of coefficients.  Can be 'all' if all labels were used.\n",
    "#     Returns:\n",
    "#         List of tuples of the form (alpha_name, label_name)\n",
    "#     \"\"\"\n",
    "#     if label == 'all':\n",
    "#         label_names = labeldf.columns\n",
    "#     else:\n",
    "#         label_names = [label]\n",
    "\n",
    "#     return list(itertools.product(alpha_names, label_names))\n",
    "\n",
    "# Wait, so if B is N * K (K is number of alphas)\n",
    "# So This can only be multiplied against the pheontype matrix Y, right?\n",
    "# XB would be N*M (N samples M Snps), or mayvbe M * N . Ok, so then M * N * N * K gives an M * K matrix\n",
    "# "
   ]
  },
  {
   "cell_type": "code",
   "execution_count": null,
   "metadata": {},
   "outputs": [],
   "source": [
    "# The column field in a hail matrix table always? contains the sample id (can we have no samples?...would make sense yes, as long as the field could act as a column index)\n",
    "#mt.sample_idx.show()"
   ]
  },
  {
   "cell_type": "code",
   "execution_count": null,
   "metadata": {},
   "outputs": [],
   "source": [
    "mt2 = mtOrig.select_globals(Y = mtOrig.cols().index(mtOrig.cols(), all_matches=True).y)"
   ]
  },
  {
   "cell_type": "code",
   "execution_count": null,
   "metadata": {},
   "outputs": [],
   "source": [
    "mtOrig(mtOrig.index(.y.show()"
   ]
  },
  {
   "cell_type": "code",
   "execution_count": null,
   "metadata": {},
   "outputs": [],
   "source": [
    "lht = (mt\n",
    "      .add_row_index(row_index)\n",
    "      .select_rows()\n",
    "      .select_cols()\n",
    "      .localize_entries(entries))\n",
    "# lht.describe()\n",
    "# lht[\"locus\"].show()\n",
    "# mt.y.collect()\n",
    "# mt2.key\n",
    "\n",
    "# lht = lht.select_globals(FUCKYOU = 1)\n",
    "# lht.describe()"
   ]
  },
  {
   "cell_type": "code",
   "execution_count": null,
   "metadata": {},
   "outputs": [],
   "source": [
    "t = mt.localize_entries('entry_structs', 'columns')"
   ]
  },
  {
   "cell_type": "code",
   "execution_count": null,
   "metadata": {},
   "outputs": [],
   "source": [
    "mt.select_cols(\"y\").describe()"
   ]
  },
  {
   "cell_type": "code",
   "execution_count": null,
   "metadata": {},
   "outputs": [],
   "source": [
    "# Current limitation ist hat dnd array doesnt support rectangles\n",
    "# so number of samples in a group (columns) matches number of variants (rows)\n",
    "# Not a real issue,\n",
    "# block_size is the size in each dimension\n",
    "darray = dnd.array(mt, \"ac\", block_size = 1000)\n",
    "darray"
   ]
  },
  {
   "cell_type": "code",
   "execution_count": null,
   "metadata": {},
   "outputs": [],
   "source": [
    "# it is blocked by some rows, and all of the columns\n",
    "# so we get what we want for first pass...I think\n",
    "# lets check with more samples\n",
    "# Here we see that each block contains 1000 rows, and 100 columns, for 1000 variants, and all 100 samples\n",
    "# (when n < block_size, n is used)\n",
    "max(darray.m.r.collect())\n",
    "# We have 10 blocks, since number of samples is smaller than block_size, and there are 10k variants\n",
    "# print(\"N blocks:\", len(dt))\n",
    "# print(\"Shape:\", dt[0].shape)"
   ]
  },
  {
   "cell_type": "code",
   "execution_count": null,
   "metadata": {},
   "outputs": [],
   "source": [
    "darray.m.collect()"
   ]
  },
  {
   "cell_type": "markdown",
   "metadata": {},
   "source": [
    "# Regenie method"
   ]
  },
  {
   "cell_type": "code",
   "execution_count": null,
   "metadata": {},
   "outputs": [],
   "source": [
    "# From: https://glow.readthedocs.io/en/latest/tertiary/whole-genome-regression.html\n",
    "\n",
    "# Step 1 import vcf, split multi allelics, mean impute genotypes, which means to replace missing values with the mean of non-missing values\n",
    "from pyspark.sql.functions import col, lit\n",
    "\n",
    "variants = spark.read.format('vcf').load(genotypes_vcf)\n",
    "genotypes = glow.transform('split_multiallelics', variants) \\\n",
    "    .withColumn('values', glow.mean_substitute(glow.genotype_states(col('genotypes'))))\n",
    "\n",
    "# Step 2 import phenotype data, and store it in a pandas dataframe called \"label_df\"\n",
    "# also need to standardize phenotypes\n",
    "# Note: this is only for continuous phenotypes in WGR\n",
    "# Note: we can store these labels as entries,\n",
    "# or for dnd arrays, as globals I believe\n",
    "# Dimension: Y is N x 1, and in blocked form Bc X 1, where Bc is the column dim of the block\n",
    "import pandas as pd\n",
    "\n",
    "label_df = pd.read_csv(continuous_phenotypes_csv, index_col='sample_id')\n",
    "label_df = ((label_df - label_df.mean())/label_df.std(ddof=0))[['Continuous_Trait_1', 'Continuous_Trait_2']]\n",
    "\n",
    "# Step 3: import covaraites, and standardize\n",
    "# Again, can store these as globals\n",
    "# I believe the dimension here is N x C, where C is number of covariates\n",
    "# except that if we block by samples as well as variants, this will need to be Bc X C, where Bc is the column dimension of the block\n",
    "# This gets prepended to the X array, can do this using one of the numpy stacking operations\n",
    "covariates = pd.read_csv(covariates_csv, index_col='sample_id')\n",
    "covariates = (covariates - covariates.mean())/covariates.std(ddof=0)\n",
    "\n",
    "# Step 4: Genotype matrix blocking\n",
    "# This function creates an Br x Bc blocking of N * X\n",
    "# Each block contains a certain number of rows an a certain number of columns\n",
    "# They also remove rows that are completely uniform across all samples (since matrix will not be full rank if they don't)\n",
    "# but I'm not sure how that affects things\n",
    "\n",
    "# One advantage of WGR is that they allow rectangular blocks\n",
    "# Description: \n",
    "# glow.wgr.functions.block_variants_and_samples creates two objects: a block genotype matrix and a sample block mapping.\n",
    "\n",
    "# Parameters\n",
    "\n",
    "# genotypes: Genotype DataFrame created by reading from any variant datasource supported by Glow, such as VCF. Must also include a column values containing a numeric representation of each genotype.\n",
    "# sample_ids: List of sample IDs. Can be created by applying glow.wgr.functions.get_sample_ids to a genotype DataFrame.\n",
    "# variants_per_block: Number of variants to include per block. We recommend 1000.\n",
    "# sample_block_count: Number of sample blocks to create. We recommend 10.\n",
    "\n",
    "# Return\n",
    "\n",
    "# The function returns a block genotype matrix and a sample block mapping.\n",
    "\n",
    "# Block genotype matrix\n",
    "\n",
    "# If we imagine the block genotype matrix conceptually, we think of an NxM matrix X where each row n represents an individual sample, each column m represents a variant, and each cell (n, m) contains a genotype value for sample n at variant m. We then imagine laying a coarse grid on top of this matrix such that matrix cells within the same coarse grid cell are all assigned to the same block x. Each block x is indexed by a sample block ID (corresponding to a list of rows belonging to the block) and a header block ID (corresponding to a list of columns belonging to the block). The sample block IDs are generally just integers 0 through the number of sample blocks. The header block IDs are strings of the form ‘chr_C_block_B’, which refers to the Bth block on chromosome C. The Spark DataFrame representing this block matrix can be thought of as the transpose of each block xT all stacked one atop another. Each row represents the values from a particular column from X, for the samples corresponding to a particular sample block. The fields in the DataFrame are:\n",
    "\n",
    "# header: A column name in the conceptual matrix X.\n",
    "# size: The number of individuals in the sample block for the row.\n",
    "# values: Genotype values for this header in this sample block. If the matrix is sparse, contains only non-zero values.\n",
    "# header_block: An ID assigned to the block x containing this header.\n",
    "# sample_block: An ID assigned to the block x containing the group of samples represented on this row.\n",
    "# position: An integer assigned to this header that specifies the correct sort order for the headers in this block.\n",
    "# mu: The mean of the genotype calls for this header.\n",
    "# sig: The standard deviation of the genotype calls for this header.\n",
    "# Sample block mapping\n",
    "\n",
    "# The sample block mapping consists of key-value pairs, where each key is a sample block ID and each value is a list of sample IDs contained in that sample block.\n",
    "\n",
    "# The order of these IDs match the order of the values arrays in the block genotype DataFrame.\n",
    "# from glow.wgr.linear_model import RidgeReducer, RidgeRegression\n",
    "# from glow.wgr.functions import block_variants_and_samples, get_sample_ids\n",
    "# from pyspark.sql.functions import col, lit\n",
    "\n",
    "# variants_per_block = 1000\n",
    "# sample_block_count = 10\n",
    "# sample_ids = get_sample_ids(genotypes)\n",
    "# block_df, sample_blocks = block_variants_and_samples(\n",
    "#     genotypes, sample_ids, variants_per_block, sample_block_count)\n",
    "\n",
    "\n",
    "# # Step 5: dimensionality reduction\n",
    "# # This runs RidgeReducer\n",
    "# # This initializes some alphas\n",
    "# reducer = RidgeReducer()\n",
    "\n",
    "\n",
    "## Remaining questions:\n",
    "# 1) how do we do the leave one out ? Will we need a mapping between blocks and chromosomes?\n",
    "\n",
    "# Ah the paper has a much easier to follow thing.\n",
    "# Algorithm 1 is: blcok the genotype matrices, then calcuate G.T * G and G.T * Y (or in our case G @ G.T and G @ Y since our G is M snps by N samples)\n",
    "\n",
    "# Algorithm 2 seems like a way of getting around the sample blcoking thing\n",
    "# They create gtg_sum and gty_sum, which are elementwise sums where for a given variant block, you sum all the results (but you do it once per sample i think)"
   ]
  },
  {
   "cell_type": "code",
   "execution_count": null,
   "metadata": {},
   "outputs": [],
   "source": [
    "# ok, if too small then it blocks off the samples\n",
    "# Ok, we have 200 rows, of block size 50, 50 * 200 == 10_000, number of variants\n",
    "# columns we have 2 of, 2 * 50 == 100\n",
    "\n",
    "# interestingly when I transpose, and then take M, I get wrong number of columns\n",
    "max(darray2.T.m.c.collect())"
   ]
  },
  {
   "cell_type": "code",
   "execution_count": null,
   "metadata": {},
   "outputs": [],
   "source": [
    "darray2.m = darray2.m.annotate(x = hl.nd.inv(darray2.m.block.T @ darray.m.block))"
   ]
  },
  {
   "cell_type": "code",
   "execution_count": null,
   "metadata": {},
   "outputs": [],
   "source": [
    "darray2.m.show()"
   ]
  },
  {
   "cell_type": "code",
   "execution_count": null,
   "metadata": {},
   "outputs": [],
   "source": [
    "# Read first MatrixTable and clean\n",
    "\n",
    "# entries are now calls: An object that represents an individual’s call at a genomic locus\n",
    "mt = hl.read_matrix_table(\"balding_nichols_3_100_1000.mt\")\n",
    "\n",
    "# don't understand meaning of this: returns the count of non-reference alleles from each call\n",
    "mt = mt.transmute_entries(n_alt = hl.float64(mt.GT.n_alt_alleles())) \n",
    "\n",
    "mt.describe()"
   ]
  },
  {
   "cell_type": "code",
   "execution_count": null,
   "metadata": {},
   "outputs": [],
   "source": [
    "# Read first MatrixTable and clean\n",
    "\n",
    "# entries are now calls: An object that represents an individual’s call at a genomic locus\n",
    "mt = hl.read_matrix_table(\"balding_nichols_3_100_1000.mt\")\n",
    "\n",
    "# don't understand meaning of this: returns the count of non-reference alleles from each call\n",
    "mt = mt.transmute_entries(n_alt = hl.float64(mt.GT.n_alt_alleles())) \n",
    "\n",
    "mt.show()"
   ]
  },
  {
   "cell_type": "code",
   "execution_count": null,
   "metadata": {},
   "outputs": [],
   "source": [
    "mt.describe()"
   ]
  },
  {
   "cell_type": "code",
   "execution_count": null,
   "metadata": {},
   "outputs": [],
   "source": [
    "mt.n_partitions()"
   ]
  },
  {
   "cell_type": "code",
   "execution_count": null,
   "metadata": {},
   "outputs": [],
   "source": [
    "wd = \"/Users/alexkotlar/projects/hail/hail/python/test/data\"\n",
    "table = (hl.import_table(f\"{wd}/1kg_annotations.txt\", impute=True).key_by('Sample'))\n",
    "table"
   ]
  },
  {
   "cell_type": "code",
   "execution_count": null,
   "metadata": {},
   "outputs": [],
   "source": [
    "table.show()"
   ]
  },
  {
   "cell_type": "code",
   "execution_count": null,
   "metadata": {},
   "outputs": [],
   "source": [
    "print(mt.col.dtype)"
   ]
  },
  {
   "cell_type": "code",
   "execution_count": null,
   "metadata": {},
   "outputs": [],
   "source": [
    "hl.utils.get_1kg('data/')\n"
   ]
  },
  {
   "cell_type": "code",
   "execution_count": null,
   "metadata": {},
   "outputs": [],
   "source": [
    "hl.import_vcf('data/1kg.vcf.bgz').write('data/1kg.mt', overwrite=True)\n"
   ]
  },
  {
   "cell_type": "code",
   "execution_count": null,
   "metadata": {},
   "outputs": [],
   "source": [
    "mt = hl.read_matrix_table('data/1kg.mt')\n"
   ]
  },
  {
   "cell_type": "code",
   "execution_count": null,
   "metadata": {},
   "outputs": [],
   "source": [
    "mt.rows().select().show(5)\n"
   ]
  },
  {
   "cell_type": "code",
   "execution_count": null,
   "metadata": {},
   "outputs": [],
   "source": [
    "mt.count_rows()"
   ]
  },
  {
   "cell_type": "code",
   "execution_count": null,
   "metadata": {},
   "outputs": [],
   "source": [
    "rwd = \"/Users/alexkotlar/projects/regenie/example\"\n",
    "covars = hl.import_table(f\"{rwd}/covariates.txt\", impute=True, delimiter=\" \")\n",
    "phenos = hl.import_table(f\"{rwd}/phenotype.txt\", impute=True, delimiter=\" \")\n",
    "covariates"
   ]
  },
  {
   "cell_type": "code",
   "execution_count": null,
   "metadata": {},
   "outputs": [],
   "source": [
    "covariates.show()"
   ]
  },
  {
   "cell_type": "code",
   "execution_count": null,
   "metadata": {},
   "outputs": [],
   "source": [
    "mt = mt.transmute_entries(n_alt = hl.float64(mt.GT.n_alt_alleles())) \n",
    "\n",
    "mt.describe()"
   ]
  },
  {
   "cell_type": "code",
   "execution_count": null,
   "metadata": {},
   "outputs": [],
   "source": [
    "mt.show()"
   ]
  },
  {
   "cell_type": "code",
   "execution_count": null,
   "metadata": {},
   "outputs": [],
   "source": [
    "\n",
    "# Turn MatrixTable into Table\n",
    "\n",
    "ht = mt.localize_entries(\"ent\", \"sample\")\n",
    "ht.describe()"
   ]
  },
  {
   "cell_type": "code",
   "execution_count": null,
   "metadata": {},
   "outputs": [],
   "source": [
    "ht.show()"
   ]
  },
  {
   "cell_type": "code",
   "execution_count": null,
   "metadata": {},
   "outputs": [],
   "source": [
    "# Functions for operating with Tables of ndarrays in Hail (from Tim)\n",
    "\n",
    "from hail.expr import Expression, ExpressionException, \\\n",
    "    expr_float64, expr_call, expr_any, expr_numeric, expr_array, \\\n",
    "    expr_locus, \\\n",
    "    analyze, check_entry_indexed, check_row_indexed, \\\n",
    "    matrix_table_source, table_source\n",
    "\n",
    "# Only groups by rows, NOT COLUMNS\n",
    "def matrix_table_to_table_of_ndarrays(field, group_size, tmp_path = '/tmp/nd_table.ht'):\n",
    "    \"\"\"\n",
    "\n",
    "    The returned table has two fields: 'row_group_number' and 'ndarray'.\n",
    "\n",
    "    Examples\n",
    "    --------\n",
    "    >>> ht = matrix_table_to_table_of_ndarrays(mt.GT.n_alt_alleles(), 100)\n",
    "\n",
    "    Parameters\n",
    "    ----------\n",
    "    field\n",
    "    group_size\n",
    "    tmp_path\n",
    "\n",
    "    Returns\n",
    "    -------\n",
    "\n",
    "    \"\"\"\n",
    "    mt = matrix_table_source('matrix_table_to_table_of_ndarrays/x', field)\n",
    "    mt = mt.select_entries(x = field)\n",
    "    ht = mt.localize_entries(entries_array_field_name='entries')\n",
    "    # now ht.entries is an array of structs with one field, x\n",
    "\n",
    "    # we'll also want to mean-impute/variance-normalize/etc here\n",
    "    ht = ht.select(xs = ht.entries.map(lambda e: e['x']))\n",
    "    # now ht.xs is an array of float64\n",
    "\n",
    "    # now need to produce groups of G\n",
    "    ht = ht.add_index()\n",
    "    ht = ht.group_by(row_group_number=ht.idx // group_size) \\\n",
    "        .aggregate(ndarray=hl.nd.array(hl.agg.collect(ht.xs)))\n",
    "    # may require a .T on ndarray\n",
    "\n",
    "    return ht.checkpoint(tmp_path, overwrite=True)\n",
    "\n",
    "def chunk_ndarray(a, group_size):\n",
    "    \"\"\"Chunks a NDarray along the first axis in chunks of `group_size`.\n",
    "    Parameters\n",
    "    ----------\n",
    "    a\n",
    "    group_size\n",
    "\n",
    "    Returns\n",
    "    -------\n",
    "\n",
    "    \"\"\"\n",
    "    n_groups = a.shape[0] // group_size\n",
    "    groups = []\n",
    "    for i in range(a.shape[0] // group_size):\n",
    "        start = i * group_size\n",
    "        end = (i + 1) * group_size\n",
    "        groups.append(a[start:end, :])\n",
    "    return groups"
   ]
  },
  {
   "cell_type": "code",
   "execution_count": null,
   "metadata": {},
   "outputs": [],
   "source": []
  },
  {
   "cell_type": "code",
   "execution_count": null,
   "metadata": {},
   "outputs": [],
   "source": [
    "hl.balding_nichols_model?"
   ]
  },
  {
   "cell_type": "code",
   "execution_count": null,
   "metadata": {},
   "outputs": [],
   "source": [
    "bnm_mt.describe()"
   ]
  },
  {
   "cell_type": "code",
   "execution_count": null,
   "metadata": {},
   "outputs": [],
   "source": []
  },
  {
   "cell_type": "code",
   "execution_count": null,
   "metadata": {},
   "outputs": [],
   "source": []
  },
  {
   "cell_type": "code",
   "execution_count": null,
   "metadata": {},
   "outputs": [],
   "source": [
    "mt.rows().show()"
   ]
  },
  {
   "cell_type": "code",
   "execution_count": null,
   "metadata": {},
   "outputs": [],
   "source": [
    "test = dnd.array(bnm_mt, \"GT\")"
   ]
  },
  {
   "cell_type": "code",
   "execution_count": null,
   "metadata": {},
   "outputs": [],
   "source": [
    "test.show()"
   ]
  },
  {
   "cell_type": "code",
   "execution_count": null,
   "metadata": {},
   "outputs": [],
   "source": [
    "mt.show()"
   ]
  },
  {
   "cell_type": "code",
   "execution_count": null,
   "metadata": {},
   "outputs": [],
   "source": [
    "bnm_mt.GT."
   ]
  },
  {
   "cell_type": "code",
   "execution_count": null,
   "metadata": {},
   "outputs": [],
   "source": [
    "mt.show()"
   ]
  },
  {
   "cell_type": "code",
   "execution_count": null,
   "metadata": {},
   "outputs": [],
   "source": [
    "mt.GT.show()"
   ]
  },
  {
   "cell_type": "code",
   "execution_count": null,
   "metadata": {},
   "outputs": [],
   "source": [
    "df = hl.utils.range_table(100)\n",
    "df.show()"
   ]
  },
  {
   "cell_type": "code",
   "execution_count": null,
   "metadata": {},
   "outputs": [],
   "source": [
    "n_partitions = mt.n_partitions()\n",
    "block_size = 4096"
   ]
  },
  {
   "cell_type": "code",
   "execution_count": null,
   "metadata": {},
   "outputs": [],
   "source": [
    "import json\n",
    "fast_codec_spec = json.dumps({\n",
    "        \"name\": \"BlockingBufferSpec\",\n",
    "        \"blockSize\": 64 * 1024,\n",
    "        \"child\": {\n",
    "            \"name\": \"LZ4FastBlockBufferSpec\",\n",
    "            \"blockSize\": 64 * 1024,\n",
    "            \"child\": {\n",
    "                \"name\": \"StreamBlockBufferSpec\"}}})"
   ]
  },
  {
   "cell_type": "code",
   "execution_count": null,
   "metadata": {},
   "outputs": [],
   "source": [
    "from hail.utils.java import Env"
   ]
  },
  {
   "cell_type": "code",
   "execution_count": null,
   "metadata": {},
   "outputs": [],
   "source": [
    "n_rows, n_cols = mt.count()\n",
    "n_block_rows = (n_rows + block_size - 1) // block_size\n",
    "n_block_cols = (n_cols + block_size - 1) // block_size\n",
    "entries, cols, row_index, col_blocks = (Env.get_uid() for _ in range(4))"
   ]
  },
  {
   "cell_type": "code",
   "execution_count": null,
   "metadata": {},
   "outputs": [],
   "source": [
    "entries"
   ]
  },
  {
   "cell_type": "code",
   "execution_count": null,
   "metadata": {},
   "outputs": [],
   "source": [
    "cols"
   ]
  },
  {
   "cell_type": "code",
   "execution_count": null,
   "metadata": {},
   "outputs": [],
   "source": [
    "row_index"
   ]
  },
  {
   "cell_type": "code",
   "execution_count": null,
   "metadata": {},
   "outputs": [],
   "source": [
    "n_block_rows"
   ]
  },
  {
   "cell_type": "code",
   "execution_count": null,
   "metadata": {},
   "outputs": [],
   "source": [
    "n_block_cols"
   ]
  },
  {
   "cell_type": "code",
   "execution_count": null,
   "metadata": {},
   "outputs": [],
   "source": [
    "np.array([[0,1,2], [3,4,5]])"
   ]
  },
  {
   "cell_type": "code",
   "execution_count": null,
   "metadata": {},
   "outputs": [],
   "source": [
    "nd = np.array([[0,1,2], [2,3,4]])\n",
    "\n",
    "n_rows = nd.shape[0]"
   ]
  },
  {
   "cell_type": "code",
   "execution_count": null,
   "metadata": {},
   "outputs": [],
   "source": [
    "n_rows"
   ]
  },
  {
   "cell_type": "code",
   "execution_count": null,
   "metadata": {},
   "outputs": [],
   "source": [
    "nd[3 // n_rows, 3 % n_rows]"
   ]
  },
  {
   "cell_type": "code",
   "execution_count": null,
   "metadata": {},
   "outputs": [],
   "source": [
    "4 // n_rows"
   ]
  },
  {
   "cell_type": "code",
   "execution_count": null,
   "metadata": {},
   "outputs": [],
   "source": [
    "4 % n_rows"
   ]
  },
  {
   "cell_type": "code",
   "execution_count": null,
   "metadata": {},
   "outputs": [],
   "source": [
    "\n",
    "nd = np.array([[0,1,2], [3,4,5]])\n",
    "nd"
   ]
  },
  {
   "cell_type": "code",
   "execution_count": null,
   "metadata": {},
   "outputs": [],
   "source": [
    "nd[1,1]"
   ]
  },
  {
   "cell_type": "code",
   "execution_count": null,
   "metadata": {},
   "outputs": [],
   "source": [
    "4 % 2"
   ]
  },
  {
   "cell_type": "code",
   "execution_count": null,
   "metadata": {},
   "outputs": [],
   "source": [
    "4 // 2"
   ]
  },
  {
   "cell_type": "code",
   "execution_count": null,
   "metadata": {},
   "outputs": [],
   "source": [
    "nd[4 % 2, 4 // 2]"
   ]
  },
  {
   "cell_type": "code",
   "execution_count": null,
   "metadata": {},
   "outputs": [],
   "source": [
    "i = 1\n",
    "n_rows = 2\n",
    "n_cols = 3\n",
    "\n",
    "nd.T[i % n_rows, i // n_cols]"
   ]
  },
  {
   "cell_type": "code",
   "execution_count": null,
   "metadata": {},
   "outputs": [],
   "source": [
    "nd[i // n_cols, i % n_cols]"
   ]
  },
  {
   "cell_type": "code",
   "execution_count": null,
   "metadata": {},
   "outputs": [],
   "source": [
    "4 // 3"
   ]
  },
  {
   "cell_type": "code",
   "execution_count": null,
   "metadata": {},
   "outputs": [],
   "source": [
    "nd.shape"
   ]
  },
  {
   "cell_type": "code",
   "execution_count": null,
   "metadata": {},
   "outputs": [],
   "source": [
    "10 % 3"
   ]
  },
  {
   "cell_type": "code",
   "execution_count": null,
   "metadata": {},
   "outputs": [],
   "source": [
    "10 - 3 * (10 // 3)"
   ]
  },
  {
   "cell_type": "code",
   "execution_count": null,
   "metadata": {},
   "outputs": [],
   "source": [
    "def eye(N, M=None, dtype=hl.tfloat64):\n",
    "    \"\"\"\n",
    "    Construct a 2-D :class:`.NDArrayExpression` with ones on the *main* diagonal\n",
    "    and zeros elsewhere.\n",
    "\n",
    "    Parameters\n",
    "    ----------\n",
    "    N : :class:`.NumericExpression` or Python number\n",
    "      Number of rows in the output.\n",
    "    M : :class:`.NumericExpression` or Python number, optional\n",
    "      Number of columns in the output. If None, defaults to `N`.\n",
    "    dtype : numeric :class:`.HailType`, optional\n",
    "      Element type of the returned array. Defaults to :py:data:`.tfloat64`\n",
    "\n",
    "    Returns\n",
    "    -------\n",
    "    I : :class:`.NDArrayExpression` representing a Hail ndarray of shape (N,M)\n",
    "      An ndarray whose elements are equal to one on the main diagonal, zeroes elsewhere.\n",
    "\n",
    "    See Also\n",
    "    --------\n",
    "    :func:`.identity`\n",
    "    :func:`.diagonal`\n",
    "\n",
    "    Examples\n",
    "    --------\n",
    "    >>> hl.eval(hl.nd.eye(3))\n",
    "    array([[1., 0., 0.],\n",
    "           [0., 1., 0.],\n",
    "           [0., 0., 1.]])\n",
    "    >>> hl.eval(hl.nd.eye(2, 5, dtype=hl.tint32))\n",
    "    array([[1, 0, 0, 0, 0],\n",
    "           [0, 1, 0, 0, 0]], dtype=int32)\n",
    "    \"\"\"\n",
    "\n",
    "    n_row = hl.int32(N)\n",
    "    if M is None:\n",
    "        n_col = n_row\n",
    "    else:\n",
    "        n_col = hl.int32(M)\n",
    "\n",
    "    return hl.nd.array(hl.range(0, n_row * n_col).map(\n",
    "        lambda i: hl.cond((i // n_col) == (i % n_col),\n",
    "                          hl.literal(1, dtype),\n",
    "                          hl.literal(0, dtype))\n",
    "    )).reshape((n_row, n_col))"
   ]
  },
  {
   "cell_type": "code",
   "execution_count": null,
   "metadata": {},
   "outputs": [],
   "source": [
    "for i in range(13):\n",
    "    for y in range(13):\n",
    "        assert(np.allclose(hl.eval(eye(i,y)), np.eye(i,y)))"
   ]
  },
  {
   "cell_type": "code",
   "execution_count": null,
   "metadata": {},
   "outputs": [],
   "source": [
    "i = 5\n",
    "i - (i // n_cols) * n_cols"
   ]
  },
  {
   "cell_type": "code",
   "execution_count": null,
   "metadata": {},
   "outputs": [],
   "source": [
    "import numpy as np\n",
    "import hail as hl\n",
    "a = np.array([1, 2, 3])\n",
    "b = np.array([2, 3, 4])\n",
    "ah = hl.nd.array([1,2,3])\n",
    "bh = hl.nd.array([2,3,4])\n",
    "\n",
    "ah2 = hl.nd.array([[1], [2], [3]])\n",
    "bh2 = hl.nd.array([[2], [3], [4]])\n",
    "print(ah.ndim)\n",
    "print(\"stfuff\")\n",
    "# print(hl.eval(hl.nah._broadcast(2)))\n",
    "print(hl.eval(hl.nd.vstack((ah,bh))))\n",
    "print(hl.eval(hl.nd.vstack((ah2,bh2))))\n",
    "print(\"past\")\n",
    "print(hl.eval(hl.nd.concatenate((ah,bh),axis=0)))\n",
    "print(np.vstack((a,b)))\n",
    "print(hl.eval(ah.shape == bh.shape))\n",
    "# print(hl.eval(hl.nd.resha))\n",
    "print(ah.shape)\n",
    "print(hl.array((ah,bh)))"
   ]
  },
  {
   "cell_type": "code",
   "execution_count": null,
   "metadata": {},
   "outputs": [],
   "source": [
    "import hail as hl\n",
    "import numpy as np\n",
    "a = np.array([1, 2, 3])\n",
    "b = np.array([2, 3, 4])\n",
    "\n",
    "seq = (a,b)\n",
    "assert(np.allclose(hl.eval(hl.nd.vstack(seq)), np.vstack(seq)))\n",
    "\n",
    "a = np.array([[1], [2], [3]])\n",
    "b = np.array([[2], [3], [4]])\n",
    "seq = (a,b)\n",
    "assert(np.allclose(hl.eval(hl.nd.vstack(seq)), np.vstack(seq)))"
   ]
  },
  {
   "cell_type": "code",
   "execution_count": null,
   "metadata": {},
   "outputs": [],
   "source": [
    "\n",
    "def _broadcast(nd, n_output_dims, axis=0):\n",
    "        assert nd.ndim < n_output_dims\n",
    "        print(\"nd.ndim\", nd.ndim)\n",
    "        # Right-align existing dimensions and start prepending new ones\n",
    "        # to the left: e.g. [0, 1] -> [3, 2, 0, 1]\n",
    "        # Based off numpy broadcasting with the assumption that everything\n",
    "        # can be thought to have an infinite number of 1-length dimensions\n",
    "        # prepended\n",
    "        old_dims = range(nd.ndim)\n",
    "        if axis == 1:\n",
    "            new_dims = range(nd.ndim, n_output_dims)\n",
    "        else:\n",
    "            new_dim = range(nd.ndim, n_output_dims)\n",
    "        print(\"old dims\", old_dims)\n",
    "        print(\"new_dims\", new_dims)\n",
    "        idx_mapping = list(reversed(new_dims)) + list(old_dims)\n",
    "        print(idx_mapping)"
   ]
  },
  {
   "cell_type": "code",
   "execution_count": null,
   "metadata": {},
   "outputs": [],
   "source": [
    "_broadcast(x, 2)"
   ]
  },
  {
   "cell_type": "code",
   "execution_count": null,
   "metadata": {},
   "outputs": [],
   "source": [
    "ah.ndim"
   ]
  },
  {
   "cell_type": "code",
   "execution_count": null,
   "metadata": {},
   "outputs": [],
   "source": [
    "x = np.array([1, 2])\n",
    "y = np.expand_dims(x, axis=1)\n",
    "y.shape"
   ]
  },
  {
   "cell_type": "code",
   "execution_count": null,
   "metadata": {},
   "outputs": [],
   "source": [
    "x = hl.nd.array([1., 2.])\n",
    "y = hl.nd.array([3., 4.])\n",
    "hl.eval(hl.nd.concatenate((x, y), axis=0))"
   ]
  },
  {
   "cell_type": "code",
   "execution_count": null,
   "metadata": {},
   "outputs": [],
   "source": [
    "np.vstack(([1,2,3],[4,5,6]))"
   ]
  },
  {
   "cell_type": "code",
   "execution_count": null,
   "metadata": {},
   "outputs": [],
   "source": [
    "a = np.array([[1],[2],[3]])\n",
    "b = np.array([[2],[3],[4]])\n",
    "\n",
    "np.hstack((a,b))"
   ]
  },
  {
   "cell_type": "code",
   "execution_count": null,
   "metadata": {},
   "outputs": [],
   "source": [
    "hl.eval(hl.nd.vstack((a,b)))"
   ]
  },
  {
   "cell_type": "code",
   "execution_count": null,
   "metadata": {},
   "outputs": [],
   "source": [
    "a = np.array([1, 2, 3])\n",
    "b = np.array([2, 3, 4])\n",
    "\n",
    "seq = (a,b)\n",
    "assert(np.array_equal(hl.eval(hl.nd.vstack(seq)), np.vstack(seq)))"
   ]
  },
  {
   "cell_type": "code",
   "execution_count": null,
   "metadata": {},
   "outputs": [],
   "source": [
    "for i in range(13):\n",
    "            for y in range(13):\n",
    "                assert(np.array_equal(hl.eval(hl.nd.eye(i,y)), np.eye(i,y)))"
   ]
  },
  {
   "cell_type": "code",
   "execution_count": null,
   "metadata": {},
   "outputs": [],
   "source": [
    "x = np.array([[1., 2.], [3., 4.]])\n",
    "y = np.array([[5.], [6.]])\n",
    "np_res = np.concatenate([x, y], axis=1)\n",
    "\n",
    "res = hl.eval(hl.nd.concatenate([x, y], axis=1))\n",
    "assert np.array_equal(np_res, res)"
   ]
  },
  {
   "cell_type": "code",
   "execution_count": null,
   "metadata": {},
   "outputs": [],
   "source": [
    "c = np.random.randn(5, 5)\n",
    "d = np.linalg.inv(c)\n",
    "dhail = hl.eval(hl.nd.inv(c))\n",
    "assert np.allclose(dhail, d)"
   ]
  },
  {
   "cell_type": "code",
   "execution_count": null,
   "metadata": {},
   "outputs": [],
   "source": [
    "hl.eval(hl.nd.eye(2, 5, dtype=hl.tint32))"
   ]
  },
  {
   "cell_type": "code",
   "execution_count": null,
   "metadata": {},
   "outputs": [],
   "source": [
    "x = hl.nd.array([[1., 2.], [3., 4.]])\n",
    "y = hl.nd.array([[5.], [6.]])\n",
    "res = hl.nd.concatenate([x, y], axis=1)\n",
    "hl.eval(res)"
   ]
  },
  {
   "cell_type": "code",
   "execution_count": null,
   "metadata": {},
   "outputs": [],
   "source": [
    "import hail as hl\n",
    "import numpy as np\n",
    "a = hl.nd.array([1, 2, 3])\n",
    "b = hl.nd.array([2, 3, 4])\n",
    "hl.eval(hl.nd.vstack((a,b)))"
   ]
  },
  {
   "cell_type": "code",
   "execution_count": null,
   "metadata": {},
   "outputs": [],
   "source": [
    "a = hl.nd.array([[1.], [2], [3]])\n",
    "b = hl.nd.array([[2.], [3], [4]])\n",
    "hl.eval(hl.nd.vstack((a,b)))"
   ]
  },
  {
   "cell_type": "code",
   "execution_count": null,
   "metadata": {},
   "outputs": [],
   "source": [
    "hl.eval(hl.nd.identity(3))"
   ]
  },
  {
   "cell_type": "code",
   "execution_count": null,
   "metadata": {},
   "outputs": [],
   "source": [
    "# import glow\n",
    "# import hail as hl\n",
    "# import numpy as np\n",
    "# from pyspark.sql import SparkSession\n",
    "# from pyspark import SparkContext\n",
    "\n",
    "# hl.stop()\n",
    "# hl.init()\n",
    "# spark = SparkSession(SparkContext._active_spark_context)\n",
    "# glow.register(spark)\n",
    "# spark = SparkSession.builder\\\n",
    "#     .config('spark.jars.packages', 'io.projectglow:glow_2.11:0.5.0')\\\n",
    "#     .config(\"spark.sql.execution.arrow.pyspark.enabled\", \"true\")\\\n",
    "#     .getOrCreate()\n",
    "# glow.register(spark)\n",
    "\n"
   ]
  },
  {
   "cell_type": "code",
   "execution_count": null,
   "metadata": {},
   "outputs": [],
   "source": [
    "# thanks to Eric Czech\n",
    "# https://github.com/projectglow/glow/issues/257\n",
    "# Ah, that wasn't the issue; it doesn't look like you can have hail and glow running\n",
    "# at the same time, because of Spark\n",
    "# also good discussion here: https://github.com/projectglow/glow/issues/255\n",
    "import glow\n",
    "from glow import linear_regression_gwas, expand_struct\n",
    "import numpy as np\n",
    "from pyspark.ml.linalg import DenseMatrix\n",
    "from pyspark.sql.session import SparkSession\n",
    "from pyspark.sql import Row\n",
    "from pyspark.sql import functions as F\n",
    "\n",
    "spark = SparkSession.builder\\\n",
    "    .config('spark.jars.packages', 'io.projectglow:glow_2.11:0.5.0')\\\n",
    "    .config(\"spark.sql.execution.arrow.pyspark.enabled\", \"true\")\\\n",
    "    .getOrCreate()\n",
    "glow.register(spark)"
   ]
  },
  {
   "cell_type": "code",
   "execution_count": null,
   "metadata": {},
   "outputs": [],
   "source": [
    "variants_path = 'dbfs:/databricks-datasets/genomics/gwas/hapgen-variants.delta'\n",
    "phenotypes_path = '/dbfs/databricks-datasets/genomics/gwas/Ysim_test_simulation.csv'\n",
    "covariates_path = '/dbfs/databricks-datasets/genomics/gwas/Covs_test_simulation.csv'\n",
    "\n",
    "y_hat_path = '/dbfs/tmp/wgr_y_hat.csv'\n",
    "gwas_results_path = '/dbfs/tmp/wgr_gwas_results.delta'\n",
    "\n",
    "base_variant_df = spark.read.format('delta').load(variants_path)\n",
    "variant_df = glow.transform('split_multiallelics', base_variant_df) \\\n",
    "  .withColumn('values', mean_substitute(genotype_states(col('genotypes')))) \\\n",
    "  .filter(size(array_distinct('values')) > 1)"
   ]
  },
  {
   "cell_type": "code",
   "execution_count": null,
   "metadata": {},
   "outputs": [],
   "source": []
  },
  {
   "cell_type": "code",
   "execution_count": null,
   "metadata": {},
   "outputs": [],
   "source": [
    "import glow\n",
    "from glow import *\n",
    "from glow.wgr.functions import *\n",
    "from glow.wgr.linear_model import *\n",
    "\n",
    "import numpy as np\n",
    "import pandas as pd\n",
    "from pyspark.sql import *\n",
    "from pyspark.sql.functions import *\n",
    "from pyspark.sql.types import *\n",
    "import pyspark\n",
    "from matplotlib import pyplot as plt\n",
    "from bioinfokit import visuz\n",
    "import DBUtils as dbutils\n",
    "\n",
    "# dbutils is a databricks-only thing\n",
    "# pyspark.dbutils.widgets.text('variants_per_block', '1000')\n",
    "# pyspark.dbutils.widgets.text('sample_block_count', '10')"
   ]
  },
  {
   "cell_type": "code",
   "execution_count": null,
   "metadata": {},
   "outputs": [],
   "source": []
  },
  {
   "cell_type": "code",
   "execution_count": null,
   "metadata": {},
   "outputs": [],
   "source": []
  },
  {
   "cell_type": "code",
   "execution_count": null,
   "metadata": {},
   "outputs": [],
   "source": []
  },
  {
   "cell_type": "markdown",
   "metadata": {},
   "source": [
    "# Trying to understand DNDArray"
   ]
  },
  {
   "cell_type": "code",
   "execution_count": null,
   "metadata": {},
   "outputs": [],
   "source": [
    "# import json\n",
    "# import numpy as np\n",
    "# from typing import Optional, Tuple, Callable\n",
    "\n",
    "# from hail.utils.java import Env\n",
    "# from hail.utils import range_table, new_temp_file\n",
    "# from hail.expr import Expression\n",
    "# from hail import nd\n",
    "# from hail.matrixtable import MatrixTable\n",
    "# from hail.table import Table\n",
    "# from hail.experimental.dnd import DNDArray\n",
    "# import hail as hl\n",
    "\n",
    "\n",
    "\n",
    "\n",
    "\n",
    "# block_size = 1000\n",
    "# row_block_size = 1000\n",
    "# col_block_size = 1000\n",
    "# entrc_field = \"ac\"\n",
    "\n",
    "# n_rows, n_cols = mt.count()\n",
    "# n_block_rows = (n_rows + block_size - 1) // block_size\n",
    "# n_block_cols = 1 #(n_cols + block_size - 1) // block_size\n",
    "# print(\"n_cols\", n_cols, \"n_rows\", n_rows, \"n_block_rows\", n_block_rows, \"n_block_cols\", n_block_cols)\n",
    "# entries, cols, row_index, col_blocks = (Env.get_uid() for _ in range(4))\n",
    "\n",
    "\n",
    "# ################### localize_entries takes the entry field, which is separated into n columns, and stuffs all of that data into a single field, which is a \n",
    "# # array of structs, where the struct contains all of the entry fields you specied (I suppose you could specify multiple? else struct is wasteful)\n",
    "# # I suppose since it's an array, we retain the order found in the original mt, so sample_idx, or sample names (which I think is a column field?) should remain\n",
    "# # There is something added called col_idx...not sure what that is\n",
    "# mt = (mt\n",
    "#       .select_globals()\n",
    "#       .select_rows()\n",
    "#       .select_cols()\n",
    "#       .add_row_index(row_index)\n",
    "#       .localize_entries(entries, cols))\n",
    "# print(\"\"\"After mt = (mt\n",
    "#       .select_globals()\n",
    "#       .select_rows()\n",
    "#       .select_cols()\n",
    "#       .add_row_index(row_index)\n",
    "#       .localize_entries(entries, cols))\"\"\")\n",
    "# print(mt.show())\n",
    "# mt.describe()\n",
    "\n",
    "# ################## This step transformed the array of structs to an array of the values of one of the fields in that struct ########\n",
    "# # FIXME: remove when ndarray support structs\n",
    "# mt = mt.annotate(**{entries: mt[entries][entrc_field]})\n",
    "# print(\"after mt.annotate(**{entries: mt[entries][entrc_field]})\")\n",
    "# print(mt.show())\n",
    "# mt.describe()\n",
    "\n",
    "# ################## This step creates a new field, labeled whatever col_blocks stores\n",
    "# # creating an array of struct{c: <int>, entries: <array from place to next blcok>}\n",
    "# # We currently don't need this step, since we're not blocking on column\n",
    "# mt = mt.annotate(\n",
    "#     **{col_blocks: hl.range(n_block_cols).map(\n",
    "#         lambda c: hl.struct(\n",
    "#             c=c,\n",
    "#             entries=mt[entries][(c * block_size):((c + 1) * block_size)]))}\n",
    "# )\n",
    "# print(\"\"\"after mt = mt.annotate(\n",
    "#     **{col_blocks: hl.range(n_block_cols).map(\n",
    "#         lambda c: hl.struct(\n",
    "#             c=c,\n",
    "#             entries=mt[entries][(c * block_size):((c + 1) * block_size)]))}\n",
    "# )\"\"\")\n",
    "# print(mt.show())\n",
    "# mt.describe()\n",
    "\n",
    "\n",
    "# ################## This creates 2 columns, one labeled \"c\" the other \"entries\"\n",
    "# # which are the fields of the struct we created above\n",
    "# # again we don't need this\n",
    "\n",
    "# mt = mt.explode(col_blocks)\n",
    "\n",
    "# print(\"after mt = mt.explode(col_blocks)\")\n",
    "# print(mt.show())\n",
    "# mt.describe()\n",
    "\n",
    "# ################ This gets rid of the fields entries and col_blocks, which is kind of ugly magic\n",
    "# mt = mt.select(row_index, **mt[col_blocks])\n",
    "# print(\"after mt = mt.select(row_index, **mt[col_blocks])\")\n",
    "# print(mt.show())\n",
    "# mt.describe()\n",
    "# ################ My own test: For some reason this mt[row_index].collect() seems to just return all the row indices\n",
    "# # but mt[row_index].show() shows the full matrix table...\n",
    "# # anyway, this seems fairly clearly to be usable in table context to count the row\n",
    "# #print(\"mt[row_index].collect()\")\n",
    "# #print(mt[row_index].collect())\n",
    "# ################ This greates groupings, I think. row_index I'm not sure where it come from, \n",
    "# mt = mt.annotate(r=hl.int(mt[row_index] // block_size))\n",
    "# print(\"after mt = mt.annotate(r=hl.int(mt[row_index] // block_size))\")\n",
    "# print(mt.show())\n",
    "# mt.describe()\n",
    "\n",
    "# mt = mt.key_by(mt.r, mt.c)\n",
    "# print(\"after mt = mt.key_by(mt.r, mt.c)\")\n",
    "# print(mt.show())\n",
    "# mt.describe()\n",
    "# print(\"what type is it\", mt)\n",
    "\n",
    "# # Not sure why entries=hl.sorted is neededd here\n",
    "# mt = mt.group_by(mt.r, mt.c).aggregate(\n",
    "#     entries=hl.sorted(\n",
    "#         hl.agg.collect(hl.struct(row_index=mt[row_index], entries=mt.entries)),\n",
    "#         key=lambda x: x.row_index\n",
    "#     ).map(lambda x: x.entries))\n",
    "# print(\"\"\"after mt = mt.group_by(mt.r, mt.c).aggregate(\n",
    "#     entries=hl.sorted(\n",
    "#         hl.agg.collect(hl.struct(row_index=mt[row_index], entries=mt.entries)),\n",
    "#         key=lambda x: x.row_index\n",
    "#     ).map(lambda x: x.entries))\"\"\")\n",
    "# print(mt.show())\n",
    "# mt.describe()\n",
    "\n",
    "# mt = mt.select(block=hl.nd.array(mt.entries))\n",
    "# print(\"after mt = mt.select(block=hl.nd.array(mt.entries))\")\n",
    "# print(mt.show())\n",
    "# mt.describe()\n",
    "\n",
    "# mt = mt.select_globals(\n",
    "#     r_field='r',\n",
    "#     c_field='c',\n",
    "#     n_rows=n_rows,\n",
    "#     n_cols=n_cols,\n",
    "#     n_block_rows=n_block_rows,\n",
    "#     n_block_cols=n_block_cols,\n",
    "#     block_size=block_size)\n",
    "# print(\"\"\"after mt = mt.select_globals(\n",
    "#     r_field='r',\n",
    "#     c_field='c',\n",
    "#     n_rows=n_rows,\n",
    "#     n_cols=n_cols,\n",
    "#     n_block_rows=n_block_rows,\n",
    "#     n_block_cols=n_block_cols,\n",
    "#     block_size=block_size)\"\"\")\n",
    "# print(mt.show())\n",
    "# mt.describe()\n",
    "\n",
    "# fname = new_temp_file()\n",
    "# mt = mt.key_by(mt.r, mt.c)\n",
    "# print(\"after mt = mt.key_by(mt.r, mt.c)\")\n",
    "# print(mt.show())\n",
    "# mt.describe()\n",
    "\n",
    "# mt.write(fname, _codec_spec=DNDArray.fast_codec_spec)\n",
    "# t = hl.read_table(fname, _intervals=[\n",
    "#     hl.Interval(hl.Struct(r=i, c=j),\n",
    "#                 hl.Struct(r=i, c=j + 1))\n",
    "#     for i in range(n_block_rows)\n",
    "#     for j in range(n_block_cols)])\n",
    "# print(\"\"\"table resulting from t = hl.read_table(fname, _intervals=[\n",
    "#     hl.Interval(hl.Struct(r=i, c=j),\n",
    "#                 hl.Struct(r=i, c=j + 1))\n",
    "#     for i in range(n_block_rows)\n",
    "#     for j in range(n_block_cols)])\"\"\")\n",
    "# print(t.show())\n",
    "# mt.describe()\n",
    "\n",
    "# mtNew = mt"
   ]
  }
 ],
 "metadata": {
  "kernelspec": {
   "display_name": "Python 3",
   "language": "python",
   "name": "python3"
  },
  "language_info": {
   "codemirror_mode": {
    "name": "ipython",
    "version": 3
   },
   "file_extension": ".py",
   "mimetype": "text/x-python",
   "name": "python",
   "nbconvert_exporter": "python",
   "pygments_lexer": "ipython3",
   "version": "3.7.6-final"
  }
 },
 "nbformat": 4,
 "nbformat_minor": 4
}